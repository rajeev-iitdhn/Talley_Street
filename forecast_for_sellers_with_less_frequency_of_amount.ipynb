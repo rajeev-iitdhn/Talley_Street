{
 "cells": [
  {
   "cell_type": "markdown",
   "metadata": {},
   "source": [
    "**THIS NOTEBOOKS CONTAINS EXPLORATARY FORECASTING OF AMOUNT OF SELLERS FOR WHOM ARIMA MODEL IS NOT SUITABLE.**"
   ]
  },
  {
   "cell_type": "markdown",
   "metadata": {},
   "source": [
    "**To prepare ARIMA there should be at least 100 observations for forecasting the model.**\n",
    "https://www.researchgate.net/post/What_should_be_the_minimum_number_of_observations_for_a_time_series_model"
   ]
  },
  {
   "cell_type": "markdown",
   "metadata": {},
   "source": [
    "**COUNT WISE SELLERES**"
   ]
  },
  {
   "cell_type": "code",
   "execution_count": 116,
   "metadata": {},
   "outputs": [
    {
     "data": {
      "text/html": [
       "<div>\n",
       "<style scoped>\n",
       "    .dataframe tbody tr th:only-of-type {\n",
       "        vertical-align: middle;\n",
       "    }\n",
       "\n",
       "    .dataframe tbody tr th {\n",
       "        vertical-align: top;\n",
       "    }\n",
       "\n",
       "    .dataframe thead th {\n",
       "        text-align: right;\n",
       "    }\n",
       "</style>\n",
       "<table border=\"1\" class=\"dataframe\">\n",
       "  <thead>\n",
       "    <tr style=\"text-align: right;\">\n",
       "      <th></th>\n",
       "      <th>Count</th>\n",
       "    </tr>\n",
       "  </thead>\n",
       "  <tbody>\n",
       "    <tr>\n",
       "      <th>13</th>\n",
       "      <td>645</td>\n",
       "    </tr>\n",
       "    <tr>\n",
       "      <th>10</th>\n",
       "      <td>18020</td>\n",
       "    </tr>\n",
       "    <tr>\n",
       "      <th>16</th>\n",
       "      <td>948</td>\n",
       "    </tr>\n",
       "    <tr>\n",
       "      <th>6</th>\n",
       "      <td>32</td>\n",
       "    </tr>\n",
       "    <tr>\n",
       "      <th>8</th>\n",
       "      <td>1541</td>\n",
       "    </tr>\n",
       "    <tr>\n",
       "      <th>20</th>\n",
       "      <td>2271</td>\n",
       "    </tr>\n",
       "    <tr>\n",
       "      <th>19</th>\n",
       "      <td>2</td>\n",
       "    </tr>\n",
       "    <tr>\n",
       "      <th>9</th>\n",
       "      <td>2742</td>\n",
       "    </tr>\n",
       "    <tr>\n",
       "      <th>11</th>\n",
       "      <td>3944</td>\n",
       "    </tr>\n",
       "    <tr>\n",
       "      <th>14</th>\n",
       "      <td>2463</td>\n",
       "    </tr>\n",
       "    <tr>\n",
       "      <th>12</th>\n",
       "      <td>6853</td>\n",
       "    </tr>\n",
       "    <tr>\n",
       "      <th>15</th>\n",
       "      <td>4008</td>\n",
       "    </tr>\n",
       "    <tr>\n",
       "      <th>17</th>\n",
       "      <td>539</td>\n",
       "    </tr>\n",
       "    <tr>\n",
       "      <th>1</th>\n",
       "      <td>3</td>\n",
       "    </tr>\n",
       "    <tr>\n",
       "      <th>18</th>\n",
       "      <td>1641</td>\n",
       "    </tr>\n",
       "    <tr>\n",
       "      <th>2</th>\n",
       "      <td>597</td>\n",
       "    </tr>\n",
       "    <tr>\n",
       "      <th>3</th>\n",
       "      <td>96</td>\n",
       "    </tr>\n",
       "    <tr>\n",
       "      <th>5</th>\n",
       "      <td>1560</td>\n",
       "    </tr>\n",
       "  </tbody>\n",
       "</table>\n",
       "</div>"
      ],
      "text/plain": [
       "    Count\n",
       "13    645\n",
       "10  18020\n",
       "16    948\n",
       "6      32\n",
       "8    1541\n",
       "20   2271\n",
       "19      2\n",
       "9    2742\n",
       "11   3944\n",
       "14   2463\n",
       "12   6853\n",
       "15   4008\n",
       "17    539\n",
       "1       3\n",
       "18   1641\n",
       "2     597\n",
       "3      96\n",
       "5    1560"
      ]
     },
     "execution_count": 116,
     "metadata": {},
     "output_type": "execute_result"
    }
   ],
   "source": [
    "uniq=[]\n",
    "for k in dump.SellerId.unique():\n",
    "    uniq.append(len(dump[dump.SellerId==k]))    \n",
    "count_wise_sellers=pd.DataFrame(uniq, index=dump.SellerId.unique(), columns=[\"Count\"])\n",
    "count_wise_sellers"
   ]
  },
  {
   "cell_type": "markdown",
   "metadata": {},
   "source": [
    "*From above output we can conclude that sellers 1,3 and 6 are having inadequate frequecy to be considered for application of ARIMA model* "
   ]
  },
  {
   "cell_type": "markdown",
   "metadata": {},
   "source": [
    "<font color=\"red\"> **FORECAST FOR SELLER_6**</font>"
   ]
  },
  {
   "cell_type": "code",
   "execution_count": 6,
   "metadata": {},
   "outputs": [],
   "source": [
    "#Importing the prerequisite libraries that are to be used further.\n",
    "import pandas as pd\n",
    "import warnings\n",
    "import itertools\n",
    "import numpy as np\n",
    "import matplotlib.pyplot as plt\n",
    "warnings.filterwarnings(\"ignore\")\n",
    "plt.style.use('fivethirtyeight')\n",
    "import statsmodels.api as sm\n",
    "import matplotlib.pyplot as plt"
   ]
  },
  {
   "cell_type": "markdown",
   "metadata": {},
   "source": [
    "**Below is our original csv file**"
   ]
  },
  {
   "cell_type": "code",
   "execution_count": 7,
   "metadata": {},
   "outputs": [],
   "source": [
    "dump=pd.read_csv(\"dump.csv\")"
   ]
  },
  {
   "cell_type": "code",
   "execution_count": 8,
   "metadata": {},
   "outputs": [
    {
     "data": {
      "text/html": [
       "<div>\n",
       "<style scoped>\n",
       "    .dataframe tbody tr th:only-of-type {\n",
       "        vertical-align: middle;\n",
       "    }\n",
       "\n",
       "    .dataframe tbody tr th {\n",
       "        vertical-align: top;\n",
       "    }\n",
       "\n",
       "    .dataframe thead th {\n",
       "        text-align: right;\n",
       "    }\n",
       "</style>\n",
       "<table border=\"1\" class=\"dataframe\">\n",
       "  <thead>\n",
       "    <tr style=\"text-align: right;\">\n",
       "      <th></th>\n",
       "      <th>Unnamed: 0</th>\n",
       "      <th>Id</th>\n",
       "      <th>TransactionDate</th>\n",
       "      <th>DueDate</th>\n",
       "      <th>DateFullyPaid</th>\n",
       "      <th>SellerId</th>\n",
       "      <th>BuyerId</th>\n",
       "      <th>Amount</th>\n",
       "      <th>Balance</th>\n",
       "      <th>Deposit</th>\n",
       "      <th>...</th>\n",
       "      <th>SalesTerm</th>\n",
       "      <th>Estimate</th>\n",
       "      <th>sel_id</th>\n",
       "      <th>sel_orgtype</th>\n",
       "      <th>sel_Business_type</th>\n",
       "      <th>sel_fiscal_year_start_month</th>\n",
       "      <th>buy_id</th>\n",
       "      <th>buy_first_engaged</th>\n",
       "      <th>buy_most_recent_engaged</th>\n",
       "      <th>buy_prev_engaged</th>\n",
       "    </tr>\n",
       "  </thead>\n",
       "  <tbody>\n",
       "    <tr>\n",
       "      <th>0</th>\n",
       "      <td>0</td>\n",
       "      <td>379967</td>\n",
       "      <td>2019-03-15T00:00:00.000Z</td>\n",
       "      <td>2019-04-14T00:00:00.000Z</td>\n",
       "      <td>NaN</td>\n",
       "      <td>19</td>\n",
       "      <td>53484</td>\n",
       "      <td>10000</td>\n",
       "      <td>10000</td>\n",
       "      <td>0</td>\n",
       "      <td>...</td>\n",
       "      <td>NaN</td>\n",
       "      <td>NaN</td>\n",
       "      <td>19</td>\n",
       "      <td>NaN</td>\n",
       "      <td>NaN</td>\n",
       "      <td>January</td>\n",
       "      <td>53484</td>\n",
       "      <td>2017-04-18T00:00:00.000Z</td>\n",
       "      <td>2019-03-15T00:00:00.000Z</td>\n",
       "      <td>2019-03-15T00:00:00.000Z</td>\n",
       "    </tr>\n",
       "    <tr>\n",
       "      <th>1</th>\n",
       "      <td>1</td>\n",
       "      <td>379968</td>\n",
       "      <td>2017-04-18T00:00:00.000Z</td>\n",
       "      <td>2017-05-18T00:00:00.000Z</td>\n",
       "      <td>NaN</td>\n",
       "      <td>19</td>\n",
       "      <td>53484</td>\n",
       "      <td>5000000</td>\n",
       "      <td>5000000</td>\n",
       "      <td>0</td>\n",
       "      <td>...</td>\n",
       "      <td>NaN</td>\n",
       "      <td>NaN</td>\n",
       "      <td>19</td>\n",
       "      <td>NaN</td>\n",
       "      <td>NaN</td>\n",
       "      <td>January</td>\n",
       "      <td>53484</td>\n",
       "      <td>2017-04-18T00:00:00.000Z</td>\n",
       "      <td>2019-03-15T00:00:00.000Z</td>\n",
       "      <td>2019-03-15T00:00:00.000Z</td>\n",
       "    </tr>\n",
       "    <tr>\n",
       "      <th>2</th>\n",
       "      <td>2</td>\n",
       "      <td>379969</td>\n",
       "      <td>2019-07-18T00:00:00.000Z</td>\n",
       "      <td>2019-08-17T00:00:00.000Z</td>\n",
       "      <td>NaN</td>\n",
       "      <td>1</td>\n",
       "      <td>53487</td>\n",
       "      <td>5000</td>\n",
       "      <td>0</td>\n",
       "      <td>0</td>\n",
       "      <td>...</td>\n",
       "      <td>NaN</td>\n",
       "      <td>NaN</td>\n",
       "      <td>1</td>\n",
       "      <td>Limited Liability</td>\n",
       "      <td>Manufacturing Businesses</td>\n",
       "      <td>January</td>\n",
       "      <td>53487</td>\n",
       "      <td>2019-07-18T00:00:00.000Z</td>\n",
       "      <td>2019-07-18T00:00:00.000Z</td>\n",
       "      <td>2019-07-18T00:00:00.000Z</td>\n",
       "    </tr>\n",
       "    <tr>\n",
       "      <th>3</th>\n",
       "      <td>3</td>\n",
       "      <td>379970</td>\n",
       "      <td>2019-07-18T00:00:00.000Z</td>\n",
       "      <td>2019-08-17T00:00:00.000Z</td>\n",
       "      <td>NaN</td>\n",
       "      <td>1</td>\n",
       "      <td>53488</td>\n",
       "      <td>13000</td>\n",
       "      <td>0</td>\n",
       "      <td>0</td>\n",
       "      <td>...</td>\n",
       "      <td>NaN</td>\n",
       "      <td>NaN</td>\n",
       "      <td>1</td>\n",
       "      <td>Limited Liability</td>\n",
       "      <td>Manufacturing Businesses</td>\n",
       "      <td>January</td>\n",
       "      <td>53488</td>\n",
       "      <td>2019-07-18T00:00:00.000Z</td>\n",
       "      <td>2019-07-18T00:00:00.000Z</td>\n",
       "      <td>2019-07-18T00:00:00.000Z</td>\n",
       "    </tr>\n",
       "    <tr>\n",
       "      <th>4</th>\n",
       "      <td>4</td>\n",
       "      <td>379971</td>\n",
       "      <td>2019-07-18T00:00:00.000Z</td>\n",
       "      <td>2019-08-17T00:00:00.000Z</td>\n",
       "      <td>NaN</td>\n",
       "      <td>1</td>\n",
       "      <td>53488</td>\n",
       "      <td>17500</td>\n",
       "      <td>0</td>\n",
       "      <td>0</td>\n",
       "      <td>...</td>\n",
       "      <td>NaN</td>\n",
       "      <td>NaN</td>\n",
       "      <td>1</td>\n",
       "      <td>Limited Liability</td>\n",
       "      <td>Manufacturing Businesses</td>\n",
       "      <td>January</td>\n",
       "      <td>53488</td>\n",
       "      <td>2019-07-18T00:00:00.000Z</td>\n",
       "      <td>2019-07-18T00:00:00.000Z</td>\n",
       "      <td>2019-07-18T00:00:00.000Z</td>\n",
       "    </tr>\n",
       "    <tr>\n",
       "      <th>5</th>\n",
       "      <td>5</td>\n",
       "      <td>379972</td>\n",
       "      <td>2019-07-18T00:00:00.000Z</td>\n",
       "      <td>2019-08-17T00:00:00.000Z</td>\n",
       "      <td>NaN</td>\n",
       "      <td>1</td>\n",
       "      <td>53489</td>\n",
       "      <td>14500</td>\n",
       "      <td>0</td>\n",
       "      <td>0</td>\n",
       "      <td>...</td>\n",
       "      <td>NaN</td>\n",
       "      <td>NaN</td>\n",
       "      <td>1</td>\n",
       "      <td>Limited Liability</td>\n",
       "      <td>Manufacturing Businesses</td>\n",
       "      <td>January</td>\n",
       "      <td>53489</td>\n",
       "      <td>2019-07-18T00:00:00.000Z</td>\n",
       "      <td>2019-07-18T00:00:00.000Z</td>\n",
       "      <td>2019-07-18T00:00:00.000Z</td>\n",
       "    </tr>\n",
       "    <tr>\n",
       "      <th>6</th>\n",
       "      <td>6</td>\n",
       "      <td>379973</td>\n",
       "      <td>2019-07-18T00:00:00.000Z</td>\n",
       "      <td>2019-08-17T00:00:00.000Z</td>\n",
       "      <td>NaN</td>\n",
       "      <td>1</td>\n",
       "      <td>53489</td>\n",
       "      <td>2600</td>\n",
       "      <td>0</td>\n",
       "      <td>0</td>\n",
       "      <td>...</td>\n",
       "      <td>NaN</td>\n",
       "      <td>NaN</td>\n",
       "      <td>1</td>\n",
       "      <td>Limited Liability</td>\n",
       "      <td>Manufacturing Businesses</td>\n",
       "      <td>January</td>\n",
       "      <td>53489</td>\n",
       "      <td>2019-07-18T00:00:00.000Z</td>\n",
       "      <td>2019-07-18T00:00:00.000Z</td>\n",
       "      <td>2019-07-18T00:00:00.000Z</td>\n",
       "    </tr>\n",
       "    <tr>\n",
       "      <th>7</th>\n",
       "      <td>7</td>\n",
       "      <td>379974</td>\n",
       "      <td>2018-12-10T00:00:00.000Z</td>\n",
       "      <td>2019-01-09T00:00:00.000Z</td>\n",
       "      <td>NaN</td>\n",
       "      <td>1</td>\n",
       "      <td>53490</td>\n",
       "      <td>19900</td>\n",
       "      <td>19900</td>\n",
       "      <td>0</td>\n",
       "      <td>...</td>\n",
       "      <td>NaN</td>\n",
       "      <td>NaN</td>\n",
       "      <td>1</td>\n",
       "      <td>Limited Liability</td>\n",
       "      <td>Manufacturing Businesses</td>\n",
       "      <td>January</td>\n",
       "      <td>53490</td>\n",
       "      <td>2018-12-10T00:00:00.000Z</td>\n",
       "      <td>2018-12-10T00:00:00.000Z</td>\n",
       "      <td>2018-12-10T00:00:00.000Z</td>\n",
       "    </tr>\n",
       "    <tr>\n",
       "      <th>8</th>\n",
       "      <td>8</td>\n",
       "      <td>379975</td>\n",
       "      <td>2018-12-01T00:00:00.000Z</td>\n",
       "      <td>2018-12-31T00:00:00.000Z</td>\n",
       "      <td>NaN</td>\n",
       "      <td>1</td>\n",
       "      <td>53491</td>\n",
       "      <td>1900</td>\n",
       "      <td>100</td>\n",
       "      <td>0</td>\n",
       "      <td>...</td>\n",
       "      <td>NaN</td>\n",
       "      <td>NaN</td>\n",
       "      <td>1</td>\n",
       "      <td>Limited Liability</td>\n",
       "      <td>Manufacturing Businesses</td>\n",
       "      <td>January</td>\n",
       "      <td>53491</td>\n",
       "      <td>2018-11-01T00:00:00.000Z</td>\n",
       "      <td>2018-12-01T00:00:00.000Z</td>\n",
       "      <td>2018-12-01T00:00:00.000Z</td>\n",
       "    </tr>\n",
       "    <tr>\n",
       "      <th>9</th>\n",
       "      <td>9</td>\n",
       "      <td>379976</td>\n",
       "      <td>2018-11-01T00:00:00.000Z</td>\n",
       "      <td>2018-12-01T00:00:00.000Z</td>\n",
       "      <td>NaN</td>\n",
       "      <td>1</td>\n",
       "      <td>53491</td>\n",
       "      <td>1900</td>\n",
       "      <td>0</td>\n",
       "      <td>0</td>\n",
       "      <td>...</td>\n",
       "      <td>NaN</td>\n",
       "      <td>NaN</td>\n",
       "      <td>1</td>\n",
       "      <td>Limited Liability</td>\n",
       "      <td>Manufacturing Businesses</td>\n",
       "      <td>January</td>\n",
       "      <td>53491</td>\n",
       "      <td>2018-11-01T00:00:00.000Z</td>\n",
       "      <td>2018-12-01T00:00:00.000Z</td>\n",
       "      <td>2018-12-01T00:00:00.000Z</td>\n",
       "    </tr>\n",
       "  </tbody>\n",
       "</table>\n",
       "<p>10 rows × 21 columns</p>\n",
       "</div>"
      ],
      "text/plain": [
       "   Unnamed: 0      Id           TransactionDate                   DueDate  \\\n",
       "0           0  379967  2019-03-15T00:00:00.000Z  2019-04-14T00:00:00.000Z   \n",
       "1           1  379968  2017-04-18T00:00:00.000Z  2017-05-18T00:00:00.000Z   \n",
       "2           2  379969  2019-07-18T00:00:00.000Z  2019-08-17T00:00:00.000Z   \n",
       "3           3  379970  2019-07-18T00:00:00.000Z  2019-08-17T00:00:00.000Z   \n",
       "4           4  379971  2019-07-18T00:00:00.000Z  2019-08-17T00:00:00.000Z   \n",
       "5           5  379972  2019-07-18T00:00:00.000Z  2019-08-17T00:00:00.000Z   \n",
       "6           6  379973  2019-07-18T00:00:00.000Z  2019-08-17T00:00:00.000Z   \n",
       "7           7  379974  2018-12-10T00:00:00.000Z  2019-01-09T00:00:00.000Z   \n",
       "8           8  379975  2018-12-01T00:00:00.000Z  2018-12-31T00:00:00.000Z   \n",
       "9           9  379976  2018-11-01T00:00:00.000Z  2018-12-01T00:00:00.000Z   \n",
       "\n",
       "   DateFullyPaid  SellerId  BuyerId   Amount  Balance  Deposit  ...  \\\n",
       "0            NaN        19    53484    10000    10000        0  ...   \n",
       "1            NaN        19    53484  5000000  5000000        0  ...   \n",
       "2            NaN         1    53487     5000        0        0  ...   \n",
       "3            NaN         1    53488    13000        0        0  ...   \n",
       "4            NaN         1    53488    17500        0        0  ...   \n",
       "5            NaN         1    53489    14500        0        0  ...   \n",
       "6            NaN         1    53489     2600        0        0  ...   \n",
       "7            NaN         1    53490    19900    19900        0  ...   \n",
       "8            NaN         1    53491     1900      100        0  ...   \n",
       "9            NaN         1    53491     1900        0        0  ...   \n",
       "\n",
       "   SalesTerm  Estimate sel_id        sel_orgtype         sel_Business_type  \\\n",
       "0        NaN       NaN     19                NaN                       NaN   \n",
       "1        NaN       NaN     19                NaN                       NaN   \n",
       "2        NaN       NaN      1  Limited Liability  Manufacturing Businesses   \n",
       "3        NaN       NaN      1  Limited Liability  Manufacturing Businesses   \n",
       "4        NaN       NaN      1  Limited Liability  Manufacturing Businesses   \n",
       "5        NaN       NaN      1  Limited Liability  Manufacturing Businesses   \n",
       "6        NaN       NaN      1  Limited Liability  Manufacturing Businesses   \n",
       "7        NaN       NaN      1  Limited Liability  Manufacturing Businesses   \n",
       "8        NaN       NaN      1  Limited Liability  Manufacturing Businesses   \n",
       "9        NaN       NaN      1  Limited Liability  Manufacturing Businesses   \n",
       "\n",
       "  sel_fiscal_year_start_month buy_id         buy_first_engaged  \\\n",
       "0                     January  53484  2017-04-18T00:00:00.000Z   \n",
       "1                     January  53484  2017-04-18T00:00:00.000Z   \n",
       "2                     January  53487  2019-07-18T00:00:00.000Z   \n",
       "3                     January  53488  2019-07-18T00:00:00.000Z   \n",
       "4                     January  53488  2019-07-18T00:00:00.000Z   \n",
       "5                     January  53489  2019-07-18T00:00:00.000Z   \n",
       "6                     January  53489  2019-07-18T00:00:00.000Z   \n",
       "7                     January  53490  2018-12-10T00:00:00.000Z   \n",
       "8                     January  53491  2018-11-01T00:00:00.000Z   \n",
       "9                     January  53491  2018-11-01T00:00:00.000Z   \n",
       "\n",
       "    buy_most_recent_engaged          buy_prev_engaged  \n",
       "0  2019-03-15T00:00:00.000Z  2019-03-15T00:00:00.000Z  \n",
       "1  2019-03-15T00:00:00.000Z  2019-03-15T00:00:00.000Z  \n",
       "2  2019-07-18T00:00:00.000Z  2019-07-18T00:00:00.000Z  \n",
       "3  2019-07-18T00:00:00.000Z  2019-07-18T00:00:00.000Z  \n",
       "4  2019-07-18T00:00:00.000Z  2019-07-18T00:00:00.000Z  \n",
       "5  2019-07-18T00:00:00.000Z  2019-07-18T00:00:00.000Z  \n",
       "6  2019-07-18T00:00:00.000Z  2019-07-18T00:00:00.000Z  \n",
       "7  2018-12-10T00:00:00.000Z  2018-12-10T00:00:00.000Z  \n",
       "8  2018-12-01T00:00:00.000Z  2018-12-01T00:00:00.000Z  \n",
       "9  2018-12-01T00:00:00.000Z  2018-12-01T00:00:00.000Z  \n",
       "\n",
       "[10 rows x 21 columns]"
      ]
     },
     "execution_count": 8,
     "metadata": {},
     "output_type": "execute_result"
    }
   ],
   "source": [
    "dump.head(10)"
   ]
  },
  {
   "cell_type": "markdown",
   "metadata": {},
   "source": [
    "**Following code prepares the time series with index as the Transaction Time and value as amount.**"
   ]
  },
  {
   "cell_type": "code",
   "execution_count": 9,
   "metadata": {},
   "outputs": [],
   "source": [
    "sel=dump[dump.SellerId==6][[\"TransactionDate\",\"Amount\"]]\n",
    "sel[\"TransactionDate\"]=sel.TransactionDate.apply(lambda x: x.split(\"T\")[0])\n",
    "sel[\"TransactionDate\"]=pd.to_datetime(sel.TransactionDate)\n",
    "sel=sel.set_index(\"TransactionDate\")\n",
    "sel = sel.groupby(pd.Grouper(freq=\"M\")).sum()\n",
    "sel[\"Amount\"]=sel.Amount.apply(lambda x:int(x))\n",
    "ts=sel[\"Amount\"]"
   ]
  },
  {
   "cell_type": "code",
   "execution_count": 10,
   "metadata": {},
   "outputs": [
    {
     "data": {
      "text/plain": [
       "TransactionDate\n",
       "2019-01-31    27874703\n",
       "2019-02-28     8196776\n",
       "2019-03-31    16854217\n",
       "2019-04-30    16455700\n",
       "2019-05-31    24076179\n",
       "Freq: M, Name: Amount, dtype: int64"
      ]
     },
     "execution_count": 10,
     "metadata": {},
     "output_type": "execute_result"
    }
   ],
   "source": [
    "ts.tail()"
   ]
  },
  {
   "cell_type": "code",
   "execution_count": 11,
   "metadata": {},
   "outputs": [
    {
     "data": {
      "image/png": "[encoded data removed]",
      "text/plain": [
       "<Figure size 720x432 with 1 Axes>"
      ]
     },
     "metadata": {},
     "output_type": "display_data"
    }
   ],
   "source": [
    "plt.figure(figsize=(10,6))\n",
    "plt.plot(ts, color=\"red\")\n",
    "plt.grid(True, color=\"black\")\n",
    "plt.show()"
   ]
  },
  {
   "cell_type": "markdown",
   "metadata": {},
   "source": [
    "**Following function is created to test the statioarity of time series, It includes the dickey fuller test.**"
   ]
  },
  {
   "cell_type": "code",
   "execution_count": 12,
   "metadata": {},
   "outputs": [],
   "source": [
    "from statsmodels.tsa.stattools import adfuller\n",
    "def dft(ts):\n",
    "    print ('Results of Dickey-Fuller Test:')\n",
    "    dftest = adfuller(ts, autolag='AIC')\n",
    "    dfoutput = pd.Series(dftest[0:4], index=['Test Statistic','p-value','#Lags Used','Number of Observations Used'])\n",
    "    for key,value in dftest[4].items():\n",
    "        dfoutput['Critical Value (%s)'%key] = value\n",
    "    print (dfoutput)"
   ]
  },
  {
   "cell_type": "markdown",
   "metadata": {},
   "source": [
    "**Testing for stationarity**"
   ]
  },
  {
   "cell_type": "code",
   "execution_count": 13,
   "metadata": {},
   "outputs": [
    {
     "name": "stdout",
     "output_type": "stream",
     "text": [
      "Results of Dickey-Fuller Test:\n",
      "Test Statistic                -0.000000\n",
      "p-value                        0.958532\n",
      "#Lags Used                     4.000000\n",
      "Number of Observations Used    6.000000\n",
      "Critical Value (1%)           -5.354256\n",
      "Critical Value (5%)           -3.646238\n",
      "Critical Value (10%)          -2.901198\n",
      "dtype: float64\n"
     ]
    }
   ],
   "source": [
    "dft(ts)"
   ]
  },
  {
   "cell_type": "markdown",
   "metadata": {},
   "source": [
    "*The test_stats is greater than critical values. Hence the series is non stationary.*"
   ]
  },
  {
   "cell_type": "markdown",
   "metadata": {},
   "source": [
    "**Below is logarithmic transformation of the series which will make little stationary in comparison to non transformed data.**"
   ]
  },
  {
   "cell_type": "code",
   "execution_count": 14,
   "metadata": {},
   "outputs": [],
   "source": [
    "ts_log=np.log(ts)"
   ]
  },
  {
   "cell_type": "markdown",
   "metadata": {},
   "source": [
    "**Testing for stationary**"
   ]
  },
  {
   "cell_type": "code",
   "execution_count": 15,
   "metadata": {},
   "outputs": [
    {
     "name": "stdout",
     "output_type": "stream",
     "text": [
      "Results of Dickey-Fuller Test:\n",
      "Test Statistic                 0.000000\n",
      "p-value                        0.958532\n",
      "#Lags Used                     4.000000\n",
      "Number of Observations Used    6.000000\n",
      "Critical Value (1%)           -5.354256\n",
      "Critical Value (5%)           -3.646238\n",
      "Critical Value (10%)          -2.901198\n",
      "dtype: float64\n"
     ]
    }
   ],
   "source": [
    "dft(ts_log)"
   ]
  },
  {
   "cell_type": "markdown",
   "metadata": {},
   "source": [
    "**Here the series is still non stationary**"
   ]
  },
  {
   "cell_type": "markdown",
   "metadata": {},
   "source": [
    "*Differencing is applied to reduce trend and seasonality from tha data.*"
   ]
  },
  {
   "cell_type": "code",
   "execution_count": 16,
   "metadata": {},
   "outputs": [],
   "source": [
    "ts_log_diff=ts_log-ts_log.shift()"
   ]
  },
  {
   "cell_type": "markdown",
   "metadata": {},
   "source": [
    "*Removal of nan values from differencing output*"
   ]
  },
  {
   "cell_type": "code",
   "execution_count": 17,
   "metadata": {},
   "outputs": [],
   "source": [
    "ts_log_diff.dropna(inplace=True)"
   ]
  },
  {
   "cell_type": "markdown",
   "metadata": {},
   "source": [
    "**Testing for stationarity**"
   ]
  },
  {
   "cell_type": "code",
   "execution_count": 18,
   "metadata": {},
   "outputs": [
    {
     "name": "stdout",
     "output_type": "stream",
     "text": [
      "Results of Dickey-Fuller Test:\n",
      "Test Statistic                -5.959956e+00\n",
      "p-value                        2.050242e-07\n",
      "#Lags Used                     0.000000e+00\n",
      "Number of Observations Used    9.000000e+00\n",
      "Critical Value (1%)           -4.473135e+00\n",
      "Critical Value (5%)           -3.289881e+00\n",
      "Critical Value (10%)          -2.772382e+00\n",
      "dtype: float64\n"
     ]
    }
   ],
   "source": [
    "dft(ts_log_diff)"
   ]
  },
  {
   "cell_type": "markdown",
   "metadata": {},
   "source": [
    "**Now the test_stats is less 1% critical values i.e. the series is stationary with 99% confidence.**"
   ]
  },
  {
   "cell_type": "markdown",
   "metadata": {},
   "source": [
    "**APPLYING MOVING AVERAGE MODEL**"
   ]
  },
  {
   "cell_type": "code",
   "execution_count": 26,
   "metadata": {},
   "outputs": [],
   "source": [
    "from statsmodels.tsa.arima_model import ARMA\n",
    "model = ARMA(ts_log_diff, order=(0, 1))\n",
    "model_fit = model.fit(disp=False)"
   ]
  },
  {
   "cell_type": "code",
   "execution_count": 27,
   "metadata": {},
   "outputs": [
    {
     "data": {
      "text/plain": [
       "TransactionDate\n",
       "2018-08-31   -0.154166\n",
       "2018-09-30    0.184376\n",
       "2018-10-31    0.298941\n",
       "2018-11-30   -0.358848\n",
       "2018-12-31   -0.559773\n",
       "2019-01-31    2.229107\n",
       "2019-02-28   -1.223979\n",
       "2019-03-31    0.720860\n",
       "2019-04-30   -0.023929\n",
       "2019-05-31    0.380551\n",
       "Freq: M, Name: Amount, dtype: float64"
      ]
     },
     "execution_count": 27,
     "metadata": {},
     "output_type": "execute_result"
    }
   ],
   "source": [
    "ts_log_diff.head(10)"
   ]
  },
  {
   "cell_type": "markdown",
   "metadata": {},
   "source": [
    "**Predicting amount for coming 6 months**"
   ]
  },
  {
   "cell_type": "code",
   "execution_count": 28,
   "metadata": {},
   "outputs": [],
   "source": [
    "pred_mean=model_fit.predict(start=\"2019-05-31\",end=\"2019-12-31\")"
   ]
  },
  {
   "cell_type": "code",
   "execution_count": null,
   "metadata": {},
   "outputs": [],
   "source": []
  },
  {
   "cell_type": "markdown",
   "metadata": {},
   "source": [
    "**Following is the reverse transformation steps to have the forecast into original time series format.**"
   ]
  },
  {
   "cell_type": "code",
   "execution_count": 29,
   "metadata": {},
   "outputs": [],
   "source": [
    "predictions_ARIMA_diff = pd.Series(pred_mean, copy=True)\n",
    "predictions_ARIMA_diff_cumsum = predictions_ARIMA_diff.cumsum()\n",
    "a=ts_log[-1]\n",
    "b=a+predictions_ARIMA_diff_cumsum\n",
    "predictions_ARIMA = np.exp(b)"
   ]
  },
  {
   "cell_type": "code",
   "execution_count": 30,
   "metadata": {},
   "outputs": [],
   "source": [
    "forecast=pd.DataFrame()\n",
    "forecast[\"amount\"]=predictions_ARIMA\n",
    "forecast[\"amount\"]=forecast.amount.apply(lambda x:int(x))"
   ]
  },
  {
   "cell_type": "markdown",
   "metadata": {},
   "source": [
    "**Below is the forecasted amount**"
   ]
  },
  {
   "cell_type": "code",
   "execution_count": 31,
   "metadata": {},
   "outputs": [
    {
     "data": {
      "text/plain": [
       "2019-05-31    28286267\n",
       "2019-06-30    26677844\n",
       "2019-07-31    31333504\n",
       "2019-08-31    36801641\n",
       "2019-09-30    43224046\n",
       "2019-10-31    50767251\n",
       "2019-11-30    59626851\n",
       "2019-12-31    70032576\n",
       "Freq: M, Name: amount, dtype: int64"
      ]
     },
     "execution_count": 31,
     "metadata": {},
     "output_type": "execute_result"
    }
   ],
   "source": [
    "forecast.amount"
   ]
  },
  {
   "cell_type": "markdown",
   "metadata": {},
   "source": [
    "**Below is the plot containing our original data and the forecasted values together.**"
   ]
  },
  {
   "cell_type": "code",
   "execution_count": 32,
   "metadata": {},
   "outputs": [
    {
     "data": {
      "image/png": "[encoded data removed]",
      "text/plain": [
       "<Figure size 864x288 with 1 Axes>"
      ]
     },
     "metadata": {},
     "output_type": "display_data"
    }
   ],
   "source": [
    "plt.figure(figsize=(12,4))\n",
    "plt.plot(ts, color=\"blue\", linewidth=2)\n",
    "plt.plot(forecast.amount,color=\"red\", linewidth=2)\n",
    "plt.gca().get_yaxis().get_major_formatter().set_scientific(False)\n",
    "plt.grid(True, color=\"green\")"
   ]
  },
  {
   "cell_type": "code",
   "execution_count": null,
   "metadata": {},
   "outputs": [],
   "source": []
  },
  {
   "cell_type": "code",
   "execution_count": null,
   "metadata": {},
   "outputs": [],
   "source": []
  },
  {
   "cell_type": "code",
   "execution_count": null,
   "metadata": {},
   "outputs": [],
   "source": []
  },
  {
   "cell_type": "markdown",
   "metadata": {},
   "source": [
    "<font color=\"red\"> **FORECAST FOR SELLER_3**</font>"
   ]
  },
  {
   "cell_type": "markdown",
   "metadata": {},
   "source": [
    "**In upcoming codes seller_3 is taken under consideration**"
   ]
  },
  {
   "cell_type": "code",
   "execution_count": 42,
   "metadata": {},
   "outputs": [],
   "source": [
    "dump=pd.read_csv(\"dump.csv\")"
   ]
  },
  {
   "cell_type": "markdown",
   "metadata": {},
   "source": [
    "**This function takes input as the seller number and gives output the time series well prepared after multiple processes.**"
   ]
  },
  {
   "cell_type": "code",
   "execution_count": 43,
   "metadata": {},
   "outputs": [],
   "source": [
    "def ts_seller_wise(k):\n",
    "    sel=dump[dump.SellerId==k][[\"TransactionDate\",\"Amount\"]]\n",
    "    sel[\"TransactionDate\"]=sel.TransactionDate.apply(lambda x: x.split(\"T\")[0])\n",
    "    sel[\"TransactionDate\"]=pd.to_datetime(sel.TransactionDate)\n",
    "    sel=sel.set_index(\"TransactionDate\")\n",
    "    sel = sel.groupby(pd.Grouper(freq=\"M\")).sum()\n",
    "    sel[\"Amount\"]=sel.Amount.apply(lambda x:int(x))\n",
    "    ts=sel[\"Amount\"]\n",
    "    return ts"
   ]
  },
  {
   "cell_type": "markdown",
   "metadata": {},
   "source": [
    "**Time series for seller_3**"
   ]
  },
  {
   "cell_type": "code",
   "execution_count": 44,
   "metadata": {},
   "outputs": [],
   "source": [
    "ts=ts_seller_wise(3)"
   ]
  },
  {
   "cell_type": "code",
   "execution_count": 45,
   "metadata": {},
   "outputs": [
    {
     "data": {
      "text/plain": [
       "TransactionDate\n",
       "2018-09-30       2400\n",
       "2018-10-31     149220\n",
       "2018-11-30     147300\n",
       "2018-12-31     118320\n",
       "2019-01-31     578218\n",
       "2019-02-28    1146459\n",
       "2019-03-31       4400\n",
       "2019-04-30       9600\n",
       "2019-05-31          0\n",
       "2019-06-30     262169\n",
       "2019-07-31      11880\n",
       "Freq: M, Name: Amount, dtype: int64"
      ]
     },
     "execution_count": 45,
     "metadata": {},
     "output_type": "execute_result"
    }
   ],
   "source": [
    "ts"
   ]
  },
  {
   "cell_type": "markdown",
   "metadata": {},
   "source": [
    "**Test of stationarity**"
   ]
  },
  {
   "cell_type": "code",
   "execution_count": 46,
   "metadata": {},
   "outputs": [
    {
     "name": "stdout",
     "output_type": "stream",
     "text": [
      "Results of Dickey-Fuller Test:\n",
      "Test Statistic                 -0.000000\n",
      "p-value                         0.958532\n",
      "#Lags Used                      7.000000\n",
      "Number of Observations Used     3.000000\n",
      "Critical Value (1%)           -10.417191\n",
      "Critical Value (5%)            -5.778381\n",
      "Critical Value (10%)           -3.391681\n",
      "dtype: float64\n"
     ]
    }
   ],
   "source": [
    "dft(ts)"
   ]
  },
  {
   "cell_type": "markdown",
   "metadata": {},
   "source": [
    "*The output depicts that time series is non stationary.*"
   ]
  },
  {
   "cell_type": "markdown",
   "metadata": {},
   "source": [
    "**Following is the application of differencing to make the series stationary.**"
   ]
  },
  {
   "cell_type": "code",
   "execution_count": 47,
   "metadata": {},
   "outputs": [],
   "source": [
    "ts_diff=ts-ts.shift()"
   ]
  },
  {
   "cell_type": "markdown",
   "metadata": {},
   "source": [
    "*Removing the na values created during differencing.*"
   ]
  },
  {
   "cell_type": "code",
   "execution_count": 48,
   "metadata": {},
   "outputs": [],
   "source": [
    "ts_diff.dropna(inplace=True)"
   ]
  },
  {
   "cell_type": "markdown",
   "metadata": {},
   "source": [
    "**Testing for stationarity.**"
   ]
  },
  {
   "cell_type": "code",
   "execution_count": 49,
   "metadata": {},
   "outputs": [
    {
     "name": "stdout",
     "output_type": "stream",
     "text": [
      "Results of Dickey-Fuller Test:\n",
      "Test Statistic                -3.355261\n",
      "p-value                        0.012582\n",
      "#Lags Used                     0.000000\n",
      "Number of Observations Used    9.000000\n",
      "Critical Value (1%)           -4.473135\n",
      "Critical Value (5%)           -3.289881\n",
      "Critical Value (10%)          -2.772382\n",
      "dtype: float64\n"
     ]
    }
   ],
   "source": [
    "dft(ts_diff)"
   ]
  },
  {
   "cell_type": "markdown",
   "metadata": {},
   "source": [
    "*The series is now stationary with 95 % confidence*."
   ]
  },
  {
   "cell_type": "markdown",
   "metadata": {},
   "source": [
    "**Following function takes the forecasted amount as input and converts it into a plot added with plot of original time series.**"
   ]
  },
  {
   "cell_type": "code",
   "execution_count": 50,
   "metadata": {},
   "outputs": [],
   "source": [
    "def forc_amou(pred_mean):\n",
    "    predictions_ARIMA_diff = pd.Series(pred_mean, copy=True)\n",
    "    predictions_ARIMA_diff_cumsum = predictions_ARIMA_diff.cumsum()\n",
    "    a=ts_log[-1]\n",
    "    predictions_ARIMA=a+predictions_ARIMA_diff_cumsum\n",
    "    forecast=pd.DataFrame()\n",
    "    forecast[\"amount\"]=predictions_ARIMA\n",
    "    forecast[\"amount\"]=forecast.amount.apply(lambda x:int(x))\n",
    "    plt.figure(figsize=(12,4))\n",
    "    plt.plot(ts, color=\"blue\", linewidth=2)\n",
    "    plt.plot(forecast.amount,color=\"red\", linewidth=2)\n",
    "    plt.gca().get_yaxis().get_major_formatter().set_scientific(False)\n",
    "    plt.grid(True, color=\"green\")"
   ]
  },
  {
   "cell_type": "markdown",
   "metadata": {},
   "source": [
    "**AUTOREGRESSIVE MODEL_3**  \n",
    "*This model forecast by using the regression of current item with past few items.*"
   ]
  },
  {
   "cell_type": "code",
   "execution_count": 51,
   "metadata": {},
   "outputs": [],
   "source": [
    "from statsmodels.tsa.ar_model import AR\n",
    "model = AR(ts_diff)\n",
    "model_fit = model.fit()\n",
    "pred_mean_autoreg=model_fit.predict(start=\"2019-07-31\", end=\"2019-12-31\")"
   ]
  },
  {
   "cell_type": "code",
   "execution_count": 52,
   "metadata": {},
   "outputs": [
    {
     "data": {
      "image/png": "[encoded data removed]",
      "text/plain": [
       "<Figure size 864x288 with 1 Axes>"
      ]
     },
     "metadata": {},
     "output_type": "display_data"
    }
   ],
   "source": [
    "forc_amou(pred_mean_autoreg)"
   ]
  },
  {
   "cell_type": "markdown",
   "metadata": {},
   "source": [
    "*Above is the forecast of amount using auto regressive model.*"
   ]
  },
  {
   "cell_type": "code",
   "execution_count": null,
   "metadata": {},
   "outputs": [],
   "source": []
  },
  {
   "cell_type": "markdown",
   "metadata": {},
   "source": [
    "**SIMPLE EXPONENTIAL MODEL_3**  \n",
    "> *This model is simple exponential smoothing of the series. It computes the exponential mean of given data and forecast the same for any duration.*"
   ]
  },
  {
   "cell_type": "markdown",
   "metadata": {},
   "source": [
    "*Below code is for computing the forecast of amount for coming 6 months using simple exponential smoothing.*"
   ]
  },
  {
   "cell_type": "code",
   "execution_count": 53,
   "metadata": {},
   "outputs": [],
   "source": [
    "from statsmodels.tsa.holtwinters import SimpleExpSmoothing\n",
    "model = SimpleExpSmoothing(ts_diff)\n",
    "model_fit = model.fit()\n",
    "pred_simple_exponential=model_fit.predict(start=\"2019-07-31\", end=\"2019-12-31\")"
   ]
  },
  {
   "cell_type": "markdown",
   "metadata": {},
   "source": [
    "**Following is the plot portraying the forecast of amount using simple exponential smoothing.**"
   ]
  },
  {
   "cell_type": "code",
   "execution_count": 54,
   "metadata": {},
   "outputs": [
    {
     "data": {
      "image/png": "[encoded data removed]",
      "text/plain": [
       "<Figure size 864x288 with 1 Axes>"
      ]
     },
     "metadata": {},
     "output_type": "display_data"
    }
   ],
   "source": [
    "forc_amou(pred_simple_exponential)"
   ]
  },
  {
   "cell_type": "code",
   "execution_count": null,
   "metadata": {},
   "outputs": [],
   "source": []
  },
  {
   "cell_type": "markdown",
   "metadata": {},
   "source": [
    "**MOVING AVERAGE_3**"
   ]
  },
  {
   "cell_type": "markdown",
   "metadata": {},
   "source": [
    "**This is moving average model which consideres the mean of preceding items to forecast the future values.**"
   ]
  },
  {
   "cell_type": "code",
   "execution_count": 55,
   "metadata": {},
   "outputs": [],
   "source": [
    "from statsmodels.tsa.arima_model import ARMA\n",
    "model = ARMA(ts_diff, order=(0,1))\n",
    "model_fit = model.fit()\n",
    "pred_mean_moving_avg=model_fit.predict(start=\"2019-07-31\", end=\"2019-12-31\")"
   ]
  },
  {
   "cell_type": "code",
   "execution_count": 56,
   "metadata": {},
   "outputs": [
    {
     "data": {
      "image/png": "[encoded data removed]",
      "text/plain": [
       "<Figure size 864x288 with 1 Axes>"
      ]
     },
     "metadata": {},
     "output_type": "display_data"
    }
   ],
   "source": [
    "forc_amou(pred_mean_moving_avg)"
   ]
  },
  {
   "cell_type": "code",
   "execution_count": null,
   "metadata": {},
   "outputs": [],
   "source": []
  },
  {
   "cell_type": "code",
   "execution_count": null,
   "metadata": {},
   "outputs": [],
   "source": []
  },
  {
   "cell_type": "markdown",
   "metadata": {},
   "source": [
    "**AUTOREGRESSIVE MOVING AVERAGE_3**"
   ]
  },
  {
   "cell_type": "markdown",
   "metadata": {},
   "source": [
    "**This is auto regressive model which performs regression on lagged values of the series.**"
   ]
  },
  {
   "cell_type": "code",
   "execution_count": 57,
   "metadata": {},
   "outputs": [],
   "source": [
    "from statsmodels.tsa.arima_model import ARMA\n",
    "model = ARMA(ts_diff, order=(2,1))\n",
    "model_fit = model.fit()\n",
    "pred_mean_autoreg_movingavg=model_fit.predict(start=\"2019-07-31\", end=\"2019-12-31\")"
   ]
  },
  {
   "cell_type": "code",
   "execution_count": 58,
   "metadata": {},
   "outputs": [
    {
     "data": {
      "image/png": "[encoded data removed]",
      "text/plain": [
       "<Figure size 864x288 with 1 Axes>"
      ]
     },
     "metadata": {},
     "output_type": "display_data"
    }
   ],
   "source": [
    "forc_amou(pred_mean_autoreg_movingavg)"
   ]
  },
  {
   "cell_type": "code",
   "execution_count": null,
   "metadata": {},
   "outputs": [],
   "source": []
  },
  {
   "cell_type": "code",
   "execution_count": null,
   "metadata": {},
   "outputs": [],
   "source": []
  },
  {
   "cell_type": "markdown",
   "metadata": {},
   "source": [
    "**HOLTS LINEAR EXPONENTIAL SMOOTHING_3**  \n",
    "*This is holts linear smoothing which is a modification of exponential smoothing*"
   ]
  },
  {
   "cell_type": "code",
   "execution_count": 59,
   "metadata": {},
   "outputs": [],
   "source": [
    "from statsmodels.tsa.holtwinters import ExponentialSmoothing\n",
    "model = ExponentialSmoothing(ts)\n",
    "model_fit = model.fit()\n",
    "pred_mean_holtslinear_exponential_smoothing=model_fit.predict(start=\"2019-07-31\", end=\"2019-12-31\")"
   ]
  },
  {
   "cell_type": "code",
   "execution_count": 60,
   "metadata": {},
   "outputs": [
    {
     "data": {
      "image/png": "[encoded data removed]",
      "text/plain": [
       "<Figure size 864x288 with 1 Axes>"
      ]
     },
     "metadata": {},
     "output_type": "display_data"
    }
   ],
   "source": [
    "forc_amou(pred_mean_holtslinear_exponential_smoothing)"
   ]
  },
  {
   "cell_type": "code",
   "execution_count": null,
   "metadata": {},
   "outputs": [],
   "source": []
  },
  {
   "cell_type": "code",
   "execution_count": null,
   "metadata": {},
   "outputs": [],
   "source": []
  },
  {
   "cell_type": "markdown",
   "metadata": {},
   "source": [
    "<font color=\"red\"> **FORECAST FOR SELLER_19** </font>"
   ]
  },
  {
   "cell_type": "markdown",
   "metadata": {},
   "source": [
    "**Below code will consider seller 19.**  \n",
    "*Seller_19 has only two positive values. So for this seller the naive mean of two given amounts have been plotted for coming 6 months.*"
   ]
  },
  {
   "cell_type": "code",
   "execution_count": null,
   "metadata": {},
   "outputs": [],
   "source": []
  },
  {
   "cell_type": "markdown",
   "metadata": {},
   "source": [
    "*This code creates a pandas series of datetime indices for coming 6 months.*"
   ]
  },
  {
   "cell_type": "code",
   "execution_count": 61,
   "metadata": {},
   "outputs": [],
   "source": [
    "from datetime import datetime\n",
    "date_rng = pd.date_range(start=pd.to_datetime('2019-07-31'), end=pd.to_datetime(\"2019-12-31\"), freq='M')"
   ]
  },
  {
   "cell_type": "code",
   "execution_count": 62,
   "metadata": {},
   "outputs": [
    {
     "data": {
      "text/plain": [
       "DatetimeIndex(['2019-07-31', '2019-08-31', '2019-09-30', '2019-10-31',\n",
       "               '2019-11-30', '2019-12-31'],\n",
       "              dtype='datetime64[ns]', freq='M')"
      ]
     },
     "execution_count": 62,
     "metadata": {},
     "output_type": "execute_result"
    }
   ],
   "source": [
    "date_rng"
   ]
  },
  {
   "cell_type": "markdown",
   "metadata": {},
   "source": [
    "**Following is the time series of seller_19**"
   ]
  },
  {
   "cell_type": "code",
   "execution_count": 63,
   "metadata": {},
   "outputs": [],
   "source": [
    "ts_19=ts_seller_wise(19)"
   ]
  },
  {
   "cell_type": "code",
   "execution_count": 64,
   "metadata": {},
   "outputs": [
    {
     "data": {
      "text/plain": [
       "TransactionDate\n",
       "2017-04-30    5000000\n",
       "2017-05-31          0\n",
       "2017-06-30          0\n",
       "2017-07-31          0\n",
       "2017-08-31          0\n",
       "Freq: M, Name: Amount, dtype: int64"
      ]
     },
     "execution_count": 64,
     "metadata": {},
     "output_type": "execute_result"
    }
   ],
   "source": [
    "ts_19.head()"
   ]
  },
  {
   "cell_type": "markdown",
   "metadata": {},
   "source": [
    "*Below is mena of amount of given time series which will be forecasted for coming 6 months.*"
   ]
  },
  {
   "cell_type": "code",
   "execution_count": 65,
   "metadata": {},
   "outputs": [],
   "source": [
    "naive_seller_19=dump[dump.SellerId==19].Amount.mean()"
   ]
  },
  {
   "cell_type": "markdown",
   "metadata": {},
   "source": [
    "*This is a dataframe containing the amount with the indices to be forecasted.*"
   ]
  },
  {
   "cell_type": "code",
   "execution_count": 66,
   "metadata": {},
   "outputs": [],
   "source": [
    "df=pd.DataFrame(index=date_rng)\n",
    "df[\"amount\"]=naive_seller_19"
   ]
  },
  {
   "cell_type": "markdown",
   "metadata": {},
   "source": [
    "**NAIVE MEAN MODEL SELLER_19**"
   ]
  },
  {
   "cell_type": "markdown",
   "metadata": {},
   "source": [
    "This is plotting of time series."
   ]
  },
  {
   "cell_type": "code",
   "execution_count": 67,
   "metadata": {},
   "outputs": [
    {
     "data": {
      "image/png": "[encoded data removed]",
      "text/plain": [
       "<Figure size 1080x288 with 1 Axes>"
      ]
     },
     "metadata": {},
     "output_type": "display_data"
    }
   ],
   "source": [
    "plt.figure(figsize=(15,4))\n",
    "plt.plot(df)\n",
    "plt.plot(ts_19, color=\"red\")\n",
    "plt.grid(True, color=\"green\")"
   ]
  },
  {
   "cell_type": "code",
   "execution_count": null,
   "metadata": {},
   "outputs": [],
   "source": []
  },
  {
   "cell_type": "markdown",
   "metadata": {},
   "source": [
    "<font color=\"red\"> **FORECAST FOR SELLER_1** </font>"
   ]
  },
  {
   "cell_type": "markdown",
   "metadata": {},
   "source": [
    "**Below code will consider seller 1.**"
   ]
  },
  {
   "cell_type": "code",
   "execution_count": 68,
   "metadata": {},
   "outputs": [],
   "source": [
    "ts_1=ts_seller_wise(1)"
   ]
  },
  {
   "cell_type": "code",
   "execution_count": 69,
   "metadata": {},
   "outputs": [
    {
     "data": {
      "text/plain": [
       "TransactionDate\n",
       "2018-11-30     1900\n",
       "2018-12-31    21800\n",
       "Freq: M, Name: Amount, dtype: int64"
      ]
     },
     "execution_count": 69,
     "metadata": {},
     "output_type": "execute_result"
    }
   ],
   "source": [
    "ts_1"
   ]
  },
  {
   "cell_type": "markdown",
   "metadata": {},
   "source": [
    "*It also has two values. So naive mean will be suitable model for this data too.*"
   ]
  },
  {
   "cell_type": "markdown",
   "metadata": {},
   "source": [
    "*This code creates a pandas series of datetime indices for coming 6 months.*"
   ]
  },
  {
   "cell_type": "code",
   "execution_count": 70,
   "metadata": {},
   "outputs": [],
   "source": [
    "from datetime import datetime\n",
    "date_rng = pd.date_range(start=pd.to_datetime('2019-07-31'), end=pd.to_datetime(\"2019-12-31\"), freq='M')"
   ]
  },
  {
   "cell_type": "markdown",
   "metadata": {},
   "source": [
    "**Following is the forecast of coming 6 months.**"
   ]
  },
  {
   "cell_type": "code",
   "execution_count": 71,
   "metadata": {},
   "outputs": [],
   "source": [
    "naive_seller_1=dump[dump.SellerId==1].Amount.mean()"
   ]
  },
  {
   "cell_type": "code",
   "execution_count": 72,
   "metadata": {},
   "outputs": [],
   "source": [
    "df=pd.DataFrame(index=date_rng)\n",
    "df[\"amount\"]=naive_seller_1"
   ]
  },
  {
   "cell_type": "markdown",
   "metadata": {},
   "source": [
    "**NAIVE MEAN MODEL SELLER_1**"
   ]
  },
  {
   "cell_type": "markdown",
   "metadata": {},
   "source": [
    "**This plot portrays the original and forecasted values for coming 6 monhts.**"
   ]
  },
  {
   "cell_type": "code",
   "execution_count": 73,
   "metadata": {},
   "outputs": [
    {
     "data": {
      "image/png": "[encoded data removed]",
      "text/plain": [
       "<Figure size 1080x288 with 1 Axes>"
      ]
     },
     "metadata": {},
     "output_type": "display_data"
    }
   ],
   "source": [
    "plt.figure(figsize=(15,4))\n",
    "plt.plot(df, color=\"blue\")\n",
    "plt.plot(ts_1, color=\"red\")\n",
    "plt.grid(True, color=\"green\")"
   ]
  },
  {
   "cell_type": "code",
   "execution_count": null,
   "metadata": {},
   "outputs": [],
   "source": []
  },
  {
   "cell_type": "code",
   "execution_count": 74,
   "metadata": {},
   "outputs": [],
   "source": [
    "sel_13=ts_seller_wise(13)"
   ]
  },
  {
   "cell_type": "code",
   "execution_count": 75,
   "metadata": {},
   "outputs": [
    {
     "data": {
      "text/plain": [
       "TransactionDate\n",
       "2015-12-31      554937\n",
       "2016-01-31      572900\n",
       "2016-02-29      547166\n",
       "2016-03-31      992872\n",
       "2016-04-30      822866\n",
       "2016-05-31      794288\n",
       "2016-06-30     1419390\n",
       "2016-07-31     1677551\n",
       "2016-08-31     1396583\n",
       "2016-09-30     1638827\n",
       "2016-10-31     1697679\n",
       "2016-11-30     1449077\n",
       "2016-12-31     1875656\n",
       "2017-01-31     1935535\n",
       "2017-02-28     2212570\n",
       "2017-03-31     2043657\n",
       "2017-04-30     2430513\n",
       "2017-05-31     1871103\n",
       "2017-06-30     2690457\n",
       "2017-07-31     2328646\n",
       "2017-08-31     2500392\n",
       "2017-09-30     2973578\n",
       "2017-10-31     4012908\n",
       "2017-11-30     3724928\n",
       "2017-12-31     4058546\n",
       "2018-01-31     4633740\n",
       "2018-02-28     5220998\n",
       "2018-03-31     4901415\n",
       "2018-04-30     4721591\n",
       "2018-05-31     5073155\n",
       "2018-06-30     6486643\n",
       "2018-07-31     6476681\n",
       "2018-08-31     7419291\n",
       "2018-09-30     6816976\n",
       "2018-10-31    11555555\n",
       "2018-11-30    12608596\n",
       "2018-12-31    14363057\n",
       "2019-01-31    12699160\n",
       "2019-02-28    12959233\n",
       "2019-03-31    14704647\n",
       "2019-04-30    17594896\n",
       "2019-05-31    14135376\n",
       "2019-06-30    12863813\n",
       "Freq: M, Name: Amount, dtype: int64"
      ]
     },
     "execution_count": 75,
     "metadata": {},
     "output_type": "execute_result"
    }
   ],
   "source": [
    "sel_13"
   ]
  },
  {
   "cell_type": "code",
   "execution_count": 76,
   "metadata": {},
   "outputs": [],
   "source": [
    "train=sel_13.iloc[:35]\n",
    "test=sel_13.iloc[35:]"
   ]
  },
  {
   "cell_type": "code",
   "execution_count": 77,
   "metadata": {},
   "outputs": [
    {
     "data": {
      "text/plain": [
       "TransactionDate\n",
       "2018-11-30    12608596\n",
       "2018-12-31    14363057\n",
       "2019-01-31    12699160\n",
       "2019-02-28    12959233\n",
       "2019-03-31    14704647\n",
       "2019-04-30    17594896\n",
       "2019-05-31    14135376\n",
       "2019-06-30    12863813\n",
       "Freq: M, Name: Amount, dtype: int64"
      ]
     },
     "execution_count": 77,
     "metadata": {},
     "output_type": "execute_result"
    }
   ],
   "source": [
    "test"
   ]
  },
  {
   "cell_type": "code",
   "execution_count": null,
   "metadata": {},
   "outputs": [],
   "source": []
  },
  {
   "cell_type": "code",
   "execution_count": null,
   "metadata": {},
   "outputs": [],
   "source": []
  }
 ],
 "metadata": {
  "kernelspec": {
   "display_name": "Python 3",
   "language": "python",
   "name": "python3"
  },
  "language_info": {
   "codemirror_mode": {
    "name": "ipython",
    "version": 3
   },
   "file_extension": ".py",
   "mimetype": "text/x-python",
   "name": "python",
   "nbconvert_exporter": "python",
   "pygments_lexer": "ipython3",
   "version": "3.7.3"
  }
 },
 "nbformat": 4,
 "nbformat_minor": 2
}
