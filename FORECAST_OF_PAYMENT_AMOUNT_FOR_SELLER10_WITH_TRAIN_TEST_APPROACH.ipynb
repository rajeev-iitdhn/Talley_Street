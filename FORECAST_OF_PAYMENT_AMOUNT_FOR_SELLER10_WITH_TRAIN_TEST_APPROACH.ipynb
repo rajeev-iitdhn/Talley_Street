{
 "cells": [
  {
   "cell_type": "markdown",
   "metadata": {},
   "source": [
    "**THIS NOTEBOOK CONTAINS FORECAST OF PAYMENT FOR SELLER 10 WITH TRANSACTION DATE FOR DIFFERENT SIZE OF TRAINING AND TESTING DATASETS. IT ALSO CONTAINS THE BEST POSSIBLE FORECAST FOR THE PAYMENT BY TRANSACTION DATE.**"
   ]
  },
  {
   "cell_type": "code",
   "execution_count": 13,
   "metadata": {},
   "outputs": [],
   "source": [
    "#Importing the prerequisite libraries that are to be used further.\n",
    "import pandas as pd\n",
    "import warnings\n",
    "import itertools\n",
    "import numpy as np\n",
    "import matplotlib.pyplot as plt\n",
    "warnings.filterwarnings(\"ignore\")\n",
    "plt.style.use('fivethirtyeight')\n",
    "import statsmodels.api as sm\n",
    "import matplotlib.pyplot as plt"
   ]
  },
  {
   "cell_type": "markdown",
   "metadata": {},
   "source": [
    "**Below is the importing of data file. It also includes changing the format of date time and extracting the date from it.**"
   ]
  },
  {
   "cell_type": "code",
   "execution_count": 14,
   "metadata": {},
   "outputs": [],
   "source": [
    "payment=pd.read_csv(\"seller_buyer_paymentdetails.csv\")"
   ]
  },
  {
   "cell_type": "code",
   "execution_count": 3,
   "metadata": {},
   "outputs": [
    {
     "name": "stdout",
     "output_type": "stream",
     "text": [
      "<class 'pandas.core.frame.DataFrame'>\n",
      "RangeIndex: 86319 entries, 0 to 86318\n",
      "Data columns (total 7 columns):\n",
      "TransactionDate    86319 non-null object\n",
      "PaymentDate        86319 non-null object\n",
      "PaymentId          86319 non-null int64\n",
      "SellerId           86319 non-null int64\n",
      "BuyerId            86319 non-null int64\n",
      "Pay_Amount         82415 non-null float64\n",
      "Trans_amount       86319 non-null int64\n",
      "dtypes: float64(1), int64(4), object(2)\n",
      "memory usage: 4.6+ MB\n"
     ]
    }
   ],
   "source": [
    "payment.info()"
   ]
  },
  {
   "cell_type": "code",
   "execution_count": null,
   "metadata": {},
   "outputs": [],
   "source": []
  },
  {
   "cell_type": "code",
   "execution_count": 4,
   "metadata": {},
   "outputs": [],
   "source": [
    "payment[\"TransactionDate\"]=pd.to_datetime(pd.to_datetime(payment[\"TransactionDate\"]).dt.date)\n",
    "payment[\"PaymentDate\"]=pd.to_datetime(pd.to_datetime(payment[\"PaymentDate\"]).dt.date)"
   ]
  },
  {
   "cell_type": "code",
   "execution_count": 5,
   "metadata": {},
   "outputs": [
    {
     "data": {
      "text/html": [
       "<div>\n",
       "<style scoped>\n",
       "    .dataframe tbody tr th:only-of-type {\n",
       "        vertical-align: middle;\n",
       "    }\n",
       "\n",
       "    .dataframe tbody tr th {\n",
       "        vertical-align: top;\n",
       "    }\n",
       "\n",
       "    .dataframe thead th {\n",
       "        text-align: right;\n",
       "    }\n",
       "</style>\n",
       "<table border=\"1\" class=\"dataframe\">\n",
       "  <thead>\n",
       "    <tr style=\"text-align: right;\">\n",
       "      <th></th>\n",
       "      <th>TransactionDate</th>\n",
       "      <th>PaymentDate</th>\n",
       "      <th>PaymentId</th>\n",
       "      <th>SellerId</th>\n",
       "      <th>BuyerId</th>\n",
       "      <th>Pay_Amount</th>\n",
       "      <th>Trans_amount</th>\n",
       "    </tr>\n",
       "  </thead>\n",
       "  <tbody>\n",
       "    <tr>\n",
       "      <th>0</th>\n",
       "      <td>2019-03-15</td>\n",
       "      <td>2016-02-10</td>\n",
       "      <td>150470</td>\n",
       "      <td>19</td>\n",
       "      <td>53484</td>\n",
       "      <td>NaN</td>\n",
       "      <td>10000</td>\n",
       "    </tr>\n",
       "    <tr>\n",
       "      <th>1</th>\n",
       "      <td>2017-04-18</td>\n",
       "      <td>2016-02-10</td>\n",
       "      <td>150470</td>\n",
       "      <td>19</td>\n",
       "      <td>53484</td>\n",
       "      <td>NaN</td>\n",
       "      <td>5000000</td>\n",
       "    </tr>\n",
       "    <tr>\n",
       "      <th>2</th>\n",
       "      <td>2019-07-18</td>\n",
       "      <td>2019-07-18</td>\n",
       "      <td>150470</td>\n",
       "      <td>1</td>\n",
       "      <td>53487</td>\n",
       "      <td>5000.0</td>\n",
       "      <td>5000</td>\n",
       "    </tr>\n",
       "    <tr>\n",
       "      <th>3</th>\n",
       "      <td>2019-07-18</td>\n",
       "      <td>2019-07-18</td>\n",
       "      <td>150470</td>\n",
       "      <td>1</td>\n",
       "      <td>53488</td>\n",
       "      <td>13000.0</td>\n",
       "      <td>13000</td>\n",
       "    </tr>\n",
       "    <tr>\n",
       "      <th>4</th>\n",
       "      <td>2019-07-18</td>\n",
       "      <td>2019-07-18</td>\n",
       "      <td>150470</td>\n",
       "      <td>1</td>\n",
       "      <td>53488</td>\n",
       "      <td>17500.0</td>\n",
       "      <td>17500</td>\n",
       "    </tr>\n",
       "  </tbody>\n",
       "</table>\n",
       "</div>"
      ],
      "text/plain": [
       "  TransactionDate PaymentDate  PaymentId  SellerId  BuyerId  Pay_Amount  \\\n",
       "0      2019-03-15  2016-02-10     150470        19    53484         NaN   \n",
       "1      2017-04-18  2016-02-10     150470        19    53484         NaN   \n",
       "2      2019-07-18  2019-07-18     150470         1    53487      5000.0   \n",
       "3      2019-07-18  2019-07-18     150470         1    53488     13000.0   \n",
       "4      2019-07-18  2019-07-18     150470         1    53488     17500.0   \n",
       "\n",
       "   Trans_amount  \n",
       "0         10000  \n",
       "1       5000000  \n",
       "2          5000  \n",
       "3         13000  \n",
       "4         17500  "
      ]
     },
     "execution_count": 5,
     "metadata": {},
     "output_type": "execute_result"
    }
   ],
   "source": [
    "payment.head()"
   ]
  },
  {
   "cell_type": "markdown",
   "metadata": {},
   "source": [
    "**The sample data is below consisting of payment details. The amount variable is a discontinuous one, It has several unavailable values.**"
   ]
  },
  {
   "cell_type": "code",
   "execution_count": 6,
   "metadata": {},
   "outputs": [],
   "source": [
    "#Function to extract seller wise data\n",
    "#def selw(data, k):\n",
    "    #data=data[data[\"SellerId\"]==k][[\"TransactionDate\",\"Amount\"]].reset_index(drop=True)\n",
    "    #return data"
   ]
  },
  {
   "cell_type": "code",
   "execution_count": 7,
   "metadata": {},
   "outputs": [],
   "source": [
    "#seller_13=selw(payment, 13)"
   ]
  },
  {
   "cell_type": "code",
   "execution_count": 8,
   "metadata": {},
   "outputs": [],
   "source": [
    "#seller_13.head()"
   ]
  },
  {
   "cell_type": "markdown",
   "metadata": {},
   "source": [
    "**Delay is the amount of days that a seller is waiting to get the payment from the buyer.**"
   ]
  },
  {
   "cell_type": "code",
   "execution_count": 9,
   "metadata": {},
   "outputs": [],
   "source": [
    "payment[\"Delay\"]=pd.to_datetime(payment.PaymentDate-payment.TransactionDate).dt.day"
   ]
  },
  {
   "cell_type": "code",
   "execution_count": 10,
   "metadata": {},
   "outputs": [
    {
     "data": {
      "text/html": [
       "<div>\n",
       "<style scoped>\n",
       "    .dataframe tbody tr th:only-of-type {\n",
       "        vertical-align: middle;\n",
       "    }\n",
       "\n",
       "    .dataframe tbody tr th {\n",
       "        vertical-align: top;\n",
       "    }\n",
       "\n",
       "    .dataframe thead th {\n",
       "        text-align: right;\n",
       "    }\n",
       "</style>\n",
       "<table border=\"1\" class=\"dataframe\">\n",
       "  <thead>\n",
       "    <tr style=\"text-align: right;\">\n",
       "      <th></th>\n",
       "      <th>TransactionDate</th>\n",
       "      <th>PaymentDate</th>\n",
       "      <th>PaymentId</th>\n",
       "      <th>SellerId</th>\n",
       "      <th>BuyerId</th>\n",
       "      <th>Pay_Amount</th>\n",
       "      <th>Trans_amount</th>\n",
       "      <th>Delay</th>\n",
       "    </tr>\n",
       "  </thead>\n",
       "  <tbody>\n",
       "    <tr>\n",
       "      <th>0</th>\n",
       "      <td>2019-03-15</td>\n",
       "      <td>2016-02-10</td>\n",
       "      <td>150470</td>\n",
       "      <td>19</td>\n",
       "      <td>53484</td>\n",
       "      <td>NaN</td>\n",
       "      <td>10000</td>\n",
       "      <td>29</td>\n",
       "    </tr>\n",
       "    <tr>\n",
       "      <th>1</th>\n",
       "      <td>2017-04-18</td>\n",
       "      <td>2016-02-10</td>\n",
       "      <td>150470</td>\n",
       "      <td>19</td>\n",
       "      <td>53484</td>\n",
       "      <td>NaN</td>\n",
       "      <td>5000000</td>\n",
       "      <td>25</td>\n",
       "    </tr>\n",
       "    <tr>\n",
       "      <th>2</th>\n",
       "      <td>2019-07-18</td>\n",
       "      <td>2019-07-18</td>\n",
       "      <td>150470</td>\n",
       "      <td>1</td>\n",
       "      <td>53487</td>\n",
       "      <td>5000.0</td>\n",
       "      <td>5000</td>\n",
       "      <td>1</td>\n",
       "    </tr>\n",
       "    <tr>\n",
       "      <th>3</th>\n",
       "      <td>2019-07-18</td>\n",
       "      <td>2019-07-18</td>\n",
       "      <td>150470</td>\n",
       "      <td>1</td>\n",
       "      <td>53488</td>\n",
       "      <td>13000.0</td>\n",
       "      <td>13000</td>\n",
       "      <td>1</td>\n",
       "    </tr>\n",
       "    <tr>\n",
       "      <th>4</th>\n",
       "      <td>2019-07-18</td>\n",
       "      <td>2019-07-18</td>\n",
       "      <td>150470</td>\n",
       "      <td>1</td>\n",
       "      <td>53488</td>\n",
       "      <td>17500.0</td>\n",
       "      <td>17500</td>\n",
       "      <td>1</td>\n",
       "    </tr>\n",
       "  </tbody>\n",
       "</table>\n",
       "</div>"
      ],
      "text/plain": [
       "  TransactionDate PaymentDate  PaymentId  SellerId  BuyerId  Pay_Amount  \\\n",
       "0      2019-03-15  2016-02-10     150470        19    53484         NaN   \n",
       "1      2017-04-18  2016-02-10     150470        19    53484         NaN   \n",
       "2      2019-07-18  2019-07-18     150470         1    53487      5000.0   \n",
       "3      2019-07-18  2019-07-18     150470         1    53488     13000.0   \n",
       "4      2019-07-18  2019-07-18     150470         1    53488     17500.0   \n",
       "\n",
       "   Trans_amount  Delay  \n",
       "0         10000     29  \n",
       "1       5000000     25  \n",
       "2          5000      1  \n",
       "3         13000      1  \n",
       "4         17500      1  "
      ]
     },
     "execution_count": 10,
     "metadata": {},
     "output_type": "execute_result"
    }
   ],
   "source": [
    "payment.head()"
   ]
  },
  {
   "cell_type": "markdown",
   "metadata": {},
   "source": [
    "**Below shows the number of transactions that a seller has gone through.**"
   ]
  },
  {
   "cell_type": "code",
   "execution_count": 11,
   "metadata": {},
   "outputs": [],
   "source": [
    "seller_count=payment.groupby(\"SellerId\").count()"
   ]
  },
  {
   "cell_type": "code",
   "execution_count": 12,
   "metadata": {
    "scrolled": true
   },
   "outputs": [
    {
     "data": {
      "text/html": [
       "<div>\n",
       "<style scoped>\n",
       "    .dataframe tbody tr th:only-of-type {\n",
       "        vertical-align: middle;\n",
       "    }\n",
       "\n",
       "    .dataframe tbody tr th {\n",
       "        vertical-align: top;\n",
       "    }\n",
       "\n",
       "    .dataframe thead th {\n",
       "        text-align: right;\n",
       "    }\n",
       "</style>\n",
       "<table border=\"1\" class=\"dataframe\">\n",
       "  <thead>\n",
       "    <tr style=\"text-align: right;\">\n",
       "      <th></th>\n",
       "      <th>TransactionDate</th>\n",
       "      <th>PaymentDate</th>\n",
       "      <th>PaymentId</th>\n",
       "      <th>BuyerId</th>\n",
       "      <th>Pay_Amount</th>\n",
       "      <th>Trans_amount</th>\n",
       "      <th>Delay</th>\n",
       "    </tr>\n",
       "    <tr>\n",
       "      <th>SellerId</th>\n",
       "      <th></th>\n",
       "      <th></th>\n",
       "      <th></th>\n",
       "      <th></th>\n",
       "      <th></th>\n",
       "      <th></th>\n",
       "      <th></th>\n",
       "    </tr>\n",
       "  </thead>\n",
       "  <tbody>\n",
       "    <tr>\n",
       "      <th>1</th>\n",
       "      <td>8</td>\n",
       "      <td>8</td>\n",
       "      <td>8</td>\n",
       "      <td>8</td>\n",
       "      <td>7</td>\n",
       "      <td>8</td>\n",
       "      <td>8</td>\n",
       "    </tr>\n",
       "    <tr>\n",
       "      <th>2</th>\n",
       "      <td>631</td>\n",
       "      <td>631</td>\n",
       "      <td>631</td>\n",
       "      <td>631</td>\n",
       "      <td>597</td>\n",
       "      <td>631</td>\n",
       "      <td>631</td>\n",
       "    </tr>\n",
       "    <tr>\n",
       "      <th>3</th>\n",
       "      <td>97</td>\n",
       "      <td>97</td>\n",
       "      <td>97</td>\n",
       "      <td>97</td>\n",
       "      <td>88</td>\n",
       "      <td>97</td>\n",
       "      <td>97</td>\n",
       "    </tr>\n",
       "    <tr>\n",
       "      <th>5</th>\n",
       "      <td>1790</td>\n",
       "      <td>1790</td>\n",
       "      <td>1790</td>\n",
       "      <td>1790</td>\n",
       "      <td>1588</td>\n",
       "      <td>1790</td>\n",
       "      <td>1790</td>\n",
       "    </tr>\n",
       "    <tr>\n",
       "      <th>6</th>\n",
       "      <td>32</td>\n",
       "      <td>32</td>\n",
       "      <td>32</td>\n",
       "      <td>32</td>\n",
       "      <td>25</td>\n",
       "      <td>32</td>\n",
       "      <td>32</td>\n",
       "    </tr>\n",
       "    <tr>\n",
       "      <th>9</th>\n",
       "      <td>2898</td>\n",
       "      <td>2898</td>\n",
       "      <td>2898</td>\n",
       "      <td>2898</td>\n",
       "      <td>2826</td>\n",
       "      <td>2898</td>\n",
       "      <td>2898</td>\n",
       "    </tr>\n",
       "    <tr>\n",
       "      <th>10</th>\n",
       "      <td>20803</td>\n",
       "      <td>20803</td>\n",
       "      <td>20803</td>\n",
       "      <td>20803</td>\n",
       "      <td>20393</td>\n",
       "      <td>20803</td>\n",
       "      <td>20803</td>\n",
       "    </tr>\n",
       "    <tr>\n",
       "      <th>11</th>\n",
       "      <td>4118</td>\n",
       "      <td>4118</td>\n",
       "      <td>4118</td>\n",
       "      <td>4118</td>\n",
       "      <td>3493</td>\n",
       "      <td>4118</td>\n",
       "      <td>4118</td>\n",
       "    </tr>\n",
       "    <tr>\n",
       "      <th>12</th>\n",
       "      <td>7946</td>\n",
       "      <td>7946</td>\n",
       "      <td>7946</td>\n",
       "      <td>7946</td>\n",
       "      <td>7790</td>\n",
       "      <td>7946</td>\n",
       "      <td>7946</td>\n",
       "    </tr>\n",
       "    <tr>\n",
       "      <th>13</th>\n",
       "      <td>654</td>\n",
       "      <td>654</td>\n",
       "      <td>654</td>\n",
       "      <td>654</td>\n",
       "      <td>631</td>\n",
       "      <td>654</td>\n",
       "      <td>654</td>\n",
       "    </tr>\n",
       "    <tr>\n",
       "      <th>14</th>\n",
       "      <td>2676</td>\n",
       "      <td>2676</td>\n",
       "      <td>2676</td>\n",
       "      <td>2676</td>\n",
       "      <td>2584</td>\n",
       "      <td>2676</td>\n",
       "      <td>2676</td>\n",
       "    </tr>\n",
       "    <tr>\n",
       "      <th>15</th>\n",
       "      <td>4575</td>\n",
       "      <td>4575</td>\n",
       "      <td>4575</td>\n",
       "      <td>4575</td>\n",
       "      <td>4492</td>\n",
       "      <td>4575</td>\n",
       "      <td>4575</td>\n",
       "    </tr>\n",
       "    <tr>\n",
       "      <th>16</th>\n",
       "      <td>967</td>\n",
       "      <td>967</td>\n",
       "      <td>967</td>\n",
       "      <td>967</td>\n",
       "      <td>808</td>\n",
       "      <td>967</td>\n",
       "      <td>967</td>\n",
       "    </tr>\n",
       "    <tr>\n",
       "      <th>17</th>\n",
       "      <td>556</td>\n",
       "      <td>556</td>\n",
       "      <td>556</td>\n",
       "      <td>556</td>\n",
       "      <td>508</td>\n",
       "      <td>556</td>\n",
       "      <td>556</td>\n",
       "    </tr>\n",
       "    <tr>\n",
       "      <th>18</th>\n",
       "      <td>1990</td>\n",
       "      <td>1990</td>\n",
       "      <td>1990</td>\n",
       "      <td>1990</td>\n",
       "      <td>1853</td>\n",
       "      <td>1990</td>\n",
       "      <td>1990</td>\n",
       "    </tr>\n",
       "    <tr>\n",
       "      <th>19</th>\n",
       "      <td>2</td>\n",
       "      <td>2</td>\n",
       "      <td>2</td>\n",
       "      <td>2</td>\n",
       "      <td>0</td>\n",
       "      <td>2</td>\n",
       "      <td>2</td>\n",
       "    </tr>\n",
       "    <tr>\n",
       "      <th>20</th>\n",
       "      <td>2316</td>\n",
       "      <td>2316</td>\n",
       "      <td>2316</td>\n",
       "      <td>2316</td>\n",
       "      <td>2199</td>\n",
       "      <td>2316</td>\n",
       "      <td>2316</td>\n",
       "    </tr>\n",
       "    <tr>\n",
       "      <th>21</th>\n",
       "      <td>25065</td>\n",
       "      <td>25065</td>\n",
       "      <td>25065</td>\n",
       "      <td>25065</td>\n",
       "      <td>24105</td>\n",
       "      <td>25065</td>\n",
       "      <td>25065</td>\n",
       "    </tr>\n",
       "    <tr>\n",
       "      <th>22</th>\n",
       "      <td>1035</td>\n",
       "      <td>1035</td>\n",
       "      <td>1035</td>\n",
       "      <td>1035</td>\n",
       "      <td>1012</td>\n",
       "      <td>1035</td>\n",
       "      <td>1035</td>\n",
       "    </tr>\n",
       "    <tr>\n",
       "      <th>23</th>\n",
       "      <td>4663</td>\n",
       "      <td>4663</td>\n",
       "      <td>4663</td>\n",
       "      <td>4663</td>\n",
       "      <td>4483</td>\n",
       "      <td>4663</td>\n",
       "      <td>4663</td>\n",
       "    </tr>\n",
       "    <tr>\n",
       "      <th>24</th>\n",
       "      <td>51</td>\n",
       "      <td>51</td>\n",
       "      <td>51</td>\n",
       "      <td>51</td>\n",
       "      <td>0</td>\n",
       "      <td>51</td>\n",
       "      <td>51</td>\n",
       "    </tr>\n",
       "    <tr>\n",
       "      <th>25</th>\n",
       "      <td>2439</td>\n",
       "      <td>2439</td>\n",
       "      <td>2439</td>\n",
       "      <td>2439</td>\n",
       "      <td>1988</td>\n",
       "      <td>2439</td>\n",
       "      <td>2439</td>\n",
       "    </tr>\n",
       "    <tr>\n",
       "      <th>26</th>\n",
       "      <td>321</td>\n",
       "      <td>321</td>\n",
       "      <td>321</td>\n",
       "      <td>321</td>\n",
       "      <td>304</td>\n",
       "      <td>321</td>\n",
       "      <td>321</td>\n",
       "    </tr>\n",
       "    <tr>\n",
       "      <th>27</th>\n",
       "      <td>454</td>\n",
       "      <td>454</td>\n",
       "      <td>454</td>\n",
       "      <td>454</td>\n",
       "      <td>440</td>\n",
       "      <td>454</td>\n",
       "      <td>454</td>\n",
       "    </tr>\n",
       "    <tr>\n",
       "      <th>28</th>\n",
       "      <td>232</td>\n",
       "      <td>232</td>\n",
       "      <td>232</td>\n",
       "      <td>232</td>\n",
       "      <td>201</td>\n",
       "      <td>232</td>\n",
       "      <td>232</td>\n",
       "    </tr>\n",
       "  </tbody>\n",
       "</table>\n",
       "</div>"
      ],
      "text/plain": [
       "          TransactionDate  PaymentDate  PaymentId  BuyerId  Pay_Amount  \\\n",
       "SellerId                                                                 \n",
       "1                       8            8          8        8           7   \n",
       "2                     631          631        631      631         597   \n",
       "3                      97           97         97       97          88   \n",
       "5                    1790         1790       1790     1790        1588   \n",
       "6                      32           32         32       32          25   \n",
       "9                    2898         2898       2898     2898        2826   \n",
       "10                  20803        20803      20803    20803       20393   \n",
       "11                   4118         4118       4118     4118        3493   \n",
       "12                   7946         7946       7946     7946        7790   \n",
       "13                    654          654        654      654         631   \n",
       "14                   2676         2676       2676     2676        2584   \n",
       "15                   4575         4575       4575     4575        4492   \n",
       "16                    967          967        967      967         808   \n",
       "17                    556          556        556      556         508   \n",
       "18                   1990         1990       1990     1990        1853   \n",
       "19                      2            2          2        2           0   \n",
       "20                   2316         2316       2316     2316        2199   \n",
       "21                  25065        25065      25065    25065       24105   \n",
       "22                   1035         1035       1035     1035        1012   \n",
       "23                   4663         4663       4663     4663        4483   \n",
       "24                     51           51         51       51           0   \n",
       "25                   2439         2439       2439     2439        1988   \n",
       "26                    321          321        321      321         304   \n",
       "27                    454          454        454      454         440   \n",
       "28                    232          232        232      232         201   \n",
       "\n",
       "          Trans_amount  Delay  \n",
       "SellerId                       \n",
       "1                    8      8  \n",
       "2                  631    631  \n",
       "3                   97     97  \n",
       "5                 1790   1790  \n",
       "6                   32     32  \n",
       "9                 2898   2898  \n",
       "10               20803  20803  \n",
       "11                4118   4118  \n",
       "12                7946   7946  \n",
       "13                 654    654  \n",
       "14                2676   2676  \n",
       "15                4575   4575  \n",
       "16                 967    967  \n",
       "17                 556    556  \n",
       "18                1990   1990  \n",
       "19                   2      2  \n",
       "20                2316   2316  \n",
       "21               25065  25065  \n",
       "22                1035   1035  \n",
       "23                4663   4663  \n",
       "24                  51     51  \n",
       "25                2439   2439  \n",
       "26                 321    321  \n",
       "27                 454    454  \n",
       "28                 232    232  "
      ]
     },
     "execution_count": 12,
     "metadata": {},
     "output_type": "execute_result"
    }
   ],
   "source": [
    "seller_count"
   ]
  },
  {
   "cell_type": "markdown",
   "metadata": {},
   "source": [
    "**FORECAST FOR SELLER_10**"
   ]
  },
  {
   "cell_type": "markdown",
   "metadata": {},
   "source": [
    "**Following is the time series preparation for seller 10 by extracting transaction date and payment amount.**"
   ]
  },
  {
   "cell_type": "code",
   "execution_count": 358,
   "metadata": {},
   "outputs": [],
   "source": [
    "sel=payment[payment.SellerId==10][[\"TransactionDate\",\"Amount\"]]\n",
    "sel=sel.set_index(\"TransactionDate\")\n",
    "sel = sel.groupby(pd.Grouper(freq=\"M\")).sum()\n",
    "sel[\"Amount\"]=sel.Amount.apply(lambda x:int(x))\n",
    "ts=sel[\"Amount\"]"
   ]
  },
  {
   "cell_type": "code",
   "execution_count": 253,
   "metadata": {},
   "outputs": [
    {
     "data": {
      "text/plain": [
       "TransactionDate\n",
       "2018-10-31    35065089\n",
       "2018-11-30    33674686\n",
       "2018-12-31    35308666\n",
       "2019-01-31    35601218\n",
       "2019-02-28    37582501\n",
       "2019-03-31    53420819\n",
       "2019-04-30    35772720\n",
       "2019-05-31    37279213\n",
       "2019-06-30    35416749\n",
       "2019-07-31       19444\n",
       "Freq: M, Name: Amount, dtype: int64"
      ]
     },
     "execution_count": 253,
     "metadata": {},
     "output_type": "execute_result"
    }
   ],
   "source": [
    "ts.tail(10)"
   ]
  },
  {
   "cell_type": "code",
   "execution_count": 254,
   "metadata": {},
   "outputs": [],
   "source": [
    "ts=ts[:-1]"
   ]
  },
  {
   "cell_type": "code",
   "execution_count": 255,
   "metadata": {},
   "outputs": [
    {
     "data": {
      "text/plain": [
       "TransactionDate\n",
       "2019-02-28    37582501\n",
       "2019-03-31    53420819\n",
       "2019-04-30    35772720\n",
       "2019-05-31    37279213\n",
       "2019-06-30    35416749\n",
       "Freq: M, Name: Amount, dtype: int64"
      ]
     },
     "execution_count": 255,
     "metadata": {},
     "output_type": "execute_result"
    }
   ],
   "source": [
    "ts.tail()"
   ]
  },
  {
   "cell_type": "code",
   "execution_count": 262,
   "metadata": {},
   "outputs": [
    {
     "data": {
      "text/plain": [
       "[<matplotlib.lines.Line2D at 0x19f84456f60>]"
      ]
     },
     "execution_count": 262,
     "metadata": {},
     "output_type": "execute_result"
    },
    {
     "data": {
      "image/png": "[encoded data removed]",
      "text/plain": [
       "<Figure size 1080x432 with 1 Axes>"
      ]
     },
     "metadata": {},
     "output_type": "display_data"
    }
   ],
   "source": [
    "plt.figure(figsize=(15,6))\n",
    "plt.plot(ts, color=\"red\")"
   ]
  },
  {
   "cell_type": "code",
   "execution_count": 264,
   "metadata": {},
   "outputs": [
    {
     "data": {
      "text/plain": [
       "Test_stats                     -4.519844\n",
       "p-value                         0.000181\n",
       "#Lags Used                      5.000000\n",
       "Number of Observations Used    38.000000\n",
       "Critical Value (1%)            -3.615509\n",
       "Critical Value (5%)            -2.941262\n",
       "Critical Value (10%)           -2.609200\n",
       "dtype: float64"
      ]
     },
     "execution_count": 264,
     "metadata": {},
     "output_type": "execute_result"
    }
   ],
   "source": [
    "dft(ts)"
   ]
  },
  {
   "cell_type": "code",
   "execution_count": null,
   "metadata": {},
   "outputs": [],
   "source": []
  },
  {
   "cell_type": "markdown",
   "metadata": {},
   "source": [
    "**This is the sample 10 datapoints for seller 10**"
   ]
  },
  {
   "cell_type": "code",
   "execution_count": 273,
   "metadata": {},
   "outputs": [
    {
     "data": {
      "text/plain": [
       "0"
      ]
     },
     "execution_count": 273,
     "metadata": {},
     "output_type": "execute_result"
    }
   ],
   "source": [
    "ts.min()"
   ]
  },
  {
   "cell_type": "code",
   "execution_count": 274,
   "metadata": {},
   "outputs": [
    {
     "data": {
      "text/plain": [
       "TransactionDate\n",
       "2015-11-30        9000\n",
       "2015-12-31        9000\n",
       "2016-01-31           0\n",
       "2016-02-29           0\n",
       "2016-03-31      608865\n",
       "2016-04-30     1152470\n",
       "2016-05-31     3139485\n",
       "2016-06-30    34058424\n",
       "2016-07-31    33298404\n",
       "2016-08-31    33498660\n",
       "Freq: M, Name: Amount, dtype: int64"
      ]
     },
     "execution_count": 274,
     "metadata": {},
     "output_type": "execute_result"
    }
   ],
   "source": [
    "ts.head(10)"
   ]
  },
  {
   "cell_type": "markdown",
   "metadata": {},
   "source": [
    "**Below is the test for stationarity of the time series.**"
   ]
  },
  {
   "cell_type": "code",
   "execution_count": 275,
   "metadata": {},
   "outputs": [],
   "source": [
    "from statsmodels.tsa.stattools import adfuller\n",
    "def dft(ts):\n",
    "    dftest = adfuller(ts, autolag='AIC')\n",
    "    dfoutput = pd.Series(dftest[0:4], index=['Test_stats','p-value','#Lags Used','Number of Observations Used'])\n",
    "    for key,value in dftest[4].items():\n",
    "        dfoutput['Critical Value (%s)'%key] = value\n",
    "    return(dfoutput)"
   ]
  },
  {
   "cell_type": "markdown",
   "metadata": {},
   "source": [
    "**Testing the stationariy for the series by using Dickey Fuller test.**"
   ]
  },
  {
   "cell_type": "code",
   "execution_count": 276,
   "metadata": {},
   "outputs": [
    {
     "data": {
      "text/plain": [
       "Test_stats                     -4.519844\n",
       "p-value                         0.000181\n",
       "#Lags Used                      5.000000\n",
       "Number of Observations Used    38.000000\n",
       "Critical Value (1%)            -3.615509\n",
       "Critical Value (5%)            -2.941262\n",
       "Critical Value (10%)           -2.609200\n",
       "dtype: float64"
      ]
     },
     "execution_count": 276,
     "metadata": {},
     "output_type": "execute_result"
    }
   ],
   "source": [
    "dft(ts)"
   ]
  },
  {
   "cell_type": "markdown",
   "metadata": {},
   "source": [
    "**Clearly the Test_stats is already lesser than the minimum critical values. So with 99% confidence it can be inferred that the series is stationary.**"
   ]
  },
  {
   "cell_type": "code",
   "execution_count": null,
   "metadata": {},
   "outputs": [],
   "source": []
  },
  {
   "cell_type": "code",
   "execution_count": null,
   "metadata": {},
   "outputs": [],
   "source": []
  },
  {
   "cell_type": "markdown",
   "metadata": {},
   "source": [
    "**Below is the preparation of input parameters for the ARIMA model to be applied on the series.**"
   ]
  },
  {
   "cell_type": "code",
   "execution_count": 277,
   "metadata": {},
   "outputs": [],
   "source": [
    "from statsmodels.tsa.stattools import acf, pacf\n",
    "# Requisite libraries for computing auto correlation function and partial auto correlation function. "
   ]
  },
  {
   "cell_type": "code",
   "execution_count": 278,
   "metadata": {},
   "outputs": [],
   "source": [
    "lag_acf = acf(ts, nlags=5)\n",
    "lag_pacf = pacf(ts, nlags=5, method='ols')\n",
    "#ols stands for ordinary least squared."
   ]
  },
  {
   "cell_type": "code",
   "execution_count": 279,
   "metadata": {},
   "outputs": [
    {
     "data": {
      "text/plain": [
       "Text(0.5, 1.0, 'Autocorrelation Function')"
      ]
     },
     "execution_count": 279,
     "metadata": {},
     "output_type": "execute_result"
    },
    {
     "data": {
      "image/png": "[encoded data removed]",
      "text/plain": [
       "<Figure size 432x288 with 1 Axes>"
      ]
     },
     "metadata": {},
     "output_type": "display_data"
    }
   ],
   "source": [
    "#This is the plotting of acf.\n",
    "plt.subplot(121) \n",
    "plt.plot(lag_acf)\n",
    "plt.axhline(y=0,linestyle='--',color='gray')\n",
    "plt.axhline(y=-1.96/np.sqrt(len(ts)),linestyle='--',color='gray')\n",
    "plt.axhline(y=1.96/np.sqrt(len(ts)),linestyle='--',color='gray')\n",
    "plt.title('Autocorrelation Function')\n",
    "            "
   ]
  },
  {
   "cell_type": "markdown",
   "metadata": {},
   "source": [
    "**From above plot it can be seen that plot is interesecting the upper confidence intervel at lag=4. so value of q is 4.**"
   ]
  },
  {
   "cell_type": "code",
   "execution_count": 280,
   "metadata": {},
   "outputs": [
    {
     "data": {
      "image/png": "[encoded data removed]",
      "text/plain": [
       "<Figure size 432x288 with 1 Axes>"
      ]
     },
     "metadata": {},
     "output_type": "display_data"
    }
   ],
   "source": [
    "#Plot PACF:\n",
    "plt.subplot(122)\n",
    "plt.plot(lag_pacf)\n",
    "plt.axhline(y=0,linestyle='--',color='gray')\n",
    "plt.axhline(y=-1.96/np.sqrt(len(ts)),linestyle='--',color='gray')\n",
    "plt.axhline(y=1.96/np.sqrt(len(ts)),linestyle='--',color='gray')\n",
    "plt.title('Partial Autocorrelation Function')\n",
    "plt.tight_layout()"
   ]
  },
  {
   "cell_type": "markdown",
   "metadata": {},
   "source": [
    "**From above plot it can be seen that plot is interesecting the upper confidence intervel at lag=2. so value of p is 2.**"
   ]
  },
  {
   "cell_type": "code",
   "execution_count": null,
   "metadata": {},
   "outputs": [],
   "source": []
  },
  {
   "cell_type": "markdown",
   "metadata": {},
   "source": [
    "<font color=\"blue\">**Applying train test approach to the data for seller 10**</font>"
   ]
  },
  {
   "cell_type": "markdown",
   "metadata": {},
   "source": [
    "**Initially 90 % of data is taken in the training data set and remaining 10% in the testing data set.**"
   ]
  },
  {
   "cell_type": "code",
   "execution_count": 281,
   "metadata": {},
   "outputs": [],
   "source": [
    "train_size = int(np.ceil(len(ts)*0.9))"
   ]
  },
  {
   "cell_type": "code",
   "execution_count": 282,
   "metadata": {},
   "outputs": [
    {
     "data": {
      "text/plain": [
       "40"
      ]
     },
     "execution_count": 282,
     "metadata": {},
     "output_type": "execute_result"
    }
   ],
   "source": [
    "#Below is size of training data.\n",
    "train_size"
   ]
  },
  {
   "cell_type": "markdown",
   "metadata": {},
   "source": [
    "**The data is being split into training and testing set.**"
   ]
  },
  {
   "cell_type": "code",
   "execution_count": 283,
   "metadata": {},
   "outputs": [],
   "source": [
    "train, test = ts[0:train_size], ts[train_size:len(ts)]"
   ]
  },
  {
   "cell_type": "code",
   "execution_count": 285,
   "metadata": {},
   "outputs": [
    {
     "data": {
      "text/plain": [
       "TransactionDate\n",
       "2019-02-28    37582501\n",
       "2019-03-31    53420819\n",
       "2019-04-30    35772720\n",
       "2019-05-31    37279213\n",
       "2019-06-30    35416749\n",
       "Freq: M, Name: Amount, dtype: int64"
      ]
     },
     "execution_count": 285,
     "metadata": {},
     "output_type": "execute_result"
    }
   ],
   "source": [
    "ts.tail()"
   ]
  },
  {
   "cell_type": "code",
   "execution_count": 286,
   "metadata": {},
   "outputs": [
    {
     "data": {
      "text/plain": [
       "TransactionDate\n",
       "2018-10-31    35065089\n",
       "2018-11-30    33674686\n",
       "2018-12-31    35308666\n",
       "2019-01-31    35601218\n",
       "2019-02-28    37582501\n",
       "Freq: M, Name: Amount, dtype: int64"
      ]
     },
     "execution_count": 286,
     "metadata": {},
     "output_type": "execute_result"
    }
   ],
   "source": [
    "train.tail()"
   ]
  },
  {
   "cell_type": "code",
   "execution_count": 287,
   "metadata": {},
   "outputs": [
    {
     "data": {
      "text/plain": [
       "TransactionDate\n",
       "2019-03-31    53420819\n",
       "2019-04-30    35772720\n",
       "2019-05-31    37279213\n",
       "2019-06-30    35416749\n",
       "Freq: M, Name: Amount, dtype: int64"
      ]
     },
     "execution_count": 287,
     "metadata": {},
     "output_type": "execute_result"
    }
   ],
   "source": [
    "test.head()"
   ]
  },
  {
   "cell_type": "markdown",
   "metadata": {},
   "source": [
    "**Now testing the stationarity of the series.**"
   ]
  },
  {
   "cell_type": "code",
   "execution_count": 288,
   "metadata": {},
   "outputs": [
    {
     "data": {
      "text/plain": [
       "Test_stats                     -4.241253\n",
       "p-value                         0.000561\n",
       "#Lags Used                      5.000000\n",
       "Number of Observations Used    34.000000\n",
       "Critical Value (1%)            -3.639224\n",
       "Critical Value (5%)            -2.951230\n",
       "Critical Value (10%)           -2.614447\n",
       "dtype: float64"
      ]
     },
     "execution_count": 288,
     "metadata": {},
     "output_type": "execute_result"
    }
   ],
   "source": [
    "dft(train)"
   ]
  },
  {
   "cell_type": "markdown",
   "metadata": {},
   "source": [
    "**Clearly the test_stats is lesser than even 1% critical value. So the series is stationary.**"
   ]
  },
  {
   "cell_type": "code",
   "execution_count": 289,
   "metadata": {},
   "outputs": [],
   "source": [
    "#Importing the requisite libraries for arima model.\n",
    "from statsmodels.tsa.arima_model import ARIMA"
   ]
  },
  {
   "cell_type": "markdown",
   "metadata": {},
   "source": [
    "**Training the model with calculated values of p,q and d.**"
   ]
  },
  {
   "cell_type": "code",
   "execution_count": 290,
   "metadata": {},
   "outputs": [],
   "source": [
    "model = ARIMA(train, order=(2, 0, 4))\n",
    "model_fit = model.fit()"
   ]
  },
  {
   "cell_type": "markdown",
   "metadata": {},
   "source": [
    "**Final prediction on test set of data by model.**"
   ]
  },
  {
   "cell_type": "code",
   "execution_count": 291,
   "metadata": {},
   "outputs": [
    {
     "data": {
      "text/plain": [
       "DatetimeIndex(['2015-11-30', '2015-12-31', '2016-01-31', '2016-02-29',\n",
       "               '2016-03-31', '2016-04-30', '2016-05-31', '2016-06-30',\n",
       "               '2016-07-31', '2016-08-31', '2016-09-30', '2016-10-31',\n",
       "               '2016-11-30', '2016-12-31', '2017-01-31', '2017-02-28',\n",
       "               '2017-03-31', '2017-04-30', '2017-05-31', '2017-06-30',\n",
       "               '2017-07-31', '2017-08-31', '2017-09-30', '2017-10-31',\n",
       "               '2017-11-30', '2017-12-31', '2018-01-31', '2018-02-28',\n",
       "               '2018-03-31', '2018-04-30', '2018-05-31', '2018-06-30',\n",
       "               '2018-07-31', '2018-08-31', '2018-09-30', '2018-10-31',\n",
       "               '2018-11-30', '2018-12-31', '2019-01-31', '2019-02-28'],\n",
       "              dtype='datetime64[ns]', name='TransactionDate', freq='M')"
      ]
     },
     "execution_count": 291,
     "metadata": {},
     "output_type": "execute_result"
    }
   ],
   "source": [
    "train.index"
   ]
  },
  {
   "cell_type": "code",
   "execution_count": null,
   "metadata": {},
   "outputs": [],
   "source": []
  },
  {
   "cell_type": "code",
   "execution_count": 293,
   "metadata": {},
   "outputs": [
    {
     "data": {
      "text/plain": [
       "DatetimeIndex(['2019-03-31', '2019-04-30', '2019-05-31', '2019-06-30'], dtype='datetime64[ns]', name='TransactionDate', freq='M')"
      ]
     },
     "execution_count": 293,
     "metadata": {},
     "output_type": "execute_result"
    }
   ],
   "source": [
    "test.index"
   ]
  },
  {
   "cell_type": "code",
   "execution_count": 294,
   "metadata": {},
   "outputs": [],
   "source": [
    "predicted= model_fit.predict(test.index[0], test.index[-1])"
   ]
  },
  {
   "cell_type": "code",
   "execution_count": 295,
   "metadata": {},
   "outputs": [
    {
     "data": {
      "text/plain": [
       "[<matplotlib.lines.Line2D at 0x19f84c4e390>]"
      ]
     },
     "execution_count": 295,
     "metadata": {},
     "output_type": "execute_result"
    },
    {
     "data": {
      "image/png": "[encoded data removed]",
      "text/plain": [
       "<Figure size 432x288 with 1 Axes>"
      ]
     },
     "metadata": {},
     "output_type": "display_data"
    }
   ],
   "source": [
    "plt.plot(train)"
   ]
  },
  {
   "cell_type": "code",
   "execution_count": null,
   "metadata": {},
   "outputs": [],
   "source": []
  },
  {
   "cell_type": "code",
   "execution_count": 296,
   "metadata": {},
   "outputs": [],
   "source": [
    "def pred_fin(predicted, train):\n",
    "    c=pd.Index(predicted.index)\n",
    "    c=c.insert(0, pd.to_datetime(train.index[-1]))\n",
    "    lis=list(predicted.values)\n",
    "    lis.insert(0,train[-1])\n",
    "    lis=pd.Series(lis,index=c)\n",
    "    prediction_final=lis.apply(lambda x:int(x))\n",
    "    return prediction_final"
   ]
  },
  {
   "cell_type": "code",
   "execution_count": 297,
   "metadata": {},
   "outputs": [],
   "source": [
    "final_prediction=pred_fin(predicted, train)"
   ]
  },
  {
   "cell_type": "code",
   "execution_count": 299,
   "metadata": {},
   "outputs": [
    {
     "data": {
      "text/plain": [
       "TransactionDate\n",
       "2018-10-31    35065089\n",
       "2018-11-30    33674686\n",
       "2018-12-31    35308666\n",
       "2019-01-31    35601218\n",
       "2019-02-28    37582501\n",
       "Freq: M, Name: Amount, dtype: int64"
      ]
     },
     "execution_count": 299,
     "metadata": {},
     "output_type": "execute_result"
    }
   ],
   "source": [
    "train.tail()"
   ]
  },
  {
   "cell_type": "code",
   "execution_count": 300,
   "metadata": {},
   "outputs": [
    {
     "data": {
      "text/plain": [
       "2019-02-28    37582501\n",
       "2019-03-31    37595041\n",
       "2019-04-30    32178297\n",
       "2019-05-31    35725657\n",
       "2019-06-30    31677553\n",
       "Freq: M, dtype: int64"
      ]
     },
     "execution_count": 300,
     "metadata": {},
     "output_type": "execute_result"
    }
   ],
   "source": [
    "final_prediction"
   ]
  },
  {
   "cell_type": "markdown",
   "metadata": {},
   "source": [
    "**test_prediction is the data frame containing the test data and the predicted output by the model.**"
   ]
  },
  {
   "cell_type": "markdown",
   "metadata": {},
   "source": [
    "<font color=\"blue\">**Akaike information criterion(AIC)**</font>  \n",
    "**Akaike information criterion is the a model evaluation measure which considers mean sum squared of residuals and the number of parameters to evaluate the quality of a model. So lower the value of aic better is the model.**"
   ]
  },
  {
   "cell_type": "code",
   "execution_count": null,
   "metadata": {},
   "outputs": [],
   "source": []
  },
  {
   "cell_type": "code",
   "execution_count": 301,
   "metadata": {},
   "outputs": [
    {
     "data": {
      "text/plain": [
       "1399.7247865442805"
      ]
     },
     "execution_count": 301,
     "metadata": {},
     "output_type": "execute_result"
    }
   ],
   "source": [
    "model_fit.aic"
   ]
  },
  {
   "cell_type": "markdown",
   "metadata": {},
   "source": [
    "*For this model aic value is 1437.*"
   ]
  },
  {
   "cell_type": "markdown",
   "metadata": {},
   "source": [
    "**Below is the forecast of payment amount for seller 10 with 90 percent data in the train set. In the figure below blue line is the training data, red is the forecasted one and green one is the test set value.**"
   ]
  },
  {
   "cell_type": "code",
   "execution_count": 302,
   "metadata": {},
   "outputs": [
    {
     "data": {
      "image/png": "[encoded data removed]",
      "text/plain": [
       "<Figure size 1080x360 with 1 Axes>"
      ]
     },
     "metadata": {},
     "output_type": "display_data"
    }
   ],
   "source": [
    "plt.figure(figsize=(15,5))\n",
    "plt.plot(ts, color=\"black\", linewidth=2, label=\"Train\")\n",
    "plt.plot(final_prediction,color=\"red\", linewidth=2, label=\"Predicted\")\n",
    "plt.gca().get_yaxis().get_major_formatter().set_scientific(False)\n",
    "plt.grid(True, color=\"green\")\n",
    "plt.legend(loc=\"best\")\n",
    "plt.show()"
   ]
  },
  {
   "cell_type": "code",
   "execution_count": null,
   "metadata": {},
   "outputs": [],
   "source": []
  },
  {
   "cell_type": "markdown",
   "metadata": {},
   "source": [
    "**It is possible that at a different train test ratio we can have a lower value of Akaike Information Constant(aic) i.e. a better model.  \n",
    "So in the below code an aic is explorated against the train test ratio.**"
   ]
  },
  {
   "cell_type": "code",
   "execution_count": 312,
   "metadata": {},
   "outputs": [],
   "source": [
    "from statsmodels.tsa.arima_model import ARIMA\n",
    "#An empty list to store mean squared error.\n",
    "rmse=[]\n",
    "#An empty list to store aic.\n",
    "aic=[]\n",
    "# An empty list storing fraction of total data present in training set.\n",
    "ratio=[]\n",
    "for x in np.arange(0.6,0.95,0.005):\n",
    "    #size of training set.\n",
    "    train_size = int(len(ts)*x)\n",
    "    #splitting the data.    \n",
    "    train, test = ts[0:train_size], ts[train_size:len(ts)]\n",
    "    if dft(train)[0]<dft(train)[4]:\n",
    "        model = ARIMA(train, order=(2, 0, 4))\n",
    "        model_fit = model.fit()\n",
    "        prediction_final= model_fit.predict(test.index[0], test.index[-1])\n",
    "        aic.append(model_fit.aic)\n",
    "        rmse.append(np.sqrt(np.mean((-test+prediction_final)**2)))\n",
    "        ratio.append(x)     "
   ]
  },
  {
   "cell_type": "markdown",
   "metadata": {},
   "source": [
    "**In above code the if criteria compares the test_stats and the 1% critical value. If it is satisfying the criteria then only further evaluation is done. The corresponding aic values for different models have been stored in aic list.**"
   ]
  },
  {
   "cell_type": "code",
   "execution_count": null,
   "metadata": {},
   "outputs": [],
   "source": []
  },
  {
   "cell_type": "markdown",
   "metadata": {},
   "source": [
    "<font color=\"blue\">**we will use to criterion to compare the models.**</font>  \n",
    "**1. ROOT MEAN SQUARED ERROR(rmse)**  \n",
    "**2. AKAIKI INFORMATION CONSTANT(aic).**"
   ]
  },
  {
   "cell_type": "code",
   "execution_count": 313,
   "metadata": {},
   "outputs": [],
   "source": [
    "aic_ratio=pd.DataFrame()\n",
    "aic_ratio[\"aic\"]=aic\n",
    "aic_ratio[\"ratio\"]=ratio"
   ]
  },
  {
   "cell_type": "markdown",
   "metadata": {},
   "source": [
    "**Above dataframe contains different aic values corresponding to the fraction of total data in the training set.**"
   ]
  },
  {
   "cell_type": "code",
   "execution_count": 314,
   "metadata": {},
   "outputs": [
    {
     "data": {
      "text/html": [
       "<div>\n",
       "<style scoped>\n",
       "    .dataframe tbody tr th:only-of-type {\n",
       "        vertical-align: middle;\n",
       "    }\n",
       "\n",
       "    .dataframe tbody tr th {\n",
       "        vertical-align: top;\n",
       "    }\n",
       "\n",
       "    .dataframe thead th {\n",
       "        text-align: right;\n",
       "    }\n",
       "</style>\n",
       "<table border=\"1\" class=\"dataframe\">\n",
       "  <thead>\n",
       "    <tr style=\"text-align: right;\">\n",
       "      <th></th>\n",
       "      <th>aic</th>\n",
       "      <th>ratio</th>\n",
       "    </tr>\n",
       "  </thead>\n",
       "  <tbody>\n",
       "    <tr>\n",
       "      <th>0</th>\n",
       "      <td>1230.875971</td>\n",
       "      <td>0.800</td>\n",
       "    </tr>\n",
       "    <tr>\n",
       "      <th>1</th>\n",
       "      <td>1230.875971</td>\n",
       "      <td>0.805</td>\n",
       "    </tr>\n",
       "    <tr>\n",
       "      <th>2</th>\n",
       "      <td>1230.875971</td>\n",
       "      <td>0.810</td>\n",
       "    </tr>\n",
       "    <tr>\n",
       "      <th>3</th>\n",
       "      <td>1230.875971</td>\n",
       "      <td>0.815</td>\n",
       "    </tr>\n",
       "    <tr>\n",
       "      <th>4</th>\n",
       "      <td>1264.902400</td>\n",
       "      <td>0.820</td>\n",
       "    </tr>\n",
       "    <tr>\n",
       "      <th>5</th>\n",
       "      <td>1264.902400</td>\n",
       "      <td>0.825</td>\n",
       "    </tr>\n",
       "    <tr>\n",
       "      <th>6</th>\n",
       "      <td>1264.902400</td>\n",
       "      <td>0.830</td>\n",
       "    </tr>\n",
       "    <tr>\n",
       "      <th>7</th>\n",
       "      <td>1264.902400</td>\n",
       "      <td>0.835</td>\n",
       "    </tr>\n",
       "    <tr>\n",
       "      <th>8</th>\n",
       "      <td>1264.902400</td>\n",
       "      <td>0.840</td>\n",
       "    </tr>\n",
       "    <tr>\n",
       "      <th>9</th>\n",
       "      <td>1298.473448</td>\n",
       "      <td>0.845</td>\n",
       "    </tr>\n",
       "    <tr>\n",
       "      <th>10</th>\n",
       "      <td>1298.473448</td>\n",
       "      <td>0.850</td>\n",
       "    </tr>\n",
       "    <tr>\n",
       "      <th>11</th>\n",
       "      <td>1298.473448</td>\n",
       "      <td>0.855</td>\n",
       "    </tr>\n",
       "    <tr>\n",
       "      <th>12</th>\n",
       "      <td>1298.473448</td>\n",
       "      <td>0.860</td>\n",
       "    </tr>\n",
       "    <tr>\n",
       "      <th>13</th>\n",
       "      <td>1332.279453</td>\n",
       "      <td>0.865</td>\n",
       "    </tr>\n",
       "    <tr>\n",
       "      <th>14</th>\n",
       "      <td>1332.279453</td>\n",
       "      <td>0.870</td>\n",
       "    </tr>\n",
       "    <tr>\n",
       "      <th>15</th>\n",
       "      <td>1332.279453</td>\n",
       "      <td>0.875</td>\n",
       "    </tr>\n",
       "    <tr>\n",
       "      <th>16</th>\n",
       "      <td>1332.279453</td>\n",
       "      <td>0.880</td>\n",
       "    </tr>\n",
       "    <tr>\n",
       "      <th>17</th>\n",
       "      <td>1332.279453</td>\n",
       "      <td>0.885</td>\n",
       "    </tr>\n",
       "    <tr>\n",
       "      <th>18</th>\n",
       "      <td>1365.816945</td>\n",
       "      <td>0.890</td>\n",
       "    </tr>\n",
       "    <tr>\n",
       "      <th>19</th>\n",
       "      <td>1365.816945</td>\n",
       "      <td>0.895</td>\n",
       "    </tr>\n",
       "    <tr>\n",
       "      <th>20</th>\n",
       "      <td>1365.816945</td>\n",
       "      <td>0.900</td>\n",
       "    </tr>\n",
       "    <tr>\n",
       "      <th>21</th>\n",
       "      <td>1365.816945</td>\n",
       "      <td>0.905</td>\n",
       "    </tr>\n",
       "    <tr>\n",
       "      <th>22</th>\n",
       "      <td>1399.724787</td>\n",
       "      <td>0.910</td>\n",
       "    </tr>\n",
       "    <tr>\n",
       "      <th>23</th>\n",
       "      <td>1399.724787</td>\n",
       "      <td>0.915</td>\n",
       "    </tr>\n",
       "    <tr>\n",
       "      <th>24</th>\n",
       "      <td>1399.724787</td>\n",
       "      <td>0.920</td>\n",
       "    </tr>\n",
       "    <tr>\n",
       "      <th>25</th>\n",
       "      <td>1399.724787</td>\n",
       "      <td>0.925</td>\n",
       "    </tr>\n",
       "    <tr>\n",
       "      <th>26</th>\n",
       "      <td>1399.724787</td>\n",
       "      <td>0.930</td>\n",
       "    </tr>\n",
       "    <tr>\n",
       "      <th>27</th>\n",
       "      <td>1437.560253</td>\n",
       "      <td>0.935</td>\n",
       "    </tr>\n",
       "    <tr>\n",
       "      <th>28</th>\n",
       "      <td>1437.560253</td>\n",
       "      <td>0.940</td>\n",
       "    </tr>\n",
       "    <tr>\n",
       "      <th>29</th>\n",
       "      <td>1437.560253</td>\n",
       "      <td>0.945</td>\n",
       "    </tr>\n",
       "  </tbody>\n",
       "</table>\n",
       "</div>"
      ],
      "text/plain": [
       "            aic  ratio\n",
       "0   1230.875971  0.800\n",
       "1   1230.875971  0.805\n",
       "2   1230.875971  0.810\n",
       "3   1230.875971  0.815\n",
       "4   1264.902400  0.820\n",
       "5   1264.902400  0.825\n",
       "6   1264.902400  0.830\n",
       "7   1264.902400  0.835\n",
       "8   1264.902400  0.840\n",
       "9   1298.473448  0.845\n",
       "10  1298.473448  0.850\n",
       "11  1298.473448  0.855\n",
       "12  1298.473448  0.860\n",
       "13  1332.279453  0.865\n",
       "14  1332.279453  0.870\n",
       "15  1332.279453  0.875\n",
       "16  1332.279453  0.880\n",
       "17  1332.279453  0.885\n",
       "18  1365.816945  0.890\n",
       "19  1365.816945  0.895\n",
       "20  1365.816945  0.900\n",
       "21  1365.816945  0.905\n",
       "22  1399.724787  0.910\n",
       "23  1399.724787  0.915\n",
       "24  1399.724787  0.920\n",
       "25  1399.724787  0.925\n",
       "26  1399.724787  0.930\n",
       "27  1437.560253  0.935\n",
       "28  1437.560253  0.940\n",
       "29  1437.560253  0.945"
      ]
     },
     "execution_count": 314,
     "metadata": {},
     "output_type": "execute_result"
    }
   ],
   "source": [
    "aic_ratio"
   ]
  },
  {
   "cell_type": "code",
   "execution_count": 315,
   "metadata": {},
   "outputs": [],
   "source": [
    "rmse_ratio=pd.DataFrame()\n",
    "rmse_ratio[\"rmse\"]=rmse\n",
    "rmse_ratio[\"ratio\"]=ratio\n",
    "rmse_ratio[\"rmse\"]=rmse_ratio[\"rmse\"].apply(lambda x:int(x))"
   ]
  },
  {
   "cell_type": "markdown",
   "metadata": {},
   "source": [
    "**Above dataframe contains different mse values corresponding to the fraction of total data in the training set.**"
   ]
  },
  {
   "cell_type": "code",
   "execution_count": 316,
   "metadata": {},
   "outputs": [
    {
     "data": {
      "text/html": [
       "<div>\n",
       "<style scoped>\n",
       "    .dataframe tbody tr th:only-of-type {\n",
       "        vertical-align: middle;\n",
       "    }\n",
       "\n",
       "    .dataframe tbody tr th {\n",
       "        vertical-align: top;\n",
       "    }\n",
       "\n",
       "    .dataframe thead th {\n",
       "        text-align: right;\n",
       "    }\n",
       "</style>\n",
       "<table border=\"1\" class=\"dataframe\">\n",
       "  <thead>\n",
       "    <tr style=\"text-align: right;\">\n",
       "      <th></th>\n",
       "      <th>rmse</th>\n",
       "      <th>ratio</th>\n",
       "    </tr>\n",
       "  </thead>\n",
       "  <tbody>\n",
       "    <tr>\n",
       "      <th>0</th>\n",
       "      <td>6682282</td>\n",
       "      <td>0.800</td>\n",
       "    </tr>\n",
       "    <tr>\n",
       "      <th>1</th>\n",
       "      <td>6682282</td>\n",
       "      <td>0.805</td>\n",
       "    </tr>\n",
       "    <tr>\n",
       "      <th>2</th>\n",
       "      <td>6682282</td>\n",
       "      <td>0.810</td>\n",
       "    </tr>\n",
       "    <tr>\n",
       "      <th>3</th>\n",
       "      <td>6682282</td>\n",
       "      <td>0.815</td>\n",
       "    </tr>\n",
       "    <tr>\n",
       "      <th>4</th>\n",
       "      <td>7029792</td>\n",
       "      <td>0.820</td>\n",
       "    </tr>\n",
       "    <tr>\n",
       "      <th>5</th>\n",
       "      <td>7029792</td>\n",
       "      <td>0.825</td>\n",
       "    </tr>\n",
       "    <tr>\n",
       "      <th>6</th>\n",
       "      <td>7029792</td>\n",
       "      <td>0.830</td>\n",
       "    </tr>\n",
       "    <tr>\n",
       "      <th>7</th>\n",
       "      <td>7029792</td>\n",
       "      <td>0.835</td>\n",
       "    </tr>\n",
       "    <tr>\n",
       "      <th>8</th>\n",
       "      <td>7029792</td>\n",
       "      <td>0.840</td>\n",
       "    </tr>\n",
       "    <tr>\n",
       "      <th>9</th>\n",
       "      <td>7552294</td>\n",
       "      <td>0.845</td>\n",
       "    </tr>\n",
       "    <tr>\n",
       "      <th>10</th>\n",
       "      <td>7552294</td>\n",
       "      <td>0.850</td>\n",
       "    </tr>\n",
       "    <tr>\n",
       "      <th>11</th>\n",
       "      <td>7552294</td>\n",
       "      <td>0.855</td>\n",
       "    </tr>\n",
       "    <tr>\n",
       "      <th>12</th>\n",
       "      <td>7552294</td>\n",
       "      <td>0.860</td>\n",
       "    </tr>\n",
       "    <tr>\n",
       "      <th>13</th>\n",
       "      <td>9629963</td>\n",
       "      <td>0.865</td>\n",
       "    </tr>\n",
       "    <tr>\n",
       "      <th>14</th>\n",
       "      <td>9629963</td>\n",
       "      <td>0.870</td>\n",
       "    </tr>\n",
       "    <tr>\n",
       "      <th>15</th>\n",
       "      <td>9629963</td>\n",
       "      <td>0.875</td>\n",
       "    </tr>\n",
       "    <tr>\n",
       "      <th>16</th>\n",
       "      <td>9629963</td>\n",
       "      <td>0.880</td>\n",
       "    </tr>\n",
       "    <tr>\n",
       "      <th>17</th>\n",
       "      <td>9629963</td>\n",
       "      <td>0.885</td>\n",
       "    </tr>\n",
       "    <tr>\n",
       "      <th>18</th>\n",
       "      <td>10136293</td>\n",
       "      <td>0.890</td>\n",
       "    </tr>\n",
       "    <tr>\n",
       "      <th>19</th>\n",
       "      <td>10136293</td>\n",
       "      <td>0.895</td>\n",
       "    </tr>\n",
       "    <tr>\n",
       "      <th>20</th>\n",
       "      <td>10136293</td>\n",
       "      <td>0.900</td>\n",
       "    </tr>\n",
       "    <tr>\n",
       "      <th>21</th>\n",
       "      <td>10136293</td>\n",
       "      <td>0.905</td>\n",
       "    </tr>\n",
       "    <tr>\n",
       "      <th>22</th>\n",
       "      <td>8363166</td>\n",
       "      <td>0.910</td>\n",
       "    </tr>\n",
       "    <tr>\n",
       "      <th>23</th>\n",
       "      <td>8363166</td>\n",
       "      <td>0.915</td>\n",
       "    </tr>\n",
       "    <tr>\n",
       "      <th>24</th>\n",
       "      <td>8363166</td>\n",
       "      <td>0.920</td>\n",
       "    </tr>\n",
       "    <tr>\n",
       "      <th>25</th>\n",
       "      <td>8363166</td>\n",
       "      <td>0.925</td>\n",
       "    </tr>\n",
       "    <tr>\n",
       "      <th>26</th>\n",
       "      <td>8363166</td>\n",
       "      <td>0.930</td>\n",
       "    </tr>\n",
       "    <tr>\n",
       "      <th>27</th>\n",
       "      <td>8621067</td>\n",
       "      <td>0.935</td>\n",
       "    </tr>\n",
       "    <tr>\n",
       "      <th>28</th>\n",
       "      <td>8621067</td>\n",
       "      <td>0.940</td>\n",
       "    </tr>\n",
       "    <tr>\n",
       "      <th>29</th>\n",
       "      <td>8621067</td>\n",
       "      <td>0.945</td>\n",
       "    </tr>\n",
       "  </tbody>\n",
       "</table>\n",
       "</div>"
      ],
      "text/plain": [
       "        rmse  ratio\n",
       "0    6682282  0.800\n",
       "1    6682282  0.805\n",
       "2    6682282  0.810\n",
       "3    6682282  0.815\n",
       "4    7029792  0.820\n",
       "5    7029792  0.825\n",
       "6    7029792  0.830\n",
       "7    7029792  0.835\n",
       "8    7029792  0.840\n",
       "9    7552294  0.845\n",
       "10   7552294  0.850\n",
       "11   7552294  0.855\n",
       "12   7552294  0.860\n",
       "13   9629963  0.865\n",
       "14   9629963  0.870\n",
       "15   9629963  0.875\n",
       "16   9629963  0.880\n",
       "17   9629963  0.885\n",
       "18  10136293  0.890\n",
       "19  10136293  0.895\n",
       "20  10136293  0.900\n",
       "21  10136293  0.905\n",
       "22   8363166  0.910\n",
       "23   8363166  0.915\n",
       "24   8363166  0.920\n",
       "25   8363166  0.925\n",
       "26   8363166  0.930\n",
       "27   8621067  0.935\n",
       "28   8621067  0.940\n",
       "29   8621067  0.945"
      ]
     },
     "execution_count": 316,
     "metadata": {},
     "output_type": "execute_result"
    }
   ],
   "source": [
    "rmse_ratio"
   ]
  },
  {
   "cell_type": "markdown",
   "metadata": {},
   "source": [
    "**Now let's visually inspect the behaviour with the mse first.**"
   ]
  },
  {
   "cell_type": "code",
   "execution_count": 317,
   "metadata": {},
   "outputs": [
    {
     "data": {
      "image/png": "[encoded data removed]",
      "text/plain": [
       "<Figure size 1080x360 with 1 Axes>"
      ]
     },
     "metadata": {},
     "output_type": "display_data"
    }
   ],
   "source": [
    "plt.figure(figsize=(15,5))\n",
    "#plt.plot(ratio,aic, color=\"red\")\n",
    "plt.plot(ratio,rmse,color=\"red\")\n",
    "plt.xlabel(\"Ratio of train data\")\n",
    "plt.ylabel(\"Root Mean squared error on test data.\")\n",
    "plt.title(\"Error analysis with train test ratio\", color=\"red\")\n",
    "plt.gca().get_yaxis().get_major_formatter().set_scientific(False)\n",
    "plt.grid(True, color=\"black\")\n",
    "plt.show() "
   ]
  },
  {
   "cell_type": "markdown",
   "metadata": {},
   "source": [
    "<font color=\"red\">**In the above model the value of train size is passed in between 0.6 to 0.95. But in the plot we have only data from 0.775 to 0.950. The reason behind this is from 0.6 to 0.775 all the data have failed the stationarity test by Dicky Fuller test and hence they are automatically rejected.**</font>"
   ]
  },
  {
   "cell_type": "markdown",
   "metadata": {},
   "source": [
    "**From above plot we can see that as the fraction is increasing aic value is also increasing. So at fraction = 0.78 aic is minimum.**"
   ]
  },
  {
   "cell_type": "code",
   "execution_count": null,
   "metadata": {},
   "outputs": [],
   "source": []
  },
  {
   "cell_type": "markdown",
   "metadata": {},
   "source": [
    "**Now let's visually inspect the behaviour with the aic.**"
   ]
  },
  {
   "cell_type": "code",
   "execution_count": 318,
   "metadata": {},
   "outputs": [
    {
     "data": {
      "image/png": "[encoded data removed]",
      "text/plain": [
       "<Figure size 1080x432 with 1 Axes>"
      ]
     },
     "metadata": {},
     "output_type": "display_data"
    }
   ],
   "source": [
    "plt.figure(figsize=(15,6))\n",
    "plt.plot(ratio,aic, color=\"green\")\n",
    "plt.xlabel(\"Ratio of train data\")\n",
    "plt.ylabel(\"Akaikai Information Constant of forecast on test data.\")\n",
    "plt.title(\"Error analysis with train test ratio\", color=\"red\")\n",
    "plt.grid(True, color=\"black\")\n",
    "plt.show() "
   ]
  },
  {
   "cell_type": "markdown",
   "metadata": {},
   "source": [
    "**From above plot we can see that as the fraction is increasing aic value is also increasing. So at fraction = 0.79 aic is minimum.**"
   ]
  },
  {
   "cell_type": "code",
   "execution_count": null,
   "metadata": {},
   "outputs": [],
   "source": []
  },
  {
   "cell_type": "markdown",
   "metadata": {},
   "source": [
    "<font color=\"blue\">**CONCLUSION**</font>  \n",
    "**Both aic and rmse are recomending the same model with ratio 0.780**"
   ]
  },
  {
   "cell_type": "code",
   "execution_count": null,
   "metadata": {},
   "outputs": [],
   "source": []
  },
  {
   "cell_type": "markdown",
   "metadata": {},
   "source": [
    "<font color=\"blue\"> **NOW BELOW CODE IS PERFORMING THE BEST MODEL WITH TRAINING RATION 0.780**"
   ]
  },
  {
   "cell_type": "code",
   "execution_count": 319,
   "metadata": {},
   "outputs": [],
   "source": [
    "train_size = int(np.ceil(len(ts)*0.780))"
   ]
  },
  {
   "cell_type": "code",
   "execution_count": 320,
   "metadata": {},
   "outputs": [
    {
     "data": {
      "text/plain": [
       "35"
      ]
     },
     "execution_count": 320,
     "metadata": {},
     "output_type": "execute_result"
    }
   ],
   "source": [
    "train_size"
   ]
  },
  {
   "cell_type": "code",
   "execution_count": 321,
   "metadata": {},
   "outputs": [],
   "source": [
    "train, test = ts[0:train_size], ts[train_size:len(ts)]"
   ]
  },
  {
   "cell_type": "code",
   "execution_count": 322,
   "metadata": {},
   "outputs": [],
   "source": [
    "from statsmodels.tsa.arima_model import ARIMA"
   ]
  },
  {
   "cell_type": "code",
   "execution_count": 323,
   "metadata": {},
   "outputs": [],
   "source": [
    "model = ARIMA(train, order=(2, 0, 4))\n",
    "model_fit = model.fit()"
   ]
  },
  {
   "cell_type": "code",
   "execution_count": 324,
   "metadata": {},
   "outputs": [],
   "source": [
    "predicted= model_fit.predict(test.index[0], test.index[-1])"
   ]
  },
  {
   "cell_type": "code",
   "execution_count": 325,
   "metadata": {},
   "outputs": [],
   "source": [
    "prediction_final=pred_fin(predicted, train)"
   ]
  },
  {
   "cell_type": "code",
   "execution_count": null,
   "metadata": {},
   "outputs": [],
   "source": []
  },
  {
   "cell_type": "code",
   "execution_count": null,
   "metadata": {},
   "outputs": [],
   "source": []
  },
  {
   "cell_type": "code",
   "execution_count": 326,
   "metadata": {},
   "outputs": [
    {
     "data": {
      "text/plain": [
       "1230.8759709567933"
      ]
     },
     "execution_count": 326,
     "metadata": {},
     "output_type": "execute_result"
    }
   ],
   "source": [
    "model_fit.aic"
   ]
  },
  {
   "cell_type": "markdown",
   "metadata": {},
   "source": [
    "**Above is the aic value for the model. which is least of all the possible models.**"
   ]
  },
  {
   "cell_type": "code",
   "execution_count": 327,
   "metadata": {},
   "outputs": [
    {
     "data": {
      "image/png": "[encoded data removed]",
      "text/plain": [
       "<Figure size 1080x360 with 1 Axes>"
      ]
     },
     "metadata": {},
     "output_type": "display_data"
    }
   ],
   "source": [
    "plt.figure(figsize=(15,5))\n",
    "plt.plot(ts, color=\"blue\", linewidth=2, label=\"Train\")\n",
    "plt.plot(prediction_final,color=\"red\", linewidth=2, label=\"Predicted\")\n",
    "plt.gca().get_yaxis().get_major_formatter().set_scientific(False)\n",
    "plt.grid(True, color=\"green\")\n",
    "plt.legend(loc=\"best\")\n",
    "plt.show()"
   ]
  },
  {
   "cell_type": "markdown",
   "metadata": {},
   "source": [
    "**This is the final forecast of the best possible model for seller 10 with training fraction 0.780**"
   ]
  },
  {
   "cell_type": "code",
   "execution_count": null,
   "metadata": {},
   "outputs": [],
   "source": []
  }
 ],
 "metadata": {
  "kernelspec": {
   "display_name": "Python 3",
   "language": "python",
   "name": "python3"
  },
  "language_info": {
   "codemirror_mode": {
    "name": "ipython",
    "version": 3
   },
   "file_extension": ".py",
   "mimetype": "text/x-python",
   "name": "python",
   "nbconvert_exporter": "python",
   "pygments_lexer": "ipython3",
   "version": "3.7.3"
  }
 },
 "nbformat": 4,
 "nbformat_minor": 2
}
