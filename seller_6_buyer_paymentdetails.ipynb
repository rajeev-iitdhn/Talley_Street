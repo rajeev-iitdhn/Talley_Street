{
 "cells": [
  {
   "cell_type": "markdown",
   "metadata": {},
   "source": [
    "**THIS NOTEBOOK CONTAINS PAYMENT AMOUNT FORECAST FOR SELLER_6 WITH TRANSACTION DATE.**"
   ]
  },
  {
   "cell_type": "code",
   "execution_count": 1,
   "metadata": {},
   "outputs": [],
   "source": [
    "#Importing the prerequisite libraries that are to be used further.\n",
    "import pandas as pd\n",
    "import warnings\n",
    "import itertools\n",
    "import numpy as np\n",
    "import matplotlib.pyplot as plt\n",
    "warnings.filterwarnings(\"ignore\")\n",
    "plt.style.use('fivethirtyeight')\n",
    "import statsmodels.api as sm\n",
    "import matplotlib.pyplot as plt"
   ]
  },
  {
   "cell_type": "code",
   "execution_count": 2,
   "metadata": {},
   "outputs": [],
   "source": [
    "payment=pd.read_csv(\"seller_buyer_paymentdetails.csv\")\n",
    "payment[\"TransactionDate\"]=pd.to_datetime(pd.to_datetime(payment[\"TransactionDate\"]).dt.date)\n",
    "payment[\"PaymentDate\"]=pd.to_datetime(pd.to_datetime(payment[\"PaymentDate\"]).dt.date)"
   ]
  },
  {
   "cell_type": "code",
   "execution_count": 3,
   "metadata": {},
   "outputs": [],
   "source": [
    "seller_count=payment.groupby(\"SellerId\").BuyerId.count()"
   ]
  },
  {
   "cell_type": "code",
   "execution_count": 4,
   "metadata": {},
   "outputs": [
    {
     "data": {
      "text/plain": [
       "SellerId\n",
       "1         3\n",
       "2       597\n",
       "3        96\n",
       "5      1560\n",
       "6        32\n",
       "8      1541\n",
       "9      2742\n",
       "10    18020\n",
       "11     3944\n",
       "12     6853\n",
       "13      645\n",
       "14     2463\n",
       "15     4008\n",
       "16      948\n",
       "17      539\n",
       "18     1641\n",
       "19        2\n",
       "20     2271\n",
       "Name: BuyerId, dtype: int64"
      ]
     },
     "execution_count": 4,
     "metadata": {},
     "output_type": "execute_result"
    }
   ],
   "source": [
    "seller_count"
   ]
  },
  {
   "cell_type": "code",
   "execution_count": 5,
   "metadata": {},
   "outputs": [
    {
     "data": {
      "text/html": [
       "<div>\n",
       "<style scoped>\n",
       "    .dataframe tbody tr th:only-of-type {\n",
       "        vertical-align: middle;\n",
       "    }\n",
       "\n",
       "    .dataframe tbody tr th {\n",
       "        vertical-align: top;\n",
       "    }\n",
       "\n",
       "    .dataframe thead th {\n",
       "        text-align: right;\n",
       "    }\n",
       "</style>\n",
       "<table border=\"1\" class=\"dataframe\">\n",
       "  <thead>\n",
       "    <tr style=\"text-align: right;\">\n",
       "      <th></th>\n",
       "      <th>TransactionDate</th>\n",
       "      <th>PaymentDate</th>\n",
       "      <th>PaymentId</th>\n",
       "      <th>SellerId</th>\n",
       "      <th>BuyerId</th>\n",
       "      <th>Amount</th>\n",
       "    </tr>\n",
       "  </thead>\n",
       "  <tbody>\n",
       "    <tr>\n",
       "      <th>0</th>\n",
       "      <td>2017-06-30</td>\n",
       "      <td>2017-07-19</td>\n",
       "      <td>87531</td>\n",
       "      <td>13</td>\n",
       "      <td>16140</td>\n",
       "      <td>74970.0</td>\n",
       "    </tr>\n",
       "    <tr>\n",
       "      <th>1</th>\n",
       "      <td>2017-06-30</td>\n",
       "      <td>2017-07-19</td>\n",
       "      <td>87531</td>\n",
       "      <td>13</td>\n",
       "      <td>16140</td>\n",
       "      <td>109841.0</td>\n",
       "    </tr>\n",
       "    <tr>\n",
       "      <th>2</th>\n",
       "      <td>2017-06-30</td>\n",
       "      <td>2017-07-19</td>\n",
       "      <td>87531</td>\n",
       "      <td>13</td>\n",
       "      <td>16140</td>\n",
       "      <td>51128.0</td>\n",
       "    </tr>\n",
       "    <tr>\n",
       "      <th>3</th>\n",
       "      <td>2017-06-30</td>\n",
       "      <td>2017-07-19</td>\n",
       "      <td>87531</td>\n",
       "      <td>13</td>\n",
       "      <td>16140</td>\n",
       "      <td>74630.0</td>\n",
       "    </tr>\n",
       "    <tr>\n",
       "      <th>4</th>\n",
       "      <td>2017-06-30</td>\n",
       "      <td>2017-07-19</td>\n",
       "      <td>87531</td>\n",
       "      <td>13</td>\n",
       "      <td>16140</td>\n",
       "      <td>299030.0</td>\n",
       "    </tr>\n",
       "    <tr>\n",
       "      <th>5</th>\n",
       "      <td>2017-06-30</td>\n",
       "      <td>2017-07-24</td>\n",
       "      <td>87531</td>\n",
       "      <td>13</td>\n",
       "      <td>16140</td>\n",
       "      <td>492469.0</td>\n",
       "    </tr>\n",
       "    <tr>\n",
       "      <th>6</th>\n",
       "      <td>2017-06-16</td>\n",
       "      <td>2017-07-25</td>\n",
       "      <td>87531</td>\n",
       "      <td>13</td>\n",
       "      <td>16147</td>\n",
       "      <td>276100.0</td>\n",
       "    </tr>\n",
       "    <tr>\n",
       "      <th>7</th>\n",
       "      <td>2017-07-28</td>\n",
       "      <td>2017-07-31</td>\n",
       "      <td>87531</td>\n",
       "      <td>13</td>\n",
       "      <td>16136</td>\n",
       "      <td>95175.0</td>\n",
       "    </tr>\n",
       "    <tr>\n",
       "      <th>8</th>\n",
       "      <td>2017-07-28</td>\n",
       "      <td>2017-08-02</td>\n",
       "      <td>87531</td>\n",
       "      <td>13</td>\n",
       "      <td>16146</td>\n",
       "      <td>128400.0</td>\n",
       "    </tr>\n",
       "    <tr>\n",
       "      <th>9</th>\n",
       "      <td>2016-04-30</td>\n",
       "      <td>2017-08-02</td>\n",
       "      <td>87531</td>\n",
       "      <td>10</td>\n",
       "      <td>15066</td>\n",
       "      <td>NaN</td>\n",
       "    </tr>\n",
       "    <tr>\n",
       "      <th>10</th>\n",
       "      <td>2016-05-28</td>\n",
       "      <td>2017-08-02</td>\n",
       "      <td>87531</td>\n",
       "      <td>10</td>\n",
       "      <td>15066</td>\n",
       "      <td>NaN</td>\n",
       "    </tr>\n",
       "    <tr>\n",
       "      <th>11</th>\n",
       "      <td>2016-05-28</td>\n",
       "      <td>2017-08-02</td>\n",
       "      <td>87531</td>\n",
       "      <td>10</td>\n",
       "      <td>15069</td>\n",
       "      <td>NaN</td>\n",
       "    </tr>\n",
       "    <tr>\n",
       "      <th>12</th>\n",
       "      <td>2016-05-28</td>\n",
       "      <td>2017-08-02</td>\n",
       "      <td>87531</td>\n",
       "      <td>10</td>\n",
       "      <td>15070</td>\n",
       "      <td>NaN</td>\n",
       "    </tr>\n",
       "    <tr>\n",
       "      <th>13</th>\n",
       "      <td>2016-05-28</td>\n",
       "      <td>2017-08-02</td>\n",
       "      <td>87531</td>\n",
       "      <td>10</td>\n",
       "      <td>15072</td>\n",
       "      <td>NaN</td>\n",
       "    </tr>\n",
       "    <tr>\n",
       "      <th>14</th>\n",
       "      <td>2016-04-30</td>\n",
       "      <td>2016-06-15</td>\n",
       "      <td>87531</td>\n",
       "      <td>10</td>\n",
       "      <td>15075</td>\n",
       "      <td>35000.0</td>\n",
       "    </tr>\n",
       "    <tr>\n",
       "      <th>15</th>\n",
       "      <td>2016-06-11</td>\n",
       "      <td>2016-06-07</td>\n",
       "      <td>87531</td>\n",
       "      <td>10</td>\n",
       "      <td>15076</td>\n",
       "      <td>50000.0</td>\n",
       "    </tr>\n",
       "    <tr>\n",
       "      <th>16</th>\n",
       "      <td>2016-06-15</td>\n",
       "      <td>2016-06-16</td>\n",
       "      <td>87531</td>\n",
       "      <td>10</td>\n",
       "      <td>15078</td>\n",
       "      <td>31200.0</td>\n",
       "    </tr>\n",
       "    <tr>\n",
       "      <th>17</th>\n",
       "      <td>2016-05-28</td>\n",
       "      <td>2016-06-11</td>\n",
       "      <td>87531</td>\n",
       "      <td>10</td>\n",
       "      <td>15079</td>\n",
       "      <td>9750.0</td>\n",
       "    </tr>\n",
       "    <tr>\n",
       "      <th>18</th>\n",
       "      <td>2016-05-28</td>\n",
       "      <td>2016-06-11</td>\n",
       "      <td>87531</td>\n",
       "      <td>10</td>\n",
       "      <td>15081</td>\n",
       "      <td>NaN</td>\n",
       "    </tr>\n",
       "    <tr>\n",
       "      <th>19</th>\n",
       "      <td>2016-05-28</td>\n",
       "      <td>2016-06-11</td>\n",
       "      <td>87531</td>\n",
       "      <td>10</td>\n",
       "      <td>15082</td>\n",
       "      <td>NaN</td>\n",
       "    </tr>\n",
       "    <tr>\n",
       "      <th>20</th>\n",
       "      <td>2016-05-28</td>\n",
       "      <td>2016-06-11</td>\n",
       "      <td>87531</td>\n",
       "      <td>10</td>\n",
       "      <td>15083</td>\n",
       "      <td>NaN</td>\n",
       "    </tr>\n",
       "    <tr>\n",
       "      <th>21</th>\n",
       "      <td>2016-05-14</td>\n",
       "      <td>2016-06-11</td>\n",
       "      <td>87531</td>\n",
       "      <td>10</td>\n",
       "      <td>15084</td>\n",
       "      <td>NaN</td>\n",
       "    </tr>\n",
       "    <tr>\n",
       "      <th>22</th>\n",
       "      <td>2016-06-11</td>\n",
       "      <td>2016-06-21</td>\n",
       "      <td>87531</td>\n",
       "      <td>10</td>\n",
       "      <td>15087</td>\n",
       "      <td>50000.0</td>\n",
       "    </tr>\n",
       "    <tr>\n",
       "      <th>23</th>\n",
       "      <td>2016-06-11</td>\n",
       "      <td>2016-06-21</td>\n",
       "      <td>87531</td>\n",
       "      <td>10</td>\n",
       "      <td>15090</td>\n",
       "      <td>1500.0</td>\n",
       "    </tr>\n",
       "    <tr>\n",
       "      <th>24</th>\n",
       "      <td>2016-06-11</td>\n",
       "      <td>2016-06-21</td>\n",
       "      <td>87531</td>\n",
       "      <td>10</td>\n",
       "      <td>15092</td>\n",
       "      <td>45000.0</td>\n",
       "    </tr>\n",
       "    <tr>\n",
       "      <th>25</th>\n",
       "      <td>2016-06-11</td>\n",
       "      <td>2016-06-21</td>\n",
       "      <td>87531</td>\n",
       "      <td>10</td>\n",
       "      <td>15094</td>\n",
       "      <td>52500.0</td>\n",
       "    </tr>\n",
       "    <tr>\n",
       "      <th>26</th>\n",
       "      <td>2016-06-11</td>\n",
       "      <td>2016-06-21</td>\n",
       "      <td>87531</td>\n",
       "      <td>10</td>\n",
       "      <td>15095</td>\n",
       "      <td>35100.0</td>\n",
       "    </tr>\n",
       "    <tr>\n",
       "      <th>27</th>\n",
       "      <td>2016-06-11</td>\n",
       "      <td>2016-06-21</td>\n",
       "      <td>87531</td>\n",
       "      <td>10</td>\n",
       "      <td>15098</td>\n",
       "      <td>25000.0</td>\n",
       "    </tr>\n",
       "    <tr>\n",
       "      <th>28</th>\n",
       "      <td>2016-06-11</td>\n",
       "      <td>2016-06-21</td>\n",
       "      <td>87531</td>\n",
       "      <td>10</td>\n",
       "      <td>15080</td>\n",
       "      <td>23500.0</td>\n",
       "    </tr>\n",
       "    <tr>\n",
       "      <th>29</th>\n",
       "      <td>2016-06-11</td>\n",
       "      <td>2016-06-21</td>\n",
       "      <td>87531</td>\n",
       "      <td>10</td>\n",
       "      <td>15102</td>\n",
       "      <td>82500.0</td>\n",
       "    </tr>\n",
       "  </tbody>\n",
       "</table>\n",
       "</div>"
      ],
      "text/plain": [
       "   TransactionDate PaymentDate  PaymentId  SellerId  BuyerId    Amount\n",
       "0       2017-06-30  2017-07-19      87531        13    16140   74970.0\n",
       "1       2017-06-30  2017-07-19      87531        13    16140  109841.0\n",
       "2       2017-06-30  2017-07-19      87531        13    16140   51128.0\n",
       "3       2017-06-30  2017-07-19      87531        13    16140   74630.0\n",
       "4       2017-06-30  2017-07-19      87531        13    16140  299030.0\n",
       "5       2017-06-30  2017-07-24      87531        13    16140  492469.0\n",
       "6       2017-06-16  2017-07-25      87531        13    16147  276100.0\n",
       "7       2017-07-28  2017-07-31      87531        13    16136   95175.0\n",
       "8       2017-07-28  2017-08-02      87531        13    16146  128400.0\n",
       "9       2016-04-30  2017-08-02      87531        10    15066       NaN\n",
       "10      2016-05-28  2017-08-02      87531        10    15066       NaN\n",
       "11      2016-05-28  2017-08-02      87531        10    15069       NaN\n",
       "12      2016-05-28  2017-08-02      87531        10    15070       NaN\n",
       "13      2016-05-28  2017-08-02      87531        10    15072       NaN\n",
       "14      2016-04-30  2016-06-15      87531        10    15075   35000.0\n",
       "15      2016-06-11  2016-06-07      87531        10    15076   50000.0\n",
       "16      2016-06-15  2016-06-16      87531        10    15078   31200.0\n",
       "17      2016-05-28  2016-06-11      87531        10    15079    9750.0\n",
       "18      2016-05-28  2016-06-11      87531        10    15081       NaN\n",
       "19      2016-05-28  2016-06-11      87531        10    15082       NaN\n",
       "20      2016-05-28  2016-06-11      87531        10    15083       NaN\n",
       "21      2016-05-14  2016-06-11      87531        10    15084       NaN\n",
       "22      2016-06-11  2016-06-21      87531        10    15087   50000.0\n",
       "23      2016-06-11  2016-06-21      87531        10    15090    1500.0\n",
       "24      2016-06-11  2016-06-21      87531        10    15092   45000.0\n",
       "25      2016-06-11  2016-06-21      87531        10    15094   52500.0\n",
       "26      2016-06-11  2016-06-21      87531        10    15095   35100.0\n",
       "27      2016-06-11  2016-06-21      87531        10    15098   25000.0\n",
       "28      2016-06-11  2016-06-21      87531        10    15080   23500.0\n",
       "29      2016-06-11  2016-06-21      87531        10    15102   82500.0"
      ]
     },
     "execution_count": 5,
     "metadata": {},
     "output_type": "execute_result"
    }
   ],
   "source": [
    "payment.head(30)"
   ]
  },
  {
   "cell_type": "markdown",
   "metadata": {},
   "source": [
    "**FORECAST WITHOUT INTERPOLATION**"
   ]
  },
  {
   "cell_type": "code",
   "execution_count": 6,
   "metadata": {},
   "outputs": [],
   "source": [
    "sel=payment[payment.SellerId==6][[\"TransactionDate\",\"Amount\"]]\n",
    "sel=sel.set_index(\"TransactionDate\")\n",
    "sel = sel.groupby(pd.Grouper(freq=\"M\")).sum()\n",
    "sel[\"Amount\"]=sel.Amount.apply(lambda x:int(x))\n",
    "ts=sel[\"Amount\"]"
   ]
  },
  {
   "cell_type": "code",
   "execution_count": 7,
   "metadata": {},
   "outputs": [
    {
     "data": {
      "text/plain": [
       "TransactionDate\n",
       "2019-04-30    16455700\n",
       "2019-05-31     1500000\n",
       "Freq: M, Name: Amount, dtype: int64"
      ]
     },
     "execution_count": 7,
     "metadata": {},
     "output_type": "execute_result"
    }
   ],
   "source": [
    "ts.tail(2)"
   ]
  },
  {
   "cell_type": "code",
   "execution_count": 8,
   "metadata": {},
   "outputs": [],
   "source": [
    "from statsmodels.tsa.stattools import adfuller\n",
    "def dft(ts):\n",
    "    print ('Results of Dickey-Fuller Test:')\n",
    "    dftest = adfuller(ts, autolag='AIC')\n",
    "    dfoutput = pd.Series(dftest[0:4], index=['Test Statistic','p-value','#Lags Used','Number of Observations Used'])\n",
    "    for key,value in dftest[4].items():\n",
    "        dfoutput['Critical Value (%s)'%key] = value\n",
    "    print (dfoutput)"
   ]
  },
  {
   "cell_type": "code",
   "execution_count": 9,
   "metadata": {},
   "outputs": [
    {
     "name": "stdout",
     "output_type": "stream",
     "text": [
      "Results of Dickey-Fuller Test:\n",
      "Test Statistic                -0.973628\n",
      "p-value                        0.762761\n",
      "#Lags Used                     3.000000\n",
      "Number of Observations Used    7.000000\n",
      "Critical Value (1%)           -4.938690\n",
      "Critical Value (5%)           -3.477583\n",
      "Critical Value (10%)          -2.843868\n",
      "dtype: float64\n"
     ]
    }
   ],
   "source": [
    "dft(ts)"
   ]
  },
  {
   "cell_type": "code",
   "execution_count": 10,
   "metadata": {},
   "outputs": [
    {
     "data": {
      "text/plain": [
       "600000"
      ]
     },
     "execution_count": 10,
     "metadata": {},
     "output_type": "execute_result"
    }
   ],
   "source": [
    "ts.min()"
   ]
  },
  {
   "cell_type": "code",
   "execution_count": 12,
   "metadata": {},
   "outputs": [
    {
     "data": {
      "text/plain": [
       "[<matplotlib.lines.Line2D at 0x233085eb668>]"
      ]
     },
     "execution_count": 12,
     "metadata": {},
     "output_type": "execute_result"
    },
    {
     "data": {
      "image/png": "[encoded data removed]",
      "text/plain": [
       "<Figure size 432x288 with 1 Axes>"
      ]
     },
     "metadata": {
      "needs_background": "light"
     },
     "output_type": "display_data"
    }
   ],
   "source": [
    "plt.plot(ts)"
   ]
  },
  {
   "cell_type": "code",
   "execution_count": 13,
   "metadata": {},
   "outputs": [],
   "source": [
    "ts_log=np.log(ts[ts>0])"
   ]
  },
  {
   "cell_type": "code",
   "execution_count": 14,
   "metadata": {},
   "outputs": [
    {
     "data": {
      "text/plain": [
       "[<matplotlib.lines.Line2D at 0x2330859cd30>]"
      ]
     },
     "execution_count": 14,
     "metadata": {},
     "output_type": "execute_result"
    },
    {
     "data": {
      "image/png": "[encoded data removed]",
      "text/plain": [
       "<Figure size 432x288 with 1 Axes>"
      ]
     },
     "metadata": {
      "needs_background": "light"
     },
     "output_type": "display_data"
    }
   ],
   "source": [
    "plt.plot(ts_log)"
   ]
  },
  {
   "cell_type": "code",
   "execution_count": 15,
   "metadata": {},
   "outputs": [
    {
     "name": "stdout",
     "output_type": "stream",
     "text": [
      "Results of Dickey-Fuller Test:\n",
      "Test Statistic                 -0.000000\n",
      "p-value                         0.958532\n",
      "#Lags Used                      7.000000\n",
      "Number of Observations Used     3.000000\n",
      "Critical Value (1%)           -10.417191\n",
      "Critical Value (5%)            -5.778381\n",
      "Critical Value (10%)           -3.391681\n",
      "dtype: float64\n"
     ]
    }
   ],
   "source": [
    "dft(ts_log)"
   ]
  },
  {
   "cell_type": "code",
   "execution_count": 19,
   "metadata": {},
   "outputs": [],
   "source": [
    "ts_log_diff1=ts_log-ts_log.shift()"
   ]
  },
  {
   "cell_type": "code",
   "execution_count": 20,
   "metadata": {},
   "outputs": [],
   "source": [
    "ts_log_diff1.dropna(inplace=True)"
   ]
  },
  {
   "cell_type": "code",
   "execution_count": 21,
   "metadata": {},
   "outputs": [
    {
     "name": "stdout",
     "output_type": "stream",
     "text": [
      "Results of Dickey-Fuller Test:\n",
      "Test Statistic                 -0.000000\n",
      "p-value                         0.958532\n",
      "#Lags Used                      6.000000\n",
      "Number of Observations Used     3.000000\n",
      "Critical Value (1%)           -10.417191\n",
      "Critical Value (5%)            -5.778381\n",
      "Critical Value (10%)           -3.391681\n",
      "dtype: float64\n"
     ]
    }
   ],
   "source": [
    "dft(ts_log_diff1)"
   ]
  },
  {
   "cell_type": "code",
   "execution_count": 22,
   "metadata": {},
   "outputs": [],
   "source": [
    "ts_log_diff2=ts_log_diff1-ts_log_diff1.shift()"
   ]
  },
  {
   "cell_type": "code",
   "execution_count": 23,
   "metadata": {},
   "outputs": [],
   "source": [
    "ts_log_diff2.dropna(inplace=True)"
   ]
  },
  {
   "cell_type": "code",
   "execution_count": 24,
   "metadata": {},
   "outputs": [
    {
     "name": "stdout",
     "output_type": "stream",
     "text": [
      "Results of Dickey-Fuller Test:\n",
      "Test Statistic                -5.321104\n",
      "p-value                        0.000005\n",
      "#Lags Used                     0.000000\n",
      "Number of Observations Used    8.000000\n",
      "Critical Value (1%)           -4.665186\n",
      "Critical Value (5%)           -3.367187\n",
      "Critical Value (10%)          -2.802961\n",
      "dtype: float64\n"
     ]
    }
   ],
   "source": [
    "dft(ts_log_diff2)"
   ]
  },
  {
   "cell_type": "code",
   "execution_count": 1043,
   "metadata": {},
   "outputs": [],
   "source": [
    "ts_log_diff2.dropna(inplace=True)"
   ]
  },
  {
   "cell_type": "code",
   "execution_count": 1044,
   "metadata": {},
   "outputs": [],
   "source": [
    "from statsmodels.tsa.stattools import acf, pacf\n",
    "# Requisite libraries for computing auto correlation function and partial auto correlation function. "
   ]
  },
  {
   "cell_type": "code",
   "execution_count": 1045,
   "metadata": {},
   "outputs": [],
   "source": [
    "lag_acf = acf(ts_log_diff2, nlags=2)\n",
    "lag_pacf = pacf(ts_log_diff2, nlags=2, method='ols')\n",
    "#ols stands for ordinary least squared."
   ]
  },
  {
   "cell_type": "code",
   "execution_count": 1046,
   "metadata": {},
   "outputs": [
    {
     "data": {
      "text/plain": [
       "Text(0.5, 1.0, 'Autocorrelation Function')"
      ]
     },
     "execution_count": 1046,
     "metadata": {},
     "output_type": "execute_result"
    },
    {
     "data": {
      "image/png": "[encoded data removed]",
      "text/plain": [
       "<Figure size 432x288 with 1 Axes>"
      ]
     },
     "metadata": {},
     "output_type": "display_data"
    }
   ],
   "source": [
    "#This is the plotting of acf.\n",
    "plt.subplot(121) \n",
    "plt.plot(lag_acf)\n",
    "plt.axhline(y=0,linestyle='--',color='gray')\n",
    "plt.axhline(y=-1.96/np.sqrt(len(ts_log_diff)),linestyle='--',color='gray')\n",
    "plt.axhline(y=1.96/np.sqrt(len(ts_log_diff)),linestyle='--',color='gray')\n",
    "plt.title('Autocorrelation Function')"
   ]
  },
  {
   "cell_type": "code",
   "execution_count": 1047,
   "metadata": {},
   "outputs": [
    {
     "data": {
      "image/png": "[encoded data removed]",
      "text/plain": [
       "<Figure size 432x288 with 1 Axes>"
      ]
     },
     "metadata": {},
     "output_type": "display_data"
    }
   ],
   "source": [
    "#Plot PACF:\n",
    "plt.subplot(122)\n",
    "plt.plot(lag_pacf)\n",
    "plt.axhline(y=0,linestyle='--',color='gray')\n",
    "plt.axhline(y=-1.96/np.sqrt(len(ts_log_diff)),linestyle='--',color='gray')\n",
    "plt.axhline(y=1.96/np.sqrt(len(ts_log_diff)),linestyle='--',color='gray')\n",
    "plt.title('Partial Autocorrelation Function')\n",
    "plt.tight_layout()"
   ]
  },
  {
   "cell_type": "code",
   "execution_count": 1048,
   "metadata": {},
   "outputs": [],
   "source": [
    "from statsmodels.tsa.arima_model import ARIMA\n",
    "model = ARIMA(ts_log_diff2, order=(1, 2, 1))\n",
    "model_fit = model.fit(disp=False)"
   ]
  },
  {
   "cell_type": "code",
   "execution_count": 1049,
   "metadata": {},
   "outputs": [
    {
     "data": {
      "text/plain": [
       "TransactionDate\n",
       "2019-04-30   -0.723816\n",
       "2019-05-31   -2.381764\n",
       "Freq: M, Name: Amount, dtype: float64"
      ]
     },
     "execution_count": 1049,
     "metadata": {},
     "output_type": "execute_result"
    }
   ],
   "source": [
    "ts_log_diff2.tail(2)"
   ]
  },
  {
   "cell_type": "code",
   "execution_count": 1050,
   "metadata": {},
   "outputs": [],
   "source": [
    "pred_arima= model_fit.predict(start=\"2019-05-31\",end=\"2019-12-31\")\n",
    "predictions_ARIMA_diff = pd.Series(pred_arima, copy=True)\n",
    "predictions_ARIMA_diff_cumsum1 = predictions_ARIMA_diff.cumsum()\n",
    "a=ts_log_diff1[-1]\n",
    "predicted_log_1=a+predictions_ARIMA_diff_cumsum1\n",
    "b=ts_log[-1]\n",
    "predicted_log=b+predicted_log_1"
   ]
  },
  {
   "cell_type": "code",
   "execution_count": 1051,
   "metadata": {},
   "outputs": [],
   "source": [
    "prediction_final=np.exp(predicted_log)"
   ]
  },
  {
   "cell_type": "code",
   "execution_count": 1052,
   "metadata": {},
   "outputs": [
    {
     "data": {
      "image/png": "[encoded data removed]",
      "text/plain": [
       "<Figure size 864x288 with 1 Axes>"
      ]
     },
     "metadata": {},
     "output_type": "display_data"
    }
   ],
   "source": [
    "plt.figure(figsize=(12,4))\n",
    "plt.plot(ts, color=\"blue\", linewidth=2)\n",
    "plt.plot(prediction_final,color=\"red\", linewidth=2)\n",
    "plt.gca().get_yaxis().get_major_formatter().set_scientific(False)\n",
    "plt.grid(True, color=\"green\")"
   ]
  },
  {
   "cell_type": "code",
   "execution_count": null,
   "metadata": {},
   "outputs": [],
   "source": []
  },
  {
   "cell_type": "markdown",
   "metadata": {},
   "source": [
    "**FORECAST WITH INTERPOLATION**"
   ]
  },
  {
   "cell_type": "code",
   "execution_count": 1004,
   "metadata": {},
   "outputs": [],
   "source": [
    "payment=pd.read_csv(\"seller_buyer_paymentdetails.csv\")"
   ]
  },
  {
   "cell_type": "markdown",
   "metadata": {},
   "source": [
    "**INTERPOLATION STEPS**"
   ]
  },
  {
   "cell_type": "code",
   "execution_count": 1005,
   "metadata": {},
   "outputs": [],
   "source": [
    "payment=payment.interpolate(method=\"linear\", limit_direction=\"backward\")"
   ]
  },
  {
   "cell_type": "code",
   "execution_count": 1006,
   "metadata": {},
   "outputs": [
    {
     "data": {
      "text/html": [
       "<div>\n",
       "<style scoped>\n",
       "    .dataframe tbody tr th:only-of-type {\n",
       "        vertical-align: middle;\n",
       "    }\n",
       "\n",
       "    .dataframe tbody tr th {\n",
       "        vertical-align: top;\n",
       "    }\n",
       "\n",
       "    .dataframe thead th {\n",
       "        text-align: right;\n",
       "    }\n",
       "</style>\n",
       "<table border=\"1\" class=\"dataframe\">\n",
       "  <thead>\n",
       "    <tr style=\"text-align: right;\">\n",
       "      <th></th>\n",
       "      <th>TransactionDate</th>\n",
       "      <th>PaymentDate</th>\n",
       "      <th>PaymentId</th>\n",
       "      <th>SellerId</th>\n",
       "      <th>BuyerId</th>\n",
       "      <th>Amount</th>\n",
       "    </tr>\n",
       "  </thead>\n",
       "  <tbody>\n",
       "    <tr>\n",
       "      <th>0</th>\n",
       "      <td>2017-06-30T00:00:00.000Z</td>\n",
       "      <td>2017-07-19 00:00:00+00:00</td>\n",
       "      <td>87531</td>\n",
       "      <td>13</td>\n",
       "      <td>16140</td>\n",
       "      <td>74970.0</td>\n",
       "    </tr>\n",
       "    <tr>\n",
       "      <th>1</th>\n",
       "      <td>2017-06-30T00:00:00.000Z</td>\n",
       "      <td>2017-07-19 00:00:00+00:00</td>\n",
       "      <td>87531</td>\n",
       "      <td>13</td>\n",
       "      <td>16140</td>\n",
       "      <td>109841.0</td>\n",
       "    </tr>\n",
       "    <tr>\n",
       "      <th>2</th>\n",
       "      <td>2017-06-30T00:00:00.000Z</td>\n",
       "      <td>2017-07-19 00:00:00+00:00</td>\n",
       "      <td>87531</td>\n",
       "      <td>13</td>\n",
       "      <td>16140</td>\n",
       "      <td>51128.0</td>\n",
       "    </tr>\n",
       "  </tbody>\n",
       "</table>\n",
       "</div>"
      ],
      "text/plain": [
       "            TransactionDate                PaymentDate  PaymentId  SellerId  \\\n",
       "0  2017-06-30T00:00:00.000Z  2017-07-19 00:00:00+00:00      87531        13   \n",
       "1  2017-06-30T00:00:00.000Z  2017-07-19 00:00:00+00:00      87531        13   \n",
       "2  2017-06-30T00:00:00.000Z  2017-07-19 00:00:00+00:00      87531        13   \n",
       "\n",
       "   BuyerId    Amount  \n",
       "0    16140   74970.0  \n",
       "1    16140  109841.0  \n",
       "2    16140   51128.0  "
      ]
     },
     "execution_count": 1006,
     "metadata": {},
     "output_type": "execute_result"
    }
   ],
   "source": [
    "payment.head(3)"
   ]
  },
  {
   "cell_type": "code",
   "execution_count": 1007,
   "metadata": {},
   "outputs": [],
   "source": [
    "sel=payment[payment.SellerId==6][[\"TransactionDate\",\"Amount\"]]\n",
    "sel[\"TransactionDate\"]=sel.TransactionDate.apply(lambda x: x.split(\"T\")[0])\n",
    "sel[\"TransactionDate\"]=pd.to_datetime(sel.TransactionDate)\n",
    "sel=sel.set_index(\"TransactionDate\")\n",
    "sel = sel.groupby(pd.Grouper(freq=\"M\")).sum()\n",
    "sel[\"Amount\"]=sel.Amount.apply(lambda x:int(x))\n",
    "ts=sel[\"Amount\"]"
   ]
  },
  {
   "cell_type": "code",
   "execution_count": 1008,
   "metadata": {},
   "outputs": [],
   "source": [
    "from statsmodels.tsa.stattools import adfuller\n",
    "def dft(ts):\n",
    "    print ('Results of Dickey-Fuller Test:')\n",
    "    dftest = adfuller(ts, autolag='AIC')\n",
    "    dfoutput = pd.Series(dftest[0:4], index=['Test Statistic','p-value','#Lags Used','Number of Observations Used'])\n",
    "    for key,value in dftest[4].items():\n",
    "        dfoutput['Critical Value (%s)'%key] = value\n",
    "    print (dfoutput)"
   ]
  },
  {
   "cell_type": "code",
   "execution_count": 1009,
   "metadata": {},
   "outputs": [
    {
     "name": "stdout",
     "output_type": "stream",
     "text": [
      "Results of Dickey-Fuller Test:\n",
      "Test Statistic                -1.141058\n",
      "p-value                        0.698424\n",
      "#Lags Used                     1.000000\n",
      "Number of Observations Used    9.000000\n",
      "Critical Value (1%)           -4.473135\n",
      "Critical Value (5%)           -3.289881\n",
      "Critical Value (10%)          -2.772382\n",
      "dtype: float64\n"
     ]
    }
   ],
   "source": [
    "dft(ts)"
   ]
  },
  {
   "cell_type": "code",
   "execution_count": 1010,
   "metadata": {},
   "outputs": [],
   "source": [
    "ts_log=np.log(ts[ts>0])"
   ]
  },
  {
   "cell_type": "code",
   "execution_count": 1011,
   "metadata": {},
   "outputs": [],
   "source": [
    "ts_log_diff1=ts_log-ts_log.shift()"
   ]
  },
  {
   "cell_type": "code",
   "execution_count": 1012,
   "metadata": {},
   "outputs": [],
   "source": [
    "ts_log_diff1.dropna(inplace=True)"
   ]
  },
  {
   "cell_type": "code",
   "execution_count": 1013,
   "metadata": {},
   "outputs": [
    {
     "name": "stdout",
     "output_type": "stream",
     "text": [
      "Results of Dickey-Fuller Test:\n",
      "Test Statistic                 -0.000000\n",
      "p-value                         0.958532\n",
      "#Lags Used                      6.000000\n",
      "Number of Observations Used     3.000000\n",
      "Critical Value (1%)           -10.417191\n",
      "Critical Value (5%)            -5.778381\n",
      "Critical Value (10%)           -3.391681\n",
      "dtype: float64\n"
     ]
    }
   ],
   "source": [
    "dft(ts_log_diff1)"
   ]
  },
  {
   "cell_type": "code",
   "execution_count": 1014,
   "metadata": {},
   "outputs": [],
   "source": [
    "ts_log_diff2=ts_log_diff1-ts_log_diff1.shift()"
   ]
  },
  {
   "cell_type": "code",
   "execution_count": 1015,
   "metadata": {},
   "outputs": [],
   "source": [
    "ts_log_diff2.dropna(inplace=True)"
   ]
  },
  {
   "cell_type": "code",
   "execution_count": 1016,
   "metadata": {},
   "outputs": [
    {
     "name": "stdout",
     "output_type": "stream",
     "text": [
      "Results of Dickey-Fuller Test:\n",
      "Test Statistic                -6.080426e+00\n",
      "p-value                        1.095570e-07\n",
      "#Lags Used                     0.000000e+00\n",
      "Number of Observations Used    8.000000e+00\n",
      "Critical Value (1%)           -4.665186e+00\n",
      "Critical Value (5%)           -3.367187e+00\n",
      "Critical Value (10%)          -2.802961e+00\n",
      "dtype: float64\n"
     ]
    }
   ],
   "source": [
    "dft(ts_log_diff2)"
   ]
  },
  {
   "cell_type": "code",
   "execution_count": 1017,
   "metadata": {},
   "outputs": [],
   "source": [
    "ts_log_diff2.dropna(inplace=True)"
   ]
  },
  {
   "cell_type": "code",
   "execution_count": 1018,
   "metadata": {},
   "outputs": [],
   "source": [
    "from statsmodels.tsa.stattools import acf, pacf\n",
    "# Requisite libraries for computing auto correlation function and partial auto correlation function. "
   ]
  },
  {
   "cell_type": "code",
   "execution_count": 1019,
   "metadata": {},
   "outputs": [],
   "source": [
    "lag_acf = acf(ts_log_diff2, nlags=2)\n",
    "lag_pacf = pacf(ts_log_diff2, nlags=2, method='ols')\n",
    "#ols stands for ordinary least squared."
   ]
  },
  {
   "cell_type": "code",
   "execution_count": 1020,
   "metadata": {},
   "outputs": [
    {
     "data": {
      "text/plain": [
       "Text(0.5, 1.0, 'Autocorrelation Function')"
      ]
     },
     "execution_count": 1020,
     "metadata": {},
     "output_type": "execute_result"
    },
    {
     "data": {
      "image/png": "[encoded data removed]",
      "text/plain": [
       "<Figure size 432x288 with 1 Axes>"
      ]
     },
     "metadata": {},
     "output_type": "display_data"
    }
   ],
   "source": [
    "#This is the plotting of acf.\n",
    "plt.subplot(121) \n",
    "plt.plot(lag_acf)\n",
    "plt.axhline(y=0,linestyle='--',color='gray')\n",
    "plt.axhline(y=-1.96/np.sqrt(len(ts_log_diff)),linestyle='--',color='gray')\n",
    "plt.axhline(y=1.96/np.sqrt(len(ts_log_diff)),linestyle='--',color='gray')\n",
    "plt.title('Autocorrelation Function')"
   ]
  },
  {
   "cell_type": "code",
   "execution_count": 1021,
   "metadata": {},
   "outputs": [
    {
     "data": {
      "image/png": "[encoded data removed]",
      "text/plain": [
       "<Figure size 432x288 with 1 Axes>"
      ]
     },
     "metadata": {},
     "output_type": "display_data"
    }
   ],
   "source": [
    "#Plot PACF:\n",
    "plt.subplot(122)\n",
    "plt.plot(lag_pacf)\n",
    "plt.axhline(y=0,linestyle='--',color='gray')\n",
    "plt.axhline(y=-1.96/np.sqrt(len(ts_log_diff)),linestyle='--',color='gray')\n",
    "plt.axhline(y=1.96/np.sqrt(len(ts_log_diff)),linestyle='--',color='gray')\n",
    "plt.title('Partial Autocorrelation Function')\n",
    "plt.tight_layout()"
   ]
  },
  {
   "cell_type": "code",
   "execution_count": 1022,
   "metadata": {},
   "outputs": [],
   "source": [
    "from statsmodels.tsa.arima_model import ARIMA\n",
    "model = ARIMA(ts_log_diff2, order=(1, 2, 1))\n",
    "model_fit = model.fit(disp=False)"
   ]
  },
  {
   "cell_type": "code",
   "execution_count": 1023,
   "metadata": {},
   "outputs": [],
   "source": [
    "pred_arima= model_fit.predict(start=\"2019-05-31\",end=\"2019-12-31\")\n",
    "predictions_ARIMA_diff = pd.Series(pred_arima, copy=True)\n",
    "predictions_ARIMA_diff_cumsum1 = predictions_ARIMA_diff.cumsum()\n",
    "a=ts_log_diff1[-1]\n",
    "predicted_log_1=a+predictions_ARIMA_diff_cumsum\n",
    "b=ts_log[-1]\n",
    "predicted_log=b+predicted_log_1"
   ]
  },
  {
   "cell_type": "code",
   "execution_count": 1024,
   "metadata": {},
   "outputs": [],
   "source": [
    "prediction_final=np.exp(predicted_log)"
   ]
  },
  {
   "cell_type": "code",
   "execution_count": 1025,
   "metadata": {},
   "outputs": [
    {
     "data": {
      "image/png": "[encoded data removed]",
      "text/plain": [
       "<Figure size 864x288 with 1 Axes>"
      ]
     },
     "metadata": {},
     "output_type": "display_data"
    }
   ],
   "source": [
    "plt.figure(figsize=(12,4))\n",
    "plt.plot(ts, color=\"blue\", linewidth=2)\n",
    "plt.plot(prediction_final,color=\"red\", linewidth=2)\n",
    "plt.gca().get_yaxis().get_major_formatter().set_scientific(False)\n",
    "plt.grid(True, color=\"green\")"
   ]
  },
  {
   "cell_type": "code",
   "execution_count": null,
   "metadata": {},
   "outputs": [],
   "source": []
  },
  {
   "cell_type": "code",
   "execution_count": null,
   "metadata": {},
   "outputs": [],
   "source": []
  }
 ],
 "metadata": {
  "kernelspec": {
   "display_name": "Python 3",
   "language": "python",
   "name": "python3"
  },
  "language_info": {
   "codemirror_mode": {
    "name": "ipython",
    "version": 3
   },
   "file_extension": ".py",
   "mimetype": "text/x-python",
   "name": "python",
   "nbconvert_exporter": "python",
   "pygments_lexer": "ipython3",
   "version": "3.7.3"
  }
 },
 "nbformat": 4,
 "nbformat_minor": 2
}
