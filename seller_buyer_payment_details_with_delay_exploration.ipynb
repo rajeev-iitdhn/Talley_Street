{
 "cells": [
  {
   "cell_type": "markdown",
   "metadata": {},
   "source": [
    "**THIS NOTEBOOK CONTAINS FORECAST OF PAYMENT FOR SELLER 10 WITH TRANSACTION DATE ALONG WITH EXPLORATION OF DELAY OCCURING IN PAYMENTS..**"
   ]
  },
  {
   "cell_type": "code",
   "execution_count": 844,
   "metadata": {},
   "outputs": [],
   "source": [
    "#Importing the prerequisite libraries that are to be used further.\n",
    "import pandas as pd\n",
    "import warnings\n",
    "import itertools\n",
    "import numpy as np\n",
    "import matplotlib.pyplot as plt\n",
    "warnings.filterwarnings(\"ignore\")\n",
    "plt.style.use('fivethirtyeight')\n",
    "import statsmodels.api as sm\n",
    "import matplotlib.pyplot as plt"
   ]
  },
  {
   "cell_type": "markdown",
   "metadata": {},
   "source": [
    "**Below is the importing of data file. It also includes changing the format of date time and extracting the date from it.**"
   ]
  },
  {
   "cell_type": "code",
   "execution_count": 845,
   "metadata": {},
   "outputs": [],
   "source": [
    "payment=pd.read_csv(\"seller_buyer_paymentdetails.csv\")\n",
    "payment[\"TransactionDate\"]=pd.to_datetime(pd.to_datetime(payment[\"TransactionDate\"]).dt.date)\n",
    "payment[\"PaymentDate\"]=pd.to_datetime(pd.to_datetime(payment[\"PaymentDate\"]).dt.date)"
   ]
  },
  {
   "cell_type": "markdown",
   "metadata": {},
   "source": [
    "**The sample data is below consisting of payment details. The amount variable is a discontinuous one, It has several unavailable values.**"
   ]
  },
  {
   "cell_type": "code",
   "execution_count": 846,
   "metadata": {},
   "outputs": [
    {
     "data": {
      "text/html": [
       "<div>\n",
       "<style scoped>\n",
       "    .dataframe tbody tr th:only-of-type {\n",
       "        vertical-align: middle;\n",
       "    }\n",
       "\n",
       "    .dataframe tbody tr th {\n",
       "        vertical-align: top;\n",
       "    }\n",
       "\n",
       "    .dataframe thead th {\n",
       "        text-align: right;\n",
       "    }\n",
       "</style>\n",
       "<table border=\"1\" class=\"dataframe\">\n",
       "  <thead>\n",
       "    <tr style=\"text-align: right;\">\n",
       "      <th></th>\n",
       "      <th>TransactionDate</th>\n",
       "      <th>PaymentDate</th>\n",
       "      <th>PaymentId</th>\n",
       "      <th>SellerId</th>\n",
       "      <th>BuyerId</th>\n",
       "      <th>Amount</th>\n",
       "    </tr>\n",
       "  </thead>\n",
       "  <tbody>\n",
       "    <tr>\n",
       "      <th>0</th>\n",
       "      <td>2017-06-30</td>\n",
       "      <td>2017-07-19</td>\n",
       "      <td>87531</td>\n",
       "      <td>13</td>\n",
       "      <td>16140</td>\n",
       "      <td>74970.0</td>\n",
       "    </tr>\n",
       "    <tr>\n",
       "      <th>1</th>\n",
       "      <td>2017-06-30</td>\n",
       "      <td>2017-07-19</td>\n",
       "      <td>87531</td>\n",
       "      <td>13</td>\n",
       "      <td>16140</td>\n",
       "      <td>109841.0</td>\n",
       "    </tr>\n",
       "    <tr>\n",
       "      <th>2</th>\n",
       "      <td>2017-06-30</td>\n",
       "      <td>2017-07-19</td>\n",
       "      <td>87531</td>\n",
       "      <td>13</td>\n",
       "      <td>16140</td>\n",
       "      <td>51128.0</td>\n",
       "    </tr>\n",
       "    <tr>\n",
       "      <th>3</th>\n",
       "      <td>2017-06-30</td>\n",
       "      <td>2017-07-19</td>\n",
       "      <td>87531</td>\n",
       "      <td>13</td>\n",
       "      <td>16140</td>\n",
       "      <td>74630.0</td>\n",
       "    </tr>\n",
       "    <tr>\n",
       "      <th>4</th>\n",
       "      <td>2017-06-30</td>\n",
       "      <td>2017-07-19</td>\n",
       "      <td>87531</td>\n",
       "      <td>13</td>\n",
       "      <td>16140</td>\n",
       "      <td>299030.0</td>\n",
       "    </tr>\n",
       "    <tr>\n",
       "      <th>5</th>\n",
       "      <td>2017-06-30</td>\n",
       "      <td>2017-07-24</td>\n",
       "      <td>87531</td>\n",
       "      <td>13</td>\n",
       "      <td>16140</td>\n",
       "      <td>492469.0</td>\n",
       "    </tr>\n",
       "    <tr>\n",
       "      <th>6</th>\n",
       "      <td>2017-06-16</td>\n",
       "      <td>2017-07-25</td>\n",
       "      <td>87531</td>\n",
       "      <td>13</td>\n",
       "      <td>16147</td>\n",
       "      <td>276100.0</td>\n",
       "    </tr>\n",
       "    <tr>\n",
       "      <th>7</th>\n",
       "      <td>2017-07-28</td>\n",
       "      <td>2017-07-31</td>\n",
       "      <td>87531</td>\n",
       "      <td>13</td>\n",
       "      <td>16136</td>\n",
       "      <td>95175.0</td>\n",
       "    </tr>\n",
       "    <tr>\n",
       "      <th>8</th>\n",
       "      <td>2017-07-28</td>\n",
       "      <td>2017-08-02</td>\n",
       "      <td>87531</td>\n",
       "      <td>13</td>\n",
       "      <td>16146</td>\n",
       "      <td>128400.0</td>\n",
       "    </tr>\n",
       "    <tr>\n",
       "      <th>9</th>\n",
       "      <td>2016-04-30</td>\n",
       "      <td>2017-08-02</td>\n",
       "      <td>87531</td>\n",
       "      <td>10</td>\n",
       "      <td>15066</td>\n",
       "      <td>NaN</td>\n",
       "    </tr>\n",
       "    <tr>\n",
       "      <th>10</th>\n",
       "      <td>2016-05-28</td>\n",
       "      <td>2017-08-02</td>\n",
       "      <td>87531</td>\n",
       "      <td>10</td>\n",
       "      <td>15066</td>\n",
       "      <td>NaN</td>\n",
       "    </tr>\n",
       "    <tr>\n",
       "      <th>11</th>\n",
       "      <td>2016-05-28</td>\n",
       "      <td>2017-08-02</td>\n",
       "      <td>87531</td>\n",
       "      <td>10</td>\n",
       "      <td>15069</td>\n",
       "      <td>NaN</td>\n",
       "    </tr>\n",
       "    <tr>\n",
       "      <th>12</th>\n",
       "      <td>2016-05-28</td>\n",
       "      <td>2017-08-02</td>\n",
       "      <td>87531</td>\n",
       "      <td>10</td>\n",
       "      <td>15070</td>\n",
       "      <td>NaN</td>\n",
       "    </tr>\n",
       "    <tr>\n",
       "      <th>13</th>\n",
       "      <td>2016-05-28</td>\n",
       "      <td>2017-08-02</td>\n",
       "      <td>87531</td>\n",
       "      <td>10</td>\n",
       "      <td>15072</td>\n",
       "      <td>NaN</td>\n",
       "    </tr>\n",
       "    <tr>\n",
       "      <th>14</th>\n",
       "      <td>2016-04-30</td>\n",
       "      <td>2016-06-15</td>\n",
       "      <td>87531</td>\n",
       "      <td>10</td>\n",
       "      <td>15075</td>\n",
       "      <td>35000.0</td>\n",
       "    </tr>\n",
       "    <tr>\n",
       "      <th>15</th>\n",
       "      <td>2016-06-11</td>\n",
       "      <td>2016-06-07</td>\n",
       "      <td>87531</td>\n",
       "      <td>10</td>\n",
       "      <td>15076</td>\n",
       "      <td>50000.0</td>\n",
       "    </tr>\n",
       "    <tr>\n",
       "      <th>16</th>\n",
       "      <td>2016-06-15</td>\n",
       "      <td>2016-06-16</td>\n",
       "      <td>87531</td>\n",
       "      <td>10</td>\n",
       "      <td>15078</td>\n",
       "      <td>31200.0</td>\n",
       "    </tr>\n",
       "    <tr>\n",
       "      <th>17</th>\n",
       "      <td>2016-05-28</td>\n",
       "      <td>2016-06-11</td>\n",
       "      <td>87531</td>\n",
       "      <td>10</td>\n",
       "      <td>15079</td>\n",
       "      <td>9750.0</td>\n",
       "    </tr>\n",
       "    <tr>\n",
       "      <th>18</th>\n",
       "      <td>2016-05-28</td>\n",
       "      <td>2016-06-11</td>\n",
       "      <td>87531</td>\n",
       "      <td>10</td>\n",
       "      <td>15081</td>\n",
       "      <td>NaN</td>\n",
       "    </tr>\n",
       "    <tr>\n",
       "      <th>19</th>\n",
       "      <td>2016-05-28</td>\n",
       "      <td>2016-06-11</td>\n",
       "      <td>87531</td>\n",
       "      <td>10</td>\n",
       "      <td>15082</td>\n",
       "      <td>NaN</td>\n",
       "    </tr>\n",
       "    <tr>\n",
       "      <th>20</th>\n",
       "      <td>2016-05-28</td>\n",
       "      <td>2016-06-11</td>\n",
       "      <td>87531</td>\n",
       "      <td>10</td>\n",
       "      <td>15083</td>\n",
       "      <td>NaN</td>\n",
       "    </tr>\n",
       "    <tr>\n",
       "      <th>21</th>\n",
       "      <td>2016-05-14</td>\n",
       "      <td>2016-06-11</td>\n",
       "      <td>87531</td>\n",
       "      <td>10</td>\n",
       "      <td>15084</td>\n",
       "      <td>NaN</td>\n",
       "    </tr>\n",
       "    <tr>\n",
       "      <th>22</th>\n",
       "      <td>2016-06-11</td>\n",
       "      <td>2016-06-21</td>\n",
       "      <td>87531</td>\n",
       "      <td>10</td>\n",
       "      <td>15087</td>\n",
       "      <td>50000.0</td>\n",
       "    </tr>\n",
       "    <tr>\n",
       "      <th>23</th>\n",
       "      <td>2016-06-11</td>\n",
       "      <td>2016-06-21</td>\n",
       "      <td>87531</td>\n",
       "      <td>10</td>\n",
       "      <td>15090</td>\n",
       "      <td>1500.0</td>\n",
       "    </tr>\n",
       "    <tr>\n",
       "      <th>24</th>\n",
       "      <td>2016-06-11</td>\n",
       "      <td>2016-06-21</td>\n",
       "      <td>87531</td>\n",
       "      <td>10</td>\n",
       "      <td>15092</td>\n",
       "      <td>45000.0</td>\n",
       "    </tr>\n",
       "    <tr>\n",
       "      <th>25</th>\n",
       "      <td>2016-06-11</td>\n",
       "      <td>2016-06-21</td>\n",
       "      <td>87531</td>\n",
       "      <td>10</td>\n",
       "      <td>15094</td>\n",
       "      <td>52500.0</td>\n",
       "    </tr>\n",
       "    <tr>\n",
       "      <th>26</th>\n",
       "      <td>2016-06-11</td>\n",
       "      <td>2016-06-21</td>\n",
       "      <td>87531</td>\n",
       "      <td>10</td>\n",
       "      <td>15095</td>\n",
       "      <td>35100.0</td>\n",
       "    </tr>\n",
       "    <tr>\n",
       "      <th>27</th>\n",
       "      <td>2016-06-11</td>\n",
       "      <td>2016-06-21</td>\n",
       "      <td>87531</td>\n",
       "      <td>10</td>\n",
       "      <td>15098</td>\n",
       "      <td>25000.0</td>\n",
       "    </tr>\n",
       "    <tr>\n",
       "      <th>28</th>\n",
       "      <td>2016-06-11</td>\n",
       "      <td>2016-06-21</td>\n",
       "      <td>87531</td>\n",
       "      <td>10</td>\n",
       "      <td>15080</td>\n",
       "      <td>23500.0</td>\n",
       "    </tr>\n",
       "    <tr>\n",
       "      <th>29</th>\n",
       "      <td>2016-06-11</td>\n",
       "      <td>2016-06-21</td>\n",
       "      <td>87531</td>\n",
       "      <td>10</td>\n",
       "      <td>15102</td>\n",
       "      <td>82500.0</td>\n",
       "    </tr>\n",
       "  </tbody>\n",
       "</table>\n",
       "</div>"
      ],
      "text/plain": [
       "   TransactionDate PaymentDate  PaymentId  SellerId  BuyerId    Amount\n",
       "0       2017-06-30  2017-07-19      87531        13    16140   74970.0\n",
       "1       2017-06-30  2017-07-19      87531        13    16140  109841.0\n",
       "2       2017-06-30  2017-07-19      87531        13    16140   51128.0\n",
       "3       2017-06-30  2017-07-19      87531        13    16140   74630.0\n",
       "4       2017-06-30  2017-07-19      87531        13    16140  299030.0\n",
       "5       2017-06-30  2017-07-24      87531        13    16140  492469.0\n",
       "6       2017-06-16  2017-07-25      87531        13    16147  276100.0\n",
       "7       2017-07-28  2017-07-31      87531        13    16136   95175.0\n",
       "8       2017-07-28  2017-08-02      87531        13    16146  128400.0\n",
       "9       2016-04-30  2017-08-02      87531        10    15066       NaN\n",
       "10      2016-05-28  2017-08-02      87531        10    15066       NaN\n",
       "11      2016-05-28  2017-08-02      87531        10    15069       NaN\n",
       "12      2016-05-28  2017-08-02      87531        10    15070       NaN\n",
       "13      2016-05-28  2017-08-02      87531        10    15072       NaN\n",
       "14      2016-04-30  2016-06-15      87531        10    15075   35000.0\n",
       "15      2016-06-11  2016-06-07      87531        10    15076   50000.0\n",
       "16      2016-06-15  2016-06-16      87531        10    15078   31200.0\n",
       "17      2016-05-28  2016-06-11      87531        10    15079    9750.0\n",
       "18      2016-05-28  2016-06-11      87531        10    15081       NaN\n",
       "19      2016-05-28  2016-06-11      87531        10    15082       NaN\n",
       "20      2016-05-28  2016-06-11      87531        10    15083       NaN\n",
       "21      2016-05-14  2016-06-11      87531        10    15084       NaN\n",
       "22      2016-06-11  2016-06-21      87531        10    15087   50000.0\n",
       "23      2016-06-11  2016-06-21      87531        10    15090    1500.0\n",
       "24      2016-06-11  2016-06-21      87531        10    15092   45000.0\n",
       "25      2016-06-11  2016-06-21      87531        10    15094   52500.0\n",
       "26      2016-06-11  2016-06-21      87531        10    15095   35100.0\n",
       "27      2016-06-11  2016-06-21      87531        10    15098   25000.0\n",
       "28      2016-06-11  2016-06-21      87531        10    15080   23500.0\n",
       "29      2016-06-11  2016-06-21      87531        10    15102   82500.0"
      ]
     },
     "execution_count": 846,
     "metadata": {},
     "output_type": "execute_result"
    }
   ],
   "source": [
    "payment.head(30)"
   ]
  },
  {
   "cell_type": "markdown",
   "metadata": {},
   "source": [
    "**Delay is the amount of days that a seller is waiting to get the payment from the buyer.**"
   ]
  },
  {
   "cell_type": "code",
   "execution_count": 847,
   "metadata": {},
   "outputs": [],
   "source": [
    "payment[\"Delay\"]=pd.to_datetime(payment.PaymentDate-payment.TransactionDate).dt.day"
   ]
  },
  {
   "cell_type": "markdown",
   "metadata": {},
   "source": [
    "**Below shows the number of transactions that a seller has gone through.**"
   ]
  },
  {
   "cell_type": "code",
   "execution_count": 848,
   "metadata": {},
   "outputs": [],
   "source": [
    "seller_count=payment.groupby(\"SellerId\").count()"
   ]
  },
  {
   "cell_type": "code",
   "execution_count": 849,
   "metadata": {},
   "outputs": [
    {
     "data": {
      "text/html": [
       "<div>\n",
       "<style scoped>\n",
       "    .dataframe tbody tr th:only-of-type {\n",
       "        vertical-align: middle;\n",
       "    }\n",
       "\n",
       "    .dataframe tbody tr th {\n",
       "        vertical-align: top;\n",
       "    }\n",
       "\n",
       "    .dataframe thead th {\n",
       "        text-align: right;\n",
       "    }\n",
       "</style>\n",
       "<table border=\"1\" class=\"dataframe\">\n",
       "  <thead>\n",
       "    <tr style=\"text-align: right;\">\n",
       "      <th></th>\n",
       "      <th>TransactionDate</th>\n",
       "      <th>PaymentDate</th>\n",
       "      <th>PaymentId</th>\n",
       "      <th>BuyerId</th>\n",
       "      <th>Amount</th>\n",
       "      <th>Delay</th>\n",
       "    </tr>\n",
       "    <tr>\n",
       "      <th>SellerId</th>\n",
       "      <th></th>\n",
       "      <th></th>\n",
       "      <th></th>\n",
       "      <th></th>\n",
       "      <th></th>\n",
       "      <th></th>\n",
       "    </tr>\n",
       "  </thead>\n",
       "  <tbody>\n",
       "    <tr>\n",
       "      <th>1</th>\n",
       "      <td>3</td>\n",
       "      <td>3</td>\n",
       "      <td>3</td>\n",
       "      <td>3</td>\n",
       "      <td>2</td>\n",
       "      <td>3</td>\n",
       "    </tr>\n",
       "    <tr>\n",
       "      <th>2</th>\n",
       "      <td>597</td>\n",
       "      <td>597</td>\n",
       "      <td>597</td>\n",
       "      <td>597</td>\n",
       "      <td>560</td>\n",
       "      <td>597</td>\n",
       "    </tr>\n",
       "    <tr>\n",
       "      <th>3</th>\n",
       "      <td>96</td>\n",
       "      <td>96</td>\n",
       "      <td>96</td>\n",
       "      <td>96</td>\n",
       "      <td>88</td>\n",
       "      <td>96</td>\n",
       "    </tr>\n",
       "    <tr>\n",
       "      <th>5</th>\n",
       "      <td>1560</td>\n",
       "      <td>1560</td>\n",
       "      <td>1560</td>\n",
       "      <td>1560</td>\n",
       "      <td>1370</td>\n",
       "      <td>1560</td>\n",
       "    </tr>\n",
       "    <tr>\n",
       "      <th>6</th>\n",
       "      <td>32</td>\n",
       "      <td>32</td>\n",
       "      <td>32</td>\n",
       "      <td>32</td>\n",
       "      <td>24</td>\n",
       "      <td>32</td>\n",
       "    </tr>\n",
       "    <tr>\n",
       "      <th>8</th>\n",
       "      <td>1414</td>\n",
       "      <td>1541</td>\n",
       "      <td>1541</td>\n",
       "      <td>1541</td>\n",
       "      <td>1159</td>\n",
       "      <td>1414</td>\n",
       "    </tr>\n",
       "    <tr>\n",
       "      <th>9</th>\n",
       "      <td>2742</td>\n",
       "      <td>2742</td>\n",
       "      <td>2742</td>\n",
       "      <td>2742</td>\n",
       "      <td>2621</td>\n",
       "      <td>2742</td>\n",
       "    </tr>\n",
       "    <tr>\n",
       "      <th>10</th>\n",
       "      <td>18020</td>\n",
       "      <td>18020</td>\n",
       "      <td>18020</td>\n",
       "      <td>18020</td>\n",
       "      <td>17586</td>\n",
       "      <td>18020</td>\n",
       "    </tr>\n",
       "    <tr>\n",
       "      <th>11</th>\n",
       "      <td>3944</td>\n",
       "      <td>3944</td>\n",
       "      <td>3944</td>\n",
       "      <td>3944</td>\n",
       "      <td>3367</td>\n",
       "      <td>3944</td>\n",
       "    </tr>\n",
       "    <tr>\n",
       "      <th>12</th>\n",
       "      <td>6853</td>\n",
       "      <td>6853</td>\n",
       "      <td>6853</td>\n",
       "      <td>6853</td>\n",
       "      <td>6706</td>\n",
       "      <td>6853</td>\n",
       "    </tr>\n",
       "    <tr>\n",
       "      <th>13</th>\n",
       "      <td>645</td>\n",
       "      <td>645</td>\n",
       "      <td>645</td>\n",
       "      <td>645</td>\n",
       "      <td>617</td>\n",
       "      <td>645</td>\n",
       "    </tr>\n",
       "    <tr>\n",
       "      <th>14</th>\n",
       "      <td>2463</td>\n",
       "      <td>2463</td>\n",
       "      <td>2463</td>\n",
       "      <td>2463</td>\n",
       "      <td>2331</td>\n",
       "      <td>2463</td>\n",
       "    </tr>\n",
       "    <tr>\n",
       "      <th>15</th>\n",
       "      <td>4008</td>\n",
       "      <td>4008</td>\n",
       "      <td>4008</td>\n",
       "      <td>4008</td>\n",
       "      <td>3913</td>\n",
       "      <td>4008</td>\n",
       "    </tr>\n",
       "    <tr>\n",
       "      <th>16</th>\n",
       "      <td>948</td>\n",
       "      <td>948</td>\n",
       "      <td>948</td>\n",
       "      <td>948</td>\n",
       "      <td>787</td>\n",
       "      <td>948</td>\n",
       "    </tr>\n",
       "    <tr>\n",
       "      <th>17</th>\n",
       "      <td>539</td>\n",
       "      <td>539</td>\n",
       "      <td>539</td>\n",
       "      <td>539</td>\n",
       "      <td>479</td>\n",
       "      <td>539</td>\n",
       "    </tr>\n",
       "    <tr>\n",
       "      <th>18</th>\n",
       "      <td>1641</td>\n",
       "      <td>1641</td>\n",
       "      <td>1641</td>\n",
       "      <td>1641</td>\n",
       "      <td>1520</td>\n",
       "      <td>1641</td>\n",
       "    </tr>\n",
       "    <tr>\n",
       "      <th>19</th>\n",
       "      <td>2</td>\n",
       "      <td>2</td>\n",
       "      <td>2</td>\n",
       "      <td>2</td>\n",
       "      <td>0</td>\n",
       "      <td>2</td>\n",
       "    </tr>\n",
       "    <tr>\n",
       "      <th>20</th>\n",
       "      <td>2271</td>\n",
       "      <td>2271</td>\n",
       "      <td>2271</td>\n",
       "      <td>2271</td>\n",
       "      <td>2145</td>\n",
       "      <td>2271</td>\n",
       "    </tr>\n",
       "  </tbody>\n",
       "</table>\n",
       "</div>"
      ],
      "text/plain": [
       "          TransactionDate  PaymentDate  PaymentId  BuyerId  Amount  Delay\n",
       "SellerId                                                                 \n",
       "1                       3            3          3        3       2      3\n",
       "2                     597          597        597      597     560    597\n",
       "3                      96           96         96       96      88     96\n",
       "5                    1560         1560       1560     1560    1370   1560\n",
       "6                      32           32         32       32      24     32\n",
       "8                    1414         1541       1541     1541    1159   1414\n",
       "9                    2742         2742       2742     2742    2621   2742\n",
       "10                  18020        18020      18020    18020   17586  18020\n",
       "11                   3944         3944       3944     3944    3367   3944\n",
       "12                   6853         6853       6853     6853    6706   6853\n",
       "13                    645          645        645      645     617    645\n",
       "14                   2463         2463       2463     2463    2331   2463\n",
       "15                   4008         4008       4008     4008    3913   4008\n",
       "16                    948          948        948      948     787    948\n",
       "17                    539          539        539      539     479    539\n",
       "18                   1641         1641       1641     1641    1520   1641\n",
       "19                      2            2          2        2       0      2\n",
       "20                   2271         2271       2271     2271    2145   2271"
      ]
     },
     "execution_count": 849,
     "metadata": {},
     "output_type": "execute_result"
    }
   ],
   "source": [
    "seller_count"
   ]
  },
  {
   "cell_type": "markdown",
   "metadata": {},
   "source": [
    "**FORECAST FOR SELLER_10 WITHOUT INTERPOLATION**"
   ]
  },
  {
   "cell_type": "markdown",
   "metadata": {},
   "source": [
    "**Following is the time series preparation for seller 10 by extracting transaction date and payment amount.**"
   ]
  },
  {
   "cell_type": "code",
   "execution_count": 850,
   "metadata": {},
   "outputs": [],
   "source": [
    "sel=payment[payment.SellerId==10][[\"TransactionDate\",\"Amount\"]]\n",
    "sel=sel.set_index(\"TransactionDate\")\n",
    "sel = sel.groupby(pd.Grouper(freq=\"M\")).sum()\n",
    "sel[\"Amount\"]=sel.Amount.apply(lambda x:int(x))\n",
    "ts=sel[\"Amount\"]"
   ]
  },
  {
   "cell_type": "markdown",
   "metadata": {},
   "source": [
    "**This is the sample 10 datapoints for seller 10**"
   ]
  },
  {
   "cell_type": "code",
   "execution_count": 851,
   "metadata": {},
   "outputs": [
    {
     "data": {
      "text/plain": [
       "TransactionDate\n",
       "2015-11-30        9000\n",
       "2015-12-31        9000\n",
       "2016-01-31           0\n",
       "2016-02-29           0\n",
       "2016-03-31      608865\n",
       "2016-04-30     1152470\n",
       "2016-05-31     3139485\n",
       "2016-06-30    34058424\n",
       "2016-07-31    33298404\n",
       "2016-08-31    33498660\n",
       "Freq: M, Name: Amount, dtype: int64"
      ]
     },
     "execution_count": 851,
     "metadata": {},
     "output_type": "execute_result"
    }
   ],
   "source": [
    "ts.head(10)"
   ]
  },
  {
   "cell_type": "code",
   "execution_count": 852,
   "metadata": {},
   "outputs": [],
   "source": [
    "from statsmodels.tsa.stattools import adfuller\n",
    "def dft(ts):\n",
    "    print ('Results of Dickey-Fuller Test:')\n",
    "    dftest = adfuller(ts, autolag='AIC')\n",
    "    dfoutput = pd.Series(dftest[0:4], index=['Test_stats','p-value','#Lags Used','Number of Observations Used'])\n",
    "    for key,value in dftest[4].items():\n",
    "        dfoutput['Critical Value (%s)'%key] = value\n",
    "    print (dfoutput)"
   ]
  },
  {
   "cell_type": "markdown",
   "metadata": {},
   "source": [
    "**Testing the stationariy for the series by using Dickey Fuller test.**"
   ]
  },
  {
   "cell_type": "code",
   "execution_count": 853,
   "metadata": {},
   "outputs": [
    {
     "name": "stdout",
     "output_type": "stream",
     "text": [
      "Results of Dickey-Fuller Test:\n",
      "Test_stats                     -3.691394\n",
      "p-value                         0.004236\n",
      "#Lags Used                      5.000000\n",
      "Number of Observations Used    39.000000\n",
      "Critical Value (1%)            -3.610400\n",
      "Critical Value (5%)            -2.939109\n",
      "Critical Value (10%)           -2.608063\n",
      "dtype: float64\n"
     ]
    }
   ],
   "source": [
    "dft(ts)"
   ]
  },
  {
   "cell_type": "markdown",
   "metadata": {},
   "source": [
    "**Clearly the Test_stats is already lesser than the minimum critical values. So with 99% confidence it can be inferred that the series is stationary.**"
   ]
  },
  {
   "cell_type": "markdown",
   "metadata": {},
   "source": [
    "**Below is the preparation of input parameters for the ARIMA model to be applied on the series.**"
   ]
  },
  {
   "cell_type": "code",
   "execution_count": 854,
   "metadata": {},
   "outputs": [],
   "source": [
    "from statsmodels.tsa.stattools import acf, pacf\n",
    "# Requisite libraries for computing auto correlation function and partial auto correlation function. "
   ]
  },
  {
   "cell_type": "code",
   "execution_count": 855,
   "metadata": {},
   "outputs": [],
   "source": [
    "lag_acf = acf(ts, nlags=5)\n",
    "lag_pacf = pacf(ts, nlags=5, method='ols')\n",
    "#ols stands for ordinary least squared."
   ]
  },
  {
   "cell_type": "code",
   "execution_count": 856,
   "metadata": {},
   "outputs": [
    {
     "data": {
      "text/plain": [
       "Text(0.5, 1.0, 'Autocorrelation Function')"
      ]
     },
     "execution_count": 856,
     "metadata": {},
     "output_type": "execute_result"
    },
    {
     "data": {
      "image/png": "[encoded data removed]",
      "text/plain": [
       "<Figure size 432x288 with 1 Axes>"
      ]
     },
     "metadata": {},
     "output_type": "display_data"
    }
   ],
   "source": [
    "#This is the plotting of acf.\n",
    "plt.subplot(121) \n",
    "plt.plot(lag_acf)\n",
    "plt.axhline(y=0,linestyle='--',color='gray')\n",
    "plt.axhline(y=-1.96/np.sqrt(len(ts)),linestyle='--',color='gray')\n",
    "plt.axhline(y=1.96/np.sqrt(len(ts)),linestyle='--',color='gray')\n",
    "plt.title('Autocorrelation Function')\n",
    "            "
   ]
  },
  {
   "cell_type": "markdown",
   "metadata": {},
   "source": [
    "**From above plot it can be seen that plot is interesecting the upper confidence intervel at lag=4. so value of q is 4.**"
   ]
  },
  {
   "cell_type": "code",
   "execution_count": 857,
   "metadata": {},
   "outputs": [
    {
     "data": {
      "image/png": "[encoded data removed]",
      "text/plain": [
       "<Figure size 432x288 with 1 Axes>"
      ]
     },
     "metadata": {},
     "output_type": "display_data"
    }
   ],
   "source": [
    "#Plot PACF:\n",
    "plt.subplot(122)\n",
    "plt.plot(lag_pacf)\n",
    "plt.axhline(y=0,linestyle='--',color='gray')\n",
    "plt.axhline(y=-1.96/np.sqrt(len(ts)),linestyle='--',color='gray')\n",
    "plt.axhline(y=1.96/np.sqrt(len(ts)),linestyle='--',color='gray')\n",
    "plt.title('Partial Autocorrelation Function')\n",
    "plt.tight_layout()"
   ]
  },
  {
   "cell_type": "markdown",
   "metadata": {},
   "source": [
    "**From above plot it can be seen that plot is interesecting the upper confidence intervel at lag=2. so value of p is 2.**"
   ]
  },
  {
   "cell_type": "code",
   "execution_count": 858,
   "metadata": {},
   "outputs": [],
   "source": [
    "from statsmodels.tsa.arima_model import ARIMA\n",
    "model = ARIMA(ts, order=(2, 0, 4))\n",
    "#Though no differencing is applied in the series so d=0\n",
    "model_fit = model.fit(disp=False)"
   ]
  },
  {
   "cell_type": "markdown",
   "metadata": {},
   "source": [
    "**Following is the forecasted value of payment amount for coming 6 months for seller 10.**"
   ]
  },
  {
   "cell_type": "code",
   "execution_count": 859,
   "metadata": {},
   "outputs": [],
   "source": [
    "pred_final= model_fit.predict(start=\"2019-07-31\",end=\"2019-12-31\")"
   ]
  },
  {
   "cell_type": "code",
   "execution_count": null,
   "metadata": {},
   "outputs": [],
   "source": []
  },
  {
   "cell_type": "markdown",
   "metadata": {},
   "source": [
    "**Below plot shows the actual values of payment amount and forecasted values for coming 6 months.**"
   ]
  },
  {
   "cell_type": "code",
   "execution_count": 860,
   "metadata": {},
   "outputs": [
    {
     "data": {
      "image/png": "[encoded data removed]",
      "text/plain": [
       "<Figure size 864x288 with 1 Axes>"
      ]
     },
     "metadata": {},
     "output_type": "display_data"
    }
   ],
   "source": [
    "plt.figure(figsize=(12,4))\n",
    "plt.plot(ts, color=\"blue\", linewidth=2)\n",
    "plt.plot(prediction_final,color=\"red\", linewidth=2)\n",
    "plt.gca().get_yaxis().get_major_formatter().set_scientific(False)\n",
    "plt.grid(True, color=\"green\")"
   ]
  },
  {
   "cell_type": "code",
   "execution_count": null,
   "metadata": {},
   "outputs": [],
   "source": []
  },
  {
   "cell_type": "markdown",
   "metadata": {},
   "source": [
    "**FORECAST WITH INTERPOLATION**"
   ]
  },
  {
   "cell_type": "code",
   "execution_count": 861,
   "metadata": {},
   "outputs": [],
   "source": [
    "payment=pd.read_csv(\"seller_buyer_paymentdetails.csv\")\n",
    "payment[\"TransactionDate\"]=pd.to_datetime(pd.to_datetime(payment[\"TransactionDate\"]).dt.date)\n",
    "payment[\"PaymentDate\"]=pd.to_datetime(pd.to_datetime(payment[\"PaymentDate\"]).dt.date)"
   ]
  },
  {
   "cell_type": "markdown",
   "metadata": {},
   "source": [
    "**INTERPOLATION STEPS**"
   ]
  },
  {
   "cell_type": "code",
   "execution_count": 862,
   "metadata": {},
   "outputs": [],
   "source": [
    "payment=payment.interpolate()"
   ]
  },
  {
   "cell_type": "code",
   "execution_count": 863,
   "metadata": {},
   "outputs": [
    {
     "data": {
      "text/html": [
       "<div>\n",
       "<style scoped>\n",
       "    .dataframe tbody tr th:only-of-type {\n",
       "        vertical-align: middle;\n",
       "    }\n",
       "\n",
       "    .dataframe tbody tr th {\n",
       "        vertical-align: top;\n",
       "    }\n",
       "\n",
       "    .dataframe thead th {\n",
       "        text-align: right;\n",
       "    }\n",
       "</style>\n",
       "<table border=\"1\" class=\"dataframe\">\n",
       "  <thead>\n",
       "    <tr style=\"text-align: right;\">\n",
       "      <th></th>\n",
       "      <th>TransactionDate</th>\n",
       "      <th>PaymentDate</th>\n",
       "      <th>PaymentId</th>\n",
       "      <th>SellerId</th>\n",
       "      <th>BuyerId</th>\n",
       "      <th>Amount</th>\n",
       "    </tr>\n",
       "  </thead>\n",
       "  <tbody>\n",
       "    <tr>\n",
       "      <th>0</th>\n",
       "      <td>2017-06-30</td>\n",
       "      <td>2017-07-19</td>\n",
       "      <td>87531</td>\n",
       "      <td>13</td>\n",
       "      <td>16140</td>\n",
       "      <td>74970.000000</td>\n",
       "    </tr>\n",
       "    <tr>\n",
       "      <th>1</th>\n",
       "      <td>2017-06-30</td>\n",
       "      <td>2017-07-19</td>\n",
       "      <td>87531</td>\n",
       "      <td>13</td>\n",
       "      <td>16140</td>\n",
       "      <td>109841.000000</td>\n",
       "    </tr>\n",
       "    <tr>\n",
       "      <th>2</th>\n",
       "      <td>2017-06-30</td>\n",
       "      <td>2017-07-19</td>\n",
       "      <td>87531</td>\n",
       "      <td>13</td>\n",
       "      <td>16140</td>\n",
       "      <td>51128.000000</td>\n",
       "    </tr>\n",
       "    <tr>\n",
       "      <th>3</th>\n",
       "      <td>2017-06-30</td>\n",
       "      <td>2017-07-19</td>\n",
       "      <td>87531</td>\n",
       "      <td>13</td>\n",
       "      <td>16140</td>\n",
       "      <td>74630.000000</td>\n",
       "    </tr>\n",
       "    <tr>\n",
       "      <th>4</th>\n",
       "      <td>2017-06-30</td>\n",
       "      <td>2017-07-19</td>\n",
       "      <td>87531</td>\n",
       "      <td>13</td>\n",
       "      <td>16140</td>\n",
       "      <td>299030.000000</td>\n",
       "    </tr>\n",
       "    <tr>\n",
       "      <th>5</th>\n",
       "      <td>2017-06-30</td>\n",
       "      <td>2017-07-24</td>\n",
       "      <td>87531</td>\n",
       "      <td>13</td>\n",
       "      <td>16140</td>\n",
       "      <td>492469.000000</td>\n",
       "    </tr>\n",
       "    <tr>\n",
       "      <th>6</th>\n",
       "      <td>2017-06-16</td>\n",
       "      <td>2017-07-25</td>\n",
       "      <td>87531</td>\n",
       "      <td>13</td>\n",
       "      <td>16147</td>\n",
       "      <td>276100.000000</td>\n",
       "    </tr>\n",
       "    <tr>\n",
       "      <th>7</th>\n",
       "      <td>2017-07-28</td>\n",
       "      <td>2017-07-31</td>\n",
       "      <td>87531</td>\n",
       "      <td>13</td>\n",
       "      <td>16136</td>\n",
       "      <td>95175.000000</td>\n",
       "    </tr>\n",
       "    <tr>\n",
       "      <th>8</th>\n",
       "      <td>2017-07-28</td>\n",
       "      <td>2017-08-02</td>\n",
       "      <td>87531</td>\n",
       "      <td>13</td>\n",
       "      <td>16146</td>\n",
       "      <td>128400.000000</td>\n",
       "    </tr>\n",
       "    <tr>\n",
       "      <th>9</th>\n",
       "      <td>2016-04-30</td>\n",
       "      <td>2017-08-02</td>\n",
       "      <td>87531</td>\n",
       "      <td>10</td>\n",
       "      <td>15066</td>\n",
       "      <td>112833.333333</td>\n",
       "    </tr>\n",
       "    <tr>\n",
       "      <th>10</th>\n",
       "      <td>2016-05-28</td>\n",
       "      <td>2017-08-02</td>\n",
       "      <td>87531</td>\n",
       "      <td>10</td>\n",
       "      <td>15066</td>\n",
       "      <td>97266.666667</td>\n",
       "    </tr>\n",
       "    <tr>\n",
       "      <th>11</th>\n",
       "      <td>2016-05-28</td>\n",
       "      <td>2017-08-02</td>\n",
       "      <td>87531</td>\n",
       "      <td>10</td>\n",
       "      <td>15069</td>\n",
       "      <td>81700.000000</td>\n",
       "    </tr>\n",
       "    <tr>\n",
       "      <th>12</th>\n",
       "      <td>2016-05-28</td>\n",
       "      <td>2017-08-02</td>\n",
       "      <td>87531</td>\n",
       "      <td>10</td>\n",
       "      <td>15070</td>\n",
       "      <td>66133.333333</td>\n",
       "    </tr>\n",
       "    <tr>\n",
       "      <th>13</th>\n",
       "      <td>2016-05-28</td>\n",
       "      <td>2017-08-02</td>\n",
       "      <td>87531</td>\n",
       "      <td>10</td>\n",
       "      <td>15072</td>\n",
       "      <td>50566.666667</td>\n",
       "    </tr>\n",
       "    <tr>\n",
       "      <th>14</th>\n",
       "      <td>2016-04-30</td>\n",
       "      <td>2016-06-15</td>\n",
       "      <td>87531</td>\n",
       "      <td>10</td>\n",
       "      <td>15075</td>\n",
       "      <td>35000.000000</td>\n",
       "    </tr>\n",
       "    <tr>\n",
       "      <th>15</th>\n",
       "      <td>2016-06-11</td>\n",
       "      <td>2016-06-07</td>\n",
       "      <td>87531</td>\n",
       "      <td>10</td>\n",
       "      <td>15076</td>\n",
       "      <td>50000.000000</td>\n",
       "    </tr>\n",
       "    <tr>\n",
       "      <th>16</th>\n",
       "      <td>2016-06-15</td>\n",
       "      <td>2016-06-16</td>\n",
       "      <td>87531</td>\n",
       "      <td>10</td>\n",
       "      <td>15078</td>\n",
       "      <td>31200.000000</td>\n",
       "    </tr>\n",
       "    <tr>\n",
       "      <th>17</th>\n",
       "      <td>2016-05-28</td>\n",
       "      <td>2016-06-11</td>\n",
       "      <td>87531</td>\n",
       "      <td>10</td>\n",
       "      <td>15079</td>\n",
       "      <td>9750.000000</td>\n",
       "    </tr>\n",
       "    <tr>\n",
       "      <th>18</th>\n",
       "      <td>2016-05-28</td>\n",
       "      <td>2016-06-11</td>\n",
       "      <td>87531</td>\n",
       "      <td>10</td>\n",
       "      <td>15081</td>\n",
       "      <td>17800.000000</td>\n",
       "    </tr>\n",
       "    <tr>\n",
       "      <th>19</th>\n",
       "      <td>2016-05-28</td>\n",
       "      <td>2016-06-11</td>\n",
       "      <td>87531</td>\n",
       "      <td>10</td>\n",
       "      <td>15082</td>\n",
       "      <td>25850.000000</td>\n",
       "    </tr>\n",
       "    <tr>\n",
       "      <th>20</th>\n",
       "      <td>2016-05-28</td>\n",
       "      <td>2016-06-11</td>\n",
       "      <td>87531</td>\n",
       "      <td>10</td>\n",
       "      <td>15083</td>\n",
       "      <td>33900.000000</td>\n",
       "    </tr>\n",
       "    <tr>\n",
       "      <th>21</th>\n",
       "      <td>2016-05-14</td>\n",
       "      <td>2016-06-11</td>\n",
       "      <td>87531</td>\n",
       "      <td>10</td>\n",
       "      <td>15084</td>\n",
       "      <td>41950.000000</td>\n",
       "    </tr>\n",
       "    <tr>\n",
       "      <th>22</th>\n",
       "      <td>2016-06-11</td>\n",
       "      <td>2016-06-21</td>\n",
       "      <td>87531</td>\n",
       "      <td>10</td>\n",
       "      <td>15087</td>\n",
       "      <td>50000.000000</td>\n",
       "    </tr>\n",
       "    <tr>\n",
       "      <th>23</th>\n",
       "      <td>2016-06-11</td>\n",
       "      <td>2016-06-21</td>\n",
       "      <td>87531</td>\n",
       "      <td>10</td>\n",
       "      <td>15090</td>\n",
       "      <td>1500.000000</td>\n",
       "    </tr>\n",
       "    <tr>\n",
       "      <th>24</th>\n",
       "      <td>2016-06-11</td>\n",
       "      <td>2016-06-21</td>\n",
       "      <td>87531</td>\n",
       "      <td>10</td>\n",
       "      <td>15092</td>\n",
       "      <td>45000.000000</td>\n",
       "    </tr>\n",
       "    <tr>\n",
       "      <th>25</th>\n",
       "      <td>2016-06-11</td>\n",
       "      <td>2016-06-21</td>\n",
       "      <td>87531</td>\n",
       "      <td>10</td>\n",
       "      <td>15094</td>\n",
       "      <td>52500.000000</td>\n",
       "    </tr>\n",
       "    <tr>\n",
       "      <th>26</th>\n",
       "      <td>2016-06-11</td>\n",
       "      <td>2016-06-21</td>\n",
       "      <td>87531</td>\n",
       "      <td>10</td>\n",
       "      <td>15095</td>\n",
       "      <td>35100.000000</td>\n",
       "    </tr>\n",
       "    <tr>\n",
       "      <th>27</th>\n",
       "      <td>2016-06-11</td>\n",
       "      <td>2016-06-21</td>\n",
       "      <td>87531</td>\n",
       "      <td>10</td>\n",
       "      <td>15098</td>\n",
       "      <td>25000.000000</td>\n",
       "    </tr>\n",
       "    <tr>\n",
       "      <th>28</th>\n",
       "      <td>2016-06-11</td>\n",
       "      <td>2016-06-21</td>\n",
       "      <td>87531</td>\n",
       "      <td>10</td>\n",
       "      <td>15080</td>\n",
       "      <td>23500.000000</td>\n",
       "    </tr>\n",
       "    <tr>\n",
       "      <th>29</th>\n",
       "      <td>2016-06-11</td>\n",
       "      <td>2016-06-21</td>\n",
       "      <td>87531</td>\n",
       "      <td>10</td>\n",
       "      <td>15102</td>\n",
       "      <td>82500.000000</td>\n",
       "    </tr>\n",
       "  </tbody>\n",
       "</table>\n",
       "</div>"
      ],
      "text/plain": [
       "   TransactionDate PaymentDate  PaymentId  SellerId  BuyerId         Amount\n",
       "0       2017-06-30  2017-07-19      87531        13    16140   74970.000000\n",
       "1       2017-06-30  2017-07-19      87531        13    16140  109841.000000\n",
       "2       2017-06-30  2017-07-19      87531        13    16140   51128.000000\n",
       "3       2017-06-30  2017-07-19      87531        13    16140   74630.000000\n",
       "4       2017-06-30  2017-07-19      87531        13    16140  299030.000000\n",
       "5       2017-06-30  2017-07-24      87531        13    16140  492469.000000\n",
       "6       2017-06-16  2017-07-25      87531        13    16147  276100.000000\n",
       "7       2017-07-28  2017-07-31      87531        13    16136   95175.000000\n",
       "8       2017-07-28  2017-08-02      87531        13    16146  128400.000000\n",
       "9       2016-04-30  2017-08-02      87531        10    15066  112833.333333\n",
       "10      2016-05-28  2017-08-02      87531        10    15066   97266.666667\n",
       "11      2016-05-28  2017-08-02      87531        10    15069   81700.000000\n",
       "12      2016-05-28  2017-08-02      87531        10    15070   66133.333333\n",
       "13      2016-05-28  2017-08-02      87531        10    15072   50566.666667\n",
       "14      2016-04-30  2016-06-15      87531        10    15075   35000.000000\n",
       "15      2016-06-11  2016-06-07      87531        10    15076   50000.000000\n",
       "16      2016-06-15  2016-06-16      87531        10    15078   31200.000000\n",
       "17      2016-05-28  2016-06-11      87531        10    15079    9750.000000\n",
       "18      2016-05-28  2016-06-11      87531        10    15081   17800.000000\n",
       "19      2016-05-28  2016-06-11      87531        10    15082   25850.000000\n",
       "20      2016-05-28  2016-06-11      87531        10    15083   33900.000000\n",
       "21      2016-05-14  2016-06-11      87531        10    15084   41950.000000\n",
       "22      2016-06-11  2016-06-21      87531        10    15087   50000.000000\n",
       "23      2016-06-11  2016-06-21      87531        10    15090    1500.000000\n",
       "24      2016-06-11  2016-06-21      87531        10    15092   45000.000000\n",
       "25      2016-06-11  2016-06-21      87531        10    15094   52500.000000\n",
       "26      2016-06-11  2016-06-21      87531        10    15095   35100.000000\n",
       "27      2016-06-11  2016-06-21      87531        10    15098   25000.000000\n",
       "28      2016-06-11  2016-06-21      87531        10    15080   23500.000000\n",
       "29      2016-06-11  2016-06-21      87531        10    15102   82500.000000"
      ]
     },
     "execution_count": 863,
     "metadata": {},
     "output_type": "execute_result"
    }
   ],
   "source": [
    "payment.head(30)"
   ]
  },
  {
   "cell_type": "markdown",
   "metadata": {},
   "source": [
    "**After forecasting it can be observed that the missing values are filled.**"
   ]
  },
  {
   "cell_type": "markdown",
   "metadata": {},
   "source": [
    "**Below is the prepared time series for seller 10**"
   ]
  },
  {
   "cell_type": "code",
   "execution_count": 864,
   "metadata": {},
   "outputs": [],
   "source": [
    "sel=payment[payment.SellerId==10][[\"TransactionDate\",\"Amount\"]]\n",
    "sel=sel.set_index(\"TransactionDate\")\n",
    "sel = sel.groupby(pd.Grouper(freq=\"M\")).sum()\n",
    "sel[\"Amount\"]=sel.Amount.apply(lambda x:int(x))\n",
    "ts=sel[\"Amount\"]"
   ]
  },
  {
   "cell_type": "markdown",
   "metadata": {},
   "source": [
    "**This is the sample of time series.**"
   ]
  },
  {
   "cell_type": "code",
   "execution_count": 865,
   "metadata": {},
   "outputs": [
    {
     "data": {
      "text/plain": [
       "TransactionDate\n",
       "2015-11-30      9000\n",
       "2015-12-31    381987\n",
       "2016-01-31    371428\n",
       "2016-02-29    274642\n",
       "2016-03-31    608865\n",
       "Freq: M, Name: Amount, dtype: int64"
      ]
     },
     "execution_count": 865,
     "metadata": {},
     "output_type": "execute_result"
    }
   ],
   "source": [
    "ts.head()"
   ]
  },
  {
   "cell_type": "markdown",
   "metadata": {},
   "source": [
    "**STATIOARITY TEST**"
   ]
  },
  {
   "cell_type": "code",
   "execution_count": 866,
   "metadata": {},
   "outputs": [],
   "source": [
    "from statsmodels.tsa.stattools import adfuller\n",
    "def dft(ts):\n",
    "    print ('Results of Dickey-Fuller Test:')\n",
    "    dftest = adfuller(ts, autolag='AIC')\n",
    "    dfoutput = pd.Series(dftest[0:4], index=['Test Statistic','p-value','#Lags Used','Number of Observations Used'])\n",
    "    for key,value in dftest[4].items():\n",
    "        dfoutput['Critical Value (%s)'%key] = value\n",
    "    print (dfoutput)"
   ]
  },
  {
   "cell_type": "code",
   "execution_count": 867,
   "metadata": {},
   "outputs": [
    {
     "name": "stdout",
     "output_type": "stream",
     "text": [
      "Results of Dickey-Fuller Test:\n",
      "Test Statistic                 -4.260846\n",
      "p-value                         0.000519\n",
      "#Lags Used                      5.000000\n",
      "Number of Observations Used    39.000000\n",
      "Critical Value (1%)            -3.610400\n",
      "Critical Value (5%)            -2.939109\n",
      "Critical Value (10%)           -2.608063\n",
      "dtype: float64\n"
     ]
    }
   ],
   "source": [
    "dft(ts)"
   ]
  },
  {
   "cell_type": "markdown",
   "metadata": {},
   "source": [
    "**The stats shows that series is stationary.**"
   ]
  },
  {
   "cell_type": "markdown",
   "metadata": {},
   "source": [
    "**These are steps to find input parameters for the model.**"
   ]
  },
  {
   "cell_type": "code",
   "execution_count": 868,
   "metadata": {},
   "outputs": [],
   "source": [
    "from statsmodels.tsa.stattools import acf, pacf\n",
    "# Requisite libraries for computing auto correlation function and partial auto correlation function. "
   ]
  },
  {
   "cell_type": "code",
   "execution_count": 869,
   "metadata": {},
   "outputs": [],
   "source": [
    "lag_acf = acf(ts, nlags=5)\n",
    "lag_pacf = pacf(ts, nlags=4, method='ols')\n",
    "#ols stands for ordinary least squared."
   ]
  },
  {
   "cell_type": "code",
   "execution_count": 870,
   "metadata": {},
   "outputs": [
    {
     "data": {
      "text/plain": [
       "Text(0.5, 1.0, 'Autocorrelation Function')"
      ]
     },
     "execution_count": 870,
     "metadata": {},
     "output_type": "execute_result"
    },
    {
     "data": {
      "image/png": "[encoded data removed]",
      "text/plain": [
       "<Figure size 432x288 with 1 Axes>"
      ]
     },
     "metadata": {},
     "output_type": "display_data"
    }
   ],
   "source": [
    "#This is the plotting of acf.\n",
    "plt.subplot(121) \n",
    "plt.plot(lag_acf)\n",
    "plt.axhline(y=0,linestyle='--',color='gray')\n",
    "plt.axhline(y=-1.96/np.sqrt(len(ts)),linestyle='--',color='gray')\n",
    "plt.axhline(y=1.96/np.sqrt(len(ts)),linestyle='--',color='gray')\n",
    "plt.title('Autocorrelation Function')"
   ]
  },
  {
   "cell_type": "markdown",
   "metadata": {},
   "source": [
    "**From above plot q=4**"
   ]
  },
  {
   "cell_type": "code",
   "execution_count": 871,
   "metadata": {},
   "outputs": [
    {
     "data": {
      "image/png": "[encoded data removed]",
      "text/plain": [
       "<Figure size 432x288 with 1 Axes>"
      ]
     },
     "metadata": {},
     "output_type": "display_data"
    }
   ],
   "source": [
    "#Plot PACF:\n",
    "plt.subplot(122)\n",
    "plt.plot(lag_pacf)\n",
    "plt.axhline(y=0,linestyle='--',color='gray')\n",
    "plt.axhline(y=-1.96/np.sqrt(len(ts)),linestyle='--',color='gray')\n",
    "plt.axhline(y=1.96/np.sqrt(len(ts)),linestyle='--',color='gray')\n",
    "plt.title('Partial Autocorrelation Function')\n",
    "plt.tight_layout()"
   ]
  },
  {
   "cell_type": "markdown",
   "metadata": {},
   "source": [
    "**From above plot p=2.**"
   ]
  },
  {
   "cell_type": "markdown",
   "metadata": {},
   "source": [
    "**Now applying the model**"
   ]
  },
  {
   "cell_type": "code",
   "execution_count": 872,
   "metadata": {},
   "outputs": [],
   "source": [
    "from statsmodels.tsa.arima_model import ARIMA\n",
    "model = ARIMA(ts, order=(2,0,4 ))\n",
    "model_fit = model.fit(disp=False)"
   ]
  },
  {
   "cell_type": "markdown",
   "metadata": {},
   "source": [
    "**Forecasted values of payment amount is calculated below.**"
   ]
  },
  {
   "cell_type": "code",
   "execution_count": 873,
   "metadata": {},
   "outputs": [],
   "source": [
    "predicted_final= model_fit.predict(start=\"2019-05-31\",end=\"2019-12-31\")"
   ]
  },
  {
   "cell_type": "code",
   "execution_count": null,
   "metadata": {},
   "outputs": [],
   "source": []
  },
  {
   "cell_type": "markdown",
   "metadata": {},
   "source": [
    "**Following is the forecasted plot for seller 10 for coming 6 months of transaction.**"
   ]
  },
  {
   "cell_type": "code",
   "execution_count": 874,
   "metadata": {},
   "outputs": [
    {
     "data": {
      "image/png": "[encoded data removed]",
      "text/plain": [
       "<Figure size 864x288 with 1 Axes>"
      ]
     },
     "metadata": {},
     "output_type": "display_data"
    }
   ],
   "source": [
    "plt.figure(figsize=(12,4))\n",
    "plt.plot(ts, color=\"blue\", linewidth=2)\n",
    "plt.plot(prediction_final,color=\"red\", linewidth=2)\n",
    "plt.gca().get_yaxis().get_major_formatter().set_scientific(False)\n",
    "plt.grid(True, color=\"green\")"
   ]
  },
  {
   "cell_type": "code",
   "execution_count": null,
   "metadata": {},
   "outputs": [],
   "source": []
  },
  {
   "cell_type": "markdown",
   "metadata": {},
   "source": [
    "**DELAY ANALYSIS**"
   ]
  },
  {
   "cell_type": "markdown",
   "metadata": {},
   "source": [
    "**Data preparation for delay**"
   ]
  },
  {
   "cell_type": "code",
   "execution_count": 875,
   "metadata": {},
   "outputs": [],
   "source": [
    "payment=pd.read_csv(\"seller_buyer_paymentdetails.csv\")\n",
    "payment[\"TransactionDate\"]=pd.to_datetime(pd.to_datetime(payment[\"TransactionDate\"]).dt.date)\n",
    "payment[\"PaymentDate\"]=pd.to_datetime(pd.to_datetime(payment[\"PaymentDate\"]).dt.date)"
   ]
  },
  {
   "cell_type": "markdown",
   "metadata": {},
   "source": [
    "**Delay is duration in days a seller is waiting for getting the payment after the transaction.**"
   ]
  },
  {
   "cell_type": "code",
   "execution_count": 876,
   "metadata": {},
   "outputs": [],
   "source": [
    "payment[\"Delay\"]=pd.to_datetime(payment.PaymentDate-payment.TransactionDate).dt.day"
   ]
  },
  {
   "cell_type": "markdown",
   "metadata": {},
   "source": [
    "**Now the data is consisting of delay information for each transaction.**"
   ]
  },
  {
   "cell_type": "code",
   "execution_count": 877,
   "metadata": {},
   "outputs": [
    {
     "data": {
      "text/html": [
       "<div>\n",
       "<style scoped>\n",
       "    .dataframe tbody tr th:only-of-type {\n",
       "        vertical-align: middle;\n",
       "    }\n",
       "\n",
       "    .dataframe tbody tr th {\n",
       "        vertical-align: top;\n",
       "    }\n",
       "\n",
       "    .dataframe thead th {\n",
       "        text-align: right;\n",
       "    }\n",
       "</style>\n",
       "<table border=\"1\" class=\"dataframe\">\n",
       "  <thead>\n",
       "    <tr style=\"text-align: right;\">\n",
       "      <th></th>\n",
       "      <th>TransactionDate</th>\n",
       "      <th>PaymentDate</th>\n",
       "      <th>PaymentId</th>\n",
       "      <th>SellerId</th>\n",
       "      <th>BuyerId</th>\n",
       "      <th>Amount</th>\n",
       "      <th>Delay</th>\n",
       "    </tr>\n",
       "  </thead>\n",
       "  <tbody>\n",
       "    <tr>\n",
       "      <th>0</th>\n",
       "      <td>2017-06-30</td>\n",
       "      <td>2017-07-19</td>\n",
       "      <td>87531</td>\n",
       "      <td>13</td>\n",
       "      <td>16140</td>\n",
       "      <td>74970.0</td>\n",
       "      <td>20.0</td>\n",
       "    </tr>\n",
       "    <tr>\n",
       "      <th>1</th>\n",
       "      <td>2017-06-30</td>\n",
       "      <td>2017-07-19</td>\n",
       "      <td>87531</td>\n",
       "      <td>13</td>\n",
       "      <td>16140</td>\n",
       "      <td>109841.0</td>\n",
       "      <td>20.0</td>\n",
       "    </tr>\n",
       "    <tr>\n",
       "      <th>2</th>\n",
       "      <td>2017-06-30</td>\n",
       "      <td>2017-07-19</td>\n",
       "      <td>87531</td>\n",
       "      <td>13</td>\n",
       "      <td>16140</td>\n",
       "      <td>51128.0</td>\n",
       "      <td>20.0</td>\n",
       "    </tr>\n",
       "    <tr>\n",
       "      <th>3</th>\n",
       "      <td>2017-06-30</td>\n",
       "      <td>2017-07-19</td>\n",
       "      <td>87531</td>\n",
       "      <td>13</td>\n",
       "      <td>16140</td>\n",
       "      <td>74630.0</td>\n",
       "      <td>20.0</td>\n",
       "    </tr>\n",
       "    <tr>\n",
       "      <th>4</th>\n",
       "      <td>2017-06-30</td>\n",
       "      <td>2017-07-19</td>\n",
       "      <td>87531</td>\n",
       "      <td>13</td>\n",
       "      <td>16140</td>\n",
       "      <td>299030.0</td>\n",
       "      <td>20.0</td>\n",
       "    </tr>\n",
       "  </tbody>\n",
       "</table>\n",
       "</div>"
      ],
      "text/plain": [
       "  TransactionDate PaymentDate  PaymentId  SellerId  BuyerId    Amount  Delay\n",
       "0      2017-06-30  2017-07-19      87531        13    16140   74970.0   20.0\n",
       "1      2017-06-30  2017-07-19      87531        13    16140  109841.0   20.0\n",
       "2      2017-06-30  2017-07-19      87531        13    16140   51128.0   20.0\n",
       "3      2017-06-30  2017-07-19      87531        13    16140   74630.0   20.0\n",
       "4      2017-06-30  2017-07-19      87531        13    16140  299030.0   20.0"
      ]
     },
     "execution_count": 877,
     "metadata": {},
     "output_type": "execute_result"
    }
   ],
   "source": [
    "payment.head()"
   ]
  },
  {
   "cell_type": "code",
   "execution_count": 878,
   "metadata": {},
   "outputs": [],
   "source": [
    "average_delay_per_transaction=payment.Delay.mean()"
   ]
  },
  {
   "cell_type": "markdown",
   "metadata": {},
   "source": [
    "**This shows that for every transaction as on average the seller has to wait for more than 12 days.**"
   ]
  },
  {
   "cell_type": "code",
   "execution_count": 879,
   "metadata": {},
   "outputs": [
    {
     "data": {
      "text/plain": [
       "12.292268408053916"
      ]
     },
     "execution_count": 879,
     "metadata": {},
     "output_type": "execute_result"
    }
   ],
   "source": [
    "average_delay_per_transaction"
   ]
  },
  {
   "cell_type": "markdown",
   "metadata": {},
   "source": [
    "**Below is calculation of average delay for each seller.**"
   ]
  },
  {
   "cell_type": "code",
   "execution_count": 880,
   "metadata": {},
   "outputs": [],
   "source": [
    "average_delay_by_seller=payment.groupby(\"SellerId\")[\"Delay\"].mean()"
   ]
  },
  {
   "cell_type": "markdown",
   "metadata": {},
   "source": [
    "**Below graph shows the distribution of average delay for individual sellers.**"
   ]
  },
  {
   "cell_type": "code",
   "execution_count": 881,
   "metadata": {
    "scrolled": true
   },
   "outputs": [
    {
     "data": {
      "image/png": "[encoded data removed]",
      "text/plain": [
       "<Figure size 1080x288 with 1 Axes>"
      ]
     },
     "metadata": {},
     "output_type": "display_data"
    }
   ],
   "source": [
    "plt.figure(figsize=(15,4))\n",
    "plt.plot(average_delay_by_seller,color=\"red\")\n",
    "plt.xlabel(\"SellerId\")\n",
    "plt.ylabel(\"Total delay in days\")\n",
    "plt.title(\"Seller wise count of delay\", color=\"blue\")\n",
    "plt.grid(True, color=\"black\")\n",
    "plt.show()"
   ]
  },
  {
   "cell_type": "markdown",
   "metadata": {},
   "source": [
    "**Above plot shows that seller 15 has suffered the minimum average delays while sellers 1 and 19 have high average delay in getting their payments.**"
   ]
  }
 ],
 "metadata": {
  "kernelspec": {
   "display_name": "Python 3",
   "language": "python",
   "name": "python3"
  },
  "language_info": {
   "codemirror_mode": {
    "name": "ipython",
    "version": 3
   },
   "file_extension": ".py",
   "mimetype": "text/x-python",
   "name": "python",
   "nbconvert_exporter": "python",
   "pygments_lexer": "ipython3",
   "version": "3.7.3"
  }
 },
 "nbformat": 4,
 "nbformat_minor": 2
}
