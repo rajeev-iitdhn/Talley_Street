{
 "cells": [
  {
   "cell_type": "markdown",
   "metadata": {},
   "source": [
    "**IMPORTING THE LIBRARIES AND THE DATAFILE**"
   ]
  },
  {
   "cell_type": "code",
   "execution_count": 2,
   "metadata": {},
   "outputs": [],
   "source": [
    "#Importing the prerequisite libraries that are to be used further.\n",
    "import pandas as pd\n",
    "import warnings\n",
    "import itertools\n",
    "import numpy as np\n",
    "import matplotlib.pyplot as plt\n",
    "warnings.filterwarnings(\"ignore\")\n",
    "plt.style.use('fivethirtyeight')\n",
    "import statsmodels.api as sm\n",
    "import matplotlib.pyplot as plt"
   ]
  },
  {
   "cell_type": "code",
   "execution_count": 3,
   "metadata": {},
   "outputs": [],
   "source": [
    "dump=pd.read_csv(\"dump.csv\")"
   ]
  },
  {
   "cell_type": "markdown",
   "metadata": {},
   "source": [
    "*Going through the sample of data*"
   ]
  },
  {
   "cell_type": "code",
   "execution_count": 4,
   "metadata": {
    "scrolled": false
   },
   "outputs": [
    {
     "data": {
      "text/html": [
       "<div>\n",
       "<style scoped>\n",
       "    .dataframe tbody tr th:only-of-type {\n",
       "        vertical-align: middle;\n",
       "    }\n",
       "\n",
       "    .dataframe tbody tr th {\n",
       "        vertical-align: top;\n",
       "    }\n",
       "\n",
       "    .dataframe thead th {\n",
       "        text-align: right;\n",
       "    }\n",
       "</style>\n",
       "<table border=\"1\" class=\"dataframe\">\n",
       "  <thead>\n",
       "    <tr style=\"text-align: right;\">\n",
       "      <th></th>\n",
       "      <th>Unnamed: 0</th>\n",
       "      <th>Id</th>\n",
       "      <th>TransactionDate</th>\n",
       "      <th>DueDate</th>\n",
       "      <th>DateFullyPaid</th>\n",
       "      <th>SellerId</th>\n",
       "      <th>BuyerId</th>\n",
       "      <th>Amount</th>\n",
       "      <th>Balance</th>\n",
       "      <th>Deposit</th>\n",
       "      <th>...</th>\n",
       "      <th>SalesTerm</th>\n",
       "      <th>Estimate</th>\n",
       "      <th>sel_id</th>\n",
       "      <th>sel_orgtype</th>\n",
       "      <th>sel_Business_type</th>\n",
       "      <th>sel_fiscal_year_start_month</th>\n",
       "      <th>buy_id</th>\n",
       "      <th>buy_first_engaged</th>\n",
       "      <th>buy_most_recent_engaged</th>\n",
       "      <th>buy_prev_engaged</th>\n",
       "    </tr>\n",
       "  </thead>\n",
       "  <tbody>\n",
       "    <tr>\n",
       "      <th>0</th>\n",
       "      <td>0</td>\n",
       "      <td>90802</td>\n",
       "      <td>2017-06-30T00:00:00.000Z</td>\n",
       "      <td>2017-06-30T00:00:00.000Z</td>\n",
       "      <td>NaN</td>\n",
       "      <td>13</td>\n",
       "      <td>16140</td>\n",
       "      <td>74970.0</td>\n",
       "      <td>0.0</td>\n",
       "      <td>0.0</td>\n",
       "      <td>...</td>\n",
       "      <td>NaN</td>\n",
       "      <td>NaN</td>\n",
       "      <td>13</td>\n",
       "      <td>SCorporation</td>\n",
       "      <td>NaN</td>\n",
       "      <td>January</td>\n",
       "      <td>16140</td>\n",
       "      <td>2015-12-31T00:00:00.000Z</td>\n",
       "      <td>2017-11-30T00:00:00.000Z</td>\n",
       "      <td>2017-10-31T00:00:00.000Z</td>\n",
       "    </tr>\n",
       "    <tr>\n",
       "      <th>1</th>\n",
       "      <td>1</td>\n",
       "      <td>90803</td>\n",
       "      <td>2017-06-30T00:00:00.000Z</td>\n",
       "      <td>2017-06-30T00:00:00.000Z</td>\n",
       "      <td>NaN</td>\n",
       "      <td>13</td>\n",
       "      <td>16140</td>\n",
       "      <td>109841.0</td>\n",
       "      <td>0.0</td>\n",
       "      <td>0.0</td>\n",
       "      <td>...</td>\n",
       "      <td>NaN</td>\n",
       "      <td>NaN</td>\n",
       "      <td>13</td>\n",
       "      <td>SCorporation</td>\n",
       "      <td>NaN</td>\n",
       "      <td>January</td>\n",
       "      <td>16140</td>\n",
       "      <td>2015-12-31T00:00:00.000Z</td>\n",
       "      <td>2017-11-30T00:00:00.000Z</td>\n",
       "      <td>2017-10-31T00:00:00.000Z</td>\n",
       "    </tr>\n",
       "    <tr>\n",
       "      <th>2</th>\n",
       "      <td>2</td>\n",
       "      <td>90804</td>\n",
       "      <td>2017-06-30T00:00:00.000Z</td>\n",
       "      <td>2017-06-30T00:00:00.000Z</td>\n",
       "      <td>NaN</td>\n",
       "      <td>13</td>\n",
       "      <td>16140</td>\n",
       "      <td>51128.0</td>\n",
       "      <td>0.0</td>\n",
       "      <td>0.0</td>\n",
       "      <td>...</td>\n",
       "      <td>NaN</td>\n",
       "      <td>NaN</td>\n",
       "      <td>13</td>\n",
       "      <td>SCorporation</td>\n",
       "      <td>NaN</td>\n",
       "      <td>January</td>\n",
       "      <td>16140</td>\n",
       "      <td>2015-12-31T00:00:00.000Z</td>\n",
       "      <td>2017-11-30T00:00:00.000Z</td>\n",
       "      <td>2017-10-31T00:00:00.000Z</td>\n",
       "    </tr>\n",
       "  </tbody>\n",
       "</table>\n",
       "<p>3 rows × 21 columns</p>\n",
       "</div>"
      ],
      "text/plain": [
       "   Unnamed: 0     Id           TransactionDate                   DueDate  \\\n",
       "0           0  90802  2017-06-30T00:00:00.000Z  2017-06-30T00:00:00.000Z   \n",
       "1           1  90803  2017-06-30T00:00:00.000Z  2017-06-30T00:00:00.000Z   \n",
       "2           2  90804  2017-06-30T00:00:00.000Z  2017-06-30T00:00:00.000Z   \n",
       "\n",
       "  DateFullyPaid  SellerId  BuyerId    Amount  Balance  Deposit  ...  \\\n",
       "0           NaN        13    16140   74970.0      0.0      0.0  ...   \n",
       "1           NaN        13    16140  109841.0      0.0      0.0  ...   \n",
       "2           NaN        13    16140   51128.0      0.0      0.0  ...   \n",
       "\n",
       "   SalesTerm  Estimate sel_id   sel_orgtype sel_Business_type  \\\n",
       "0        NaN       NaN     13  SCorporation               NaN   \n",
       "1        NaN       NaN     13  SCorporation               NaN   \n",
       "2        NaN       NaN     13  SCorporation               NaN   \n",
       "\n",
       "  sel_fiscal_year_start_month buy_id         buy_first_engaged  \\\n",
       "0                     January  16140  2015-12-31T00:00:00.000Z   \n",
       "1                     January  16140  2015-12-31T00:00:00.000Z   \n",
       "2                     January  16140  2015-12-31T00:00:00.000Z   \n",
       "\n",
       "    buy_most_recent_engaged          buy_prev_engaged  \n",
       "0  2017-11-30T00:00:00.000Z  2017-10-31T00:00:00.000Z  \n",
       "1  2017-11-30T00:00:00.000Z  2017-10-31T00:00:00.000Z  \n",
       "2  2017-11-30T00:00:00.000Z  2017-10-31T00:00:00.000Z  \n",
       "\n",
       "[3 rows x 21 columns]"
      ]
     },
     "execution_count": 4,
     "metadata": {},
     "output_type": "execute_result"
    }
   ],
   "source": [
    "dump.head(3)"
   ]
  },
  {
   "cell_type": "markdown",
   "metadata": {},
   "source": [
    "*As per the requirement we need to extract three columns from this data, namely TransactionDate, SellerId and Amount. In this codefile we have only considered the SellerId 13.*"
   ]
  },
  {
   "cell_type": "markdown",
   "metadata": {},
   "source": [
    "**Following is the data set consisting of the TransactionDate and Amount of transaction only for seller 13.**"
   ]
  },
  {
   "cell_type": "code",
   "execution_count": 5,
   "metadata": {},
   "outputs": [],
   "source": [
    "sel=dump[dump.SellerId==13][[\"TransactionDate\",\"Amount\"]]"
   ]
  },
  {
   "cell_type": "markdown",
   "metadata": {},
   "source": [
    "**Now we need the standard format of time and need to remove the timezone from it. For this I split the string of time and extracted only the year, month and day data from the whole.**"
   ]
  },
  {
   "cell_type": "code",
   "execution_count": 6,
   "metadata": {},
   "outputs": [],
   "source": [
    "sel[\"TransactionDate\"]=sel.TransactionDate.apply(lambda x: x.split(\"T\")[0])"
   ]
  },
  {
   "cell_type": "markdown",
   "metadata": {},
   "source": [
    "**Following is the sample of data after formating the time which is still a string**"
   ]
  },
  {
   "cell_type": "code",
   "execution_count": 7,
   "metadata": {},
   "outputs": [
    {
     "data": {
      "text/html": [
       "<div>\n",
       "<style scoped>\n",
       "    .dataframe tbody tr th:only-of-type {\n",
       "        vertical-align: middle;\n",
       "    }\n",
       "\n",
       "    .dataframe tbody tr th {\n",
       "        vertical-align: top;\n",
       "    }\n",
       "\n",
       "    .dataframe thead th {\n",
       "        text-align: right;\n",
       "    }\n",
       "</style>\n",
       "<table border=\"1\" class=\"dataframe\">\n",
       "  <thead>\n",
       "    <tr style=\"text-align: right;\">\n",
       "      <th></th>\n",
       "      <th>TransactionDate</th>\n",
       "      <th>Amount</th>\n",
       "    </tr>\n",
       "  </thead>\n",
       "  <tbody>\n",
       "    <tr>\n",
       "      <th>0</th>\n",
       "      <td>2017-06-30</td>\n",
       "      <td>74970.0</td>\n",
       "    </tr>\n",
       "    <tr>\n",
       "      <th>1</th>\n",
       "      <td>2017-06-30</td>\n",
       "      <td>109841.0</td>\n",
       "    </tr>\n",
       "    <tr>\n",
       "      <th>2</th>\n",
       "      <td>2017-06-30</td>\n",
       "      <td>51128.0</td>\n",
       "    </tr>\n",
       "  </tbody>\n",
       "</table>\n",
       "</div>"
      ],
      "text/plain": [
       "  TransactionDate    Amount\n",
       "0      2017-06-30   74970.0\n",
       "1      2017-06-30  109841.0\n",
       "2      2017-06-30   51128.0"
      ]
     },
     "execution_count": 7,
     "metadata": {},
     "output_type": "execute_result"
    }
   ],
   "source": [
    "sel.head(3)"
   ]
  },
  {
   "cell_type": "markdown",
   "metadata": {},
   "source": [
    "**Now the dataset is converted into standard format that python operates in for further processes**."
   ]
  },
  {
   "cell_type": "code",
   "execution_count": 93,
   "metadata": {},
   "outputs": [],
   "source": [
    "sel[\"TransactionDate\"]=pd.to_datetime(sel.TransactionDate)"
   ]
  },
  {
   "cell_type": "markdown",
   "metadata": {},
   "source": [
    "**Now let us set the TransactionDate to be the index of the whole data. It is needed to make a time series. In a timeseries the index has to be a time data.**"
   ]
  },
  {
   "cell_type": "code",
   "execution_count": 94,
   "metadata": {},
   "outputs": [],
   "source": [
    "sel=sel.set_index(\"TransactionDate\")"
   ]
  },
  {
   "cell_type": "markdown",
   "metadata": {},
   "source": [
    "**Now as per the need we have to forecast the amount for next six months. This needs grouping of data by month. After that I aggregated to have a single amount per month.**"
   ]
  },
  {
   "cell_type": "code",
   "execution_count": 95,
   "metadata": {},
   "outputs": [],
   "source": [
    "sel = sel.groupby(pd.Grouper(freq=\"M\")).sum()"
   ]
  },
  {
   "cell_type": "markdown",
   "metadata": {},
   "source": [
    "**Here the data is well formated**"
   ]
  },
  {
   "cell_type": "code",
   "execution_count": 96,
   "metadata": {},
   "outputs": [
    {
     "data": {
      "text/html": [
       "<div>\n",
       "<style scoped>\n",
       "    .dataframe tbody tr th:only-of-type {\n",
       "        vertical-align: middle;\n",
       "    }\n",
       "\n",
       "    .dataframe tbody tr th {\n",
       "        vertical-align: top;\n",
       "    }\n",
       "\n",
       "    .dataframe thead th {\n",
       "        text-align: right;\n",
       "    }\n",
       "</style>\n",
       "<table border=\"1\" class=\"dataframe\">\n",
       "  <thead>\n",
       "    <tr style=\"text-align: right;\">\n",
       "      <th></th>\n",
       "      <th>Amount</th>\n",
       "    </tr>\n",
       "    <tr>\n",
       "      <th>TransactionDate</th>\n",
       "      <th></th>\n",
       "    </tr>\n",
       "  </thead>\n",
       "  <tbody>\n",
       "    <tr>\n",
       "      <th>2015-12-31</th>\n",
       "      <td>554937.0</td>\n",
       "    </tr>\n",
       "    <tr>\n",
       "      <th>2016-01-31</th>\n",
       "      <td>572900.0</td>\n",
       "    </tr>\n",
       "    <tr>\n",
       "      <th>2016-02-29</th>\n",
       "      <td>547166.0</td>\n",
       "    </tr>\n",
       "    <tr>\n",
       "      <th>2016-03-31</th>\n",
       "      <td>992872.0</td>\n",
       "    </tr>\n",
       "    <tr>\n",
       "      <th>2016-04-30</th>\n",
       "      <td>822866.0</td>\n",
       "    </tr>\n",
       "  </tbody>\n",
       "</table>\n",
       "</div>"
      ],
      "text/plain": [
       "                   Amount\n",
       "TransactionDate          \n",
       "2015-12-31       554937.0\n",
       "2016-01-31       572900.0\n",
       "2016-02-29       547166.0\n",
       "2016-03-31       992872.0\n",
       "2016-04-30       822866.0"
      ]
     },
     "execution_count": 96,
     "metadata": {},
     "output_type": "execute_result"
    }
   ],
   "source": [
    "sel.head()"
   ]
  },
  {
   "cell_type": "code",
   "execution_count": 97,
   "metadata": {},
   "outputs": [],
   "source": [
    "sel[\"Amount\"]=sel.Amount.apply(lambda x:int(x))"
   ]
  },
  {
   "cell_type": "markdown",
   "metadata": {},
   "source": [
    "**Below is the conversion of data into a time series.**"
   ]
  },
  {
   "cell_type": "code",
   "execution_count": 98,
   "metadata": {},
   "outputs": [],
   "source": [
    "# ts stands for time series.\n",
    "ts=sel[\"Amount\"]"
   ]
  },
  {
   "cell_type": "code",
   "execution_count": 99,
   "metadata": {},
   "outputs": [
    {
     "data": {
      "text/plain": [
       "TransactionDate\n",
       "2015-12-31    554937\n",
       "2016-01-31    572900\n",
       "2016-02-29    547166\n",
       "2016-03-31    992872\n",
       "2016-04-30    822866\n",
       "Freq: M, Name: Amount, dtype: int64"
      ]
     },
     "execution_count": 99,
     "metadata": {},
     "output_type": "execute_result"
    }
   ],
   "source": [
    "ts.head()"
   ]
  },
  {
   "cell_type": "markdown",
   "metadata": {},
   "source": [
    "<font color=\"blue\"> **TESTING FOR TREND AND SEASONALITY IN THE SERIES.**</font>"
   ]
  },
  {
   "cell_type": "markdown",
   "metadata": {},
   "source": [
    "> *Trend is the direction of propogation of the whole series. It might be upward, downward or may be constant. Seasonality is the period of repetition of the time series.*"
   ]
  },
  {
   "cell_type": "markdown",
   "metadata": {},
   "source": [
    "<font color=\"red\">**A) BY VISUALIZATION**</font>"
   ]
  },
  {
   "cell_type": "markdown",
   "metadata": {},
   "source": [
    "*By visual inspection we can see whether a data is going through trend or seasonality or not.*"
   ]
  },
  {
   "cell_type": "code",
   "execution_count": 100,
   "metadata": {},
   "outputs": [
    {
     "data": {
      "image/png": "[encoded data removed]",
      "text/plain": [
       "<Figure size 720x288 with 1 Axes>"
      ]
     },
     "metadata": {},
     "output_type": "display_data"
    }
   ],
   "source": [
    "plt.figure(figsize=(10,4))\n",
    "plt.plot(ts, color=\"red\")\n",
    "plt.grid(True)\n",
    "plt.show()"
   ]
  },
  {
   "cell_type": "markdown",
   "metadata": {},
   "source": [
    "*From the above plot it can be inferred clearly that our data is suffering of trend and seasonality both.*"
   ]
  },
  {
   "cell_type": "markdown",
   "metadata": {},
   "source": [
    "<font color=\"red\"> **B)STATISTICAL METHOD**"
   ]
  },
  {
   "cell_type": "markdown",
   "metadata": {},
   "source": [
    "*Here we will see the presence of trend and  seasonality by statistical methods. In visual methods we can have only the inspection of presence of trend and seasonality but in stats we measure it in terms of stastical entities.*"
   ]
  },
  {
   "cell_type": "markdown",
   "metadata": {},
   "source": [
    "**DICKEY FULLER TEST**"
   ]
  },
  {
   "cell_type": "markdown",
   "metadata": {},
   "source": [
    "> *This test is used to test a hypothesis of whether the timeseries is stationry or not. It gives some statistical measures and some critical values with which our test stats has to be compared.*"
   ]
  },
  {
   "cell_type": "code",
   "execution_count": 101,
   "metadata": {},
   "outputs": [],
   "source": [
    "#Here the library containing the dickey fuller test is imported\n",
    "from statsmodels.tsa.stattools import adfuller"
   ]
  },
  {
   "cell_type": "code",
   "execution_count": 102,
   "metadata": {},
   "outputs": [],
   "source": [
    "def dft(ts):\n",
    "    print ('Results of Dickey-Fuller Test:')\n",
    "    dftest = adfuller(ts, autolag='AIC')\n",
    "    dfoutput = pd.Series(dftest[0:4], index=['Test Statistic','p-value','#Lags Used','Number of Observations Used'])\n",
    "    for key,value in dftest[4].items():\n",
    "        dfoutput['Critical Value (%s)'%key] = value\n",
    "    print (dfoutput)"
   ]
  },
  {
   "cell_type": "code",
   "execution_count": 103,
   "metadata": {},
   "outputs": [
    {
     "name": "stdout",
     "output_type": "stream",
     "text": [
      "Results of Dickey-Fuller Test:\n",
      "Test Statistic                  3.822964\n",
      "p-value                         1.000000\n",
      "#Lags Used                      9.000000\n",
      "Number of Observations Used    33.000000\n",
      "Critical Value (1%)            -3.646135\n",
      "Critical Value (5%)            -2.954127\n",
      "Critical Value (10%)           -2.615968\n",
      "dtype: float64\n"
     ]
    }
   ],
   "source": [
    "dft(ts)"
   ]
  },
  {
   "cell_type": "markdown",
   "metadata": {},
   "source": [
    "**Interpretation of the dickey fuller test**  \n",
    "*If the Test Statistic is lesser than(considering values with sign) the critical values then we can conclude that the series has no trend and seasonality. For example here the Test Statistics is greater than all the critical values then it means that the series is not stationary.*"
   ]
  },
  {
   "cell_type": "markdown",
   "metadata": {},
   "source": [
    "**REMOVING TREND AND SEASONALITY FROM THE SERIES(MAKING IT STATIONARY)**"
   ]
  },
  {
   "cell_type": "markdown",
   "metadata": {},
   "source": [
    "*To make the series stationary first a logarithmic transformation has been applied. This reduces the trend a little.*"
   ]
  },
  {
   "cell_type": "code",
   "execution_count": 104,
   "metadata": {},
   "outputs": [],
   "source": [
    "ts_log=np.log(ts[ts>0])"
   ]
  },
  {
   "cell_type": "code",
   "execution_count": 105,
   "metadata": {},
   "outputs": [
    {
     "name": "stdout",
     "output_type": "stream",
     "text": [
      "Results of Dickey-Fuller Test:\n",
      "Test Statistic                  0.138792\n",
      "p-value                         0.968612\n",
      "#Lags Used                      8.000000\n",
      "Number of Observations Used    34.000000\n",
      "Critical Value (1%)            -3.639224\n",
      "Critical Value (5%)            -2.951230\n",
      "Critical Value (10%)           -2.614447\n",
      "dtype: float64\n"
     ]
    }
   ],
   "source": [
    "#Calling the Dickey fuller test to test for the transformed data.\n",
    "dft(ts_log)"
   ]
  },
  {
   "cell_type": "markdown",
   "metadata": {},
   "source": [
    "**It is intrepretable that the Test Statistic has dicreased a bit but still greater than the critical values. Hence it is non stationary yet.**"
   ]
  },
  {
   "cell_type": "markdown",
   "metadata": {},
   "source": [
    "**DIFFERENCING**"
   ]
  },
  {
   "cell_type": "markdown",
   "metadata": {},
   "source": [
    "*Following is the differencing technique used to make the series stationary.*"
   ]
  },
  {
   "cell_type": "code",
   "execution_count": 106,
   "metadata": {},
   "outputs": [],
   "source": [
    "ts_log_diff=ts_log-ts_log.shift()\n",
    "#The shift function moves the whole series by one unit. Then the difference has been taken to remove trends."
   ]
  },
  {
   "cell_type": "markdown",
   "metadata": {},
   "source": [
    "*In the following plot we can see that trend has been removed from the series.*"
   ]
  },
  {
   "cell_type": "code",
   "execution_count": 107,
   "metadata": {},
   "outputs": [],
   "source": [
    "ts_log_diff.dropna(inplace=True)\n",
    "# This comes because when difference was taken the value was shifed by\n",
    "# one unit and value corresponding to that index is no more. so it is \n",
    "# needed to drop that one na value."
   ]
  },
  {
   "cell_type": "code",
   "execution_count": 108,
   "metadata": {},
   "outputs": [
    {
     "data": {
      "image/png": "[encoded data removed]",
      "text/plain": [
       "<Figure size 1080x288 with 1 Axes>"
      ]
     },
     "metadata": {},
     "output_type": "display_data"
    }
   ],
   "source": [
    "plt.figure(figsize=(15,4))\n",
    "plt.plot(ts_log_diff, color=\"red\")\n",
    "plt.grid(True, color=\"black\")\n",
    "plt.show()"
   ]
  },
  {
   "cell_type": "markdown",
   "metadata": {},
   "source": [
    "**Now let us see the stationary test after application of differencing in the series**"
   ]
  },
  {
   "cell_type": "code",
   "execution_count": 109,
   "metadata": {},
   "outputs": [
    {
     "name": "stdout",
     "output_type": "stream",
     "text": [
      "Results of Dickey-Fuller Test:\n",
      "Test Statistic                 -5.050791\n",
      "p-value                         0.000018\n",
      "#Lags Used                      2.000000\n",
      "Number of Observations Used    39.000000\n",
      "Critical Value (1%)            -3.610400\n",
      "Critical Value (5%)            -2.939109\n",
      "Critical Value (10%)           -2.608063\n",
      "dtype: float64\n"
     ]
    }
   ],
   "source": [
    "dft(ts_log_diff)"
   ]
  },
  {
   "cell_type": "markdown",
   "metadata": {},
   "source": [
    "**Test Statistic is less than 1 percent critical value. So with 99% confidence we can say that trend and seasonality are removed from this timeseries.**"
   ]
  },
  {
   "cell_type": "markdown",
   "metadata": {},
   "source": [
    "**MODEL PREPARATION**"
   ]
  },
  {
   "cell_type": "code",
   "execution_count": 110,
   "metadata": {},
   "outputs": [],
   "source": [
    "from statsmodels.tsa.stattools import acf, pacf\n",
    "# Requisite libraries for computing auto correlation function and partial auto correlation function. "
   ]
  },
  {
   "cell_type": "code",
   "execution_count": 111,
   "metadata": {},
   "outputs": [],
   "source": [
    "lag_acf = acf(ts_log_diff, nlags=3)\n",
    "lag_pacf = pacf(ts_log_diff, nlags=3, method='ols')\n",
    "#ols stands for ordinary least squared."
   ]
  },
  {
   "cell_type": "markdown",
   "metadata": {},
   "source": [
    "**PURPOSE OF ACF AND PACF PLOTTINGS**  \n",
    "*These are two kinds of plots that are used to compute the lag order of auto correlation data and partial auto correlation data. These orders are used as input to the arima model for model preparation.*"
   ]
  },
  {
   "cell_type": "code",
   "execution_count": 112,
   "metadata": {},
   "outputs": [
    {
     "data": {
      "text/plain": [
       "Text(0.5, 1.0, 'Autocorrelation Function')"
      ]
     },
     "execution_count": 112,
     "metadata": {},
     "output_type": "execute_result"
    },
    {
     "data": {
      "image/png": "[encoded data removed]",
      "text/plain": [
       "<Figure size 432x288 with 1 Axes>"
      ]
     },
     "metadata": {},
     "output_type": "display_data"
    }
   ],
   "source": [
    "#This is the plotting of acf.\n",
    "plt.subplot(121) \n",
    "plt.plot(lag_acf)\n",
    "plt.axhline(y=0,linestyle='--',color='gray')\n",
    "plt.axhline(y=-1.96/np.sqrt(len(ts_log_diff)),linestyle='--',color='gray')\n",
    "plt.axhline(y=1.96/np.sqrt(len(ts_log_diff)),linestyle='--',color='gray')\n",
    "plt.title('Autocorrelation Function')"
   ]
  },
  {
   "cell_type": "markdown",
   "metadata": {},
   "source": [
    "*The p value is the lag value at which the correlation plot is intersecting the upper confidence intervel. If we will drop that point to x axis it is around 1 if taken as integer. so p value is 1*"
   ]
  },
  {
   "cell_type": "markdown",
   "metadata": {},
   "source": [
    "*This is done to get the lag order of moving average. or it is called to be partial auto correlation function.*"
   ]
  },
  {
   "cell_type": "code",
   "execution_count": 113,
   "metadata": {},
   "outputs": [
    {
     "data": {
      "image/png": "[encoded data removed]",
      "text/plain": [
       "<Figure size 432x288 with 1 Axes>"
      ]
     },
     "metadata": {},
     "output_type": "display_data"
    }
   ],
   "source": [
    "#Plot PACF:\n",
    "plt.subplot(122)\n",
    "plt.plot(lag_pacf)\n",
    "plt.axhline(y=0,linestyle='--',color='gray')\n",
    "plt.axhline(y=-1.96/np.sqrt(len(ts_log_diff)),linestyle='--',color='gray')\n",
    "plt.axhline(y=1.96/np.sqrt(len(ts_log_diff)),linestyle='--',color='gray')\n",
    "plt.title('Partial Autocorrelation Function')\n",
    "plt.tight_layout()"
   ]
  },
  {
   "cell_type": "markdown",
   "metadata": {},
   "source": [
    "*From the plot it can be interpreted that q value is also around 1. The way of interpretation is similar to the last one.*"
   ]
  },
  {
   "cell_type": "markdown",
   "metadata": {},
   "source": [
    "**RUNNING THE SARIMAX(THIS IS SEASONAL ARIMA) MODEL**"
   ]
  },
  {
   "cell_type": "code",
   "execution_count": 114,
   "metadata": {},
   "outputs": [],
   "source": [
    "#Importing the requisite libraries for arima model.\n",
    "from statsmodels.tsa.arima_model import ARIMA"
   ]
  },
  {
   "cell_type": "code",
   "execution_count": 115,
   "metadata": {},
   "outputs": [],
   "source": [
    "model = ARIMA(ts_log_diff, order=(1, 1, 1))  \n",
    "results = model.fit(disp=-1)"
   ]
  },
  {
   "cell_type": "code",
   "execution_count": 225,
   "metadata": {},
   "outputs": [],
   "source": [
    "pred_mean=results.predict(start=\"2019-07-31\",end=\"2019-12-31\")"
   ]
  },
  {
   "cell_type": "markdown",
   "metadata": {},
   "source": [
    "**REVERSING ALL THE TRANSFORMATIONS IN THE SERIES**  \n",
    "This is needed to get the output into the original format of data."
   ]
  },
  {
   "cell_type": "code",
   "execution_count": null,
   "metadata": {},
   "outputs": [],
   "source": []
  },
  {
   "cell_type": "code",
   "execution_count": 294,
   "metadata": {},
   "outputs": [],
   "source": [
    "c=pd.Index(pred_mean.index)\n",
    "c=c.insert(0, pd.to_datetime(ts_log_diff.index[-1]))\n",
    "lis=list(pred_mean.values)\n",
    "lis.insert(0,ts_log[-1])\n",
    "lis=pd.Series(lis,index=c)\n",
    "lis=lis.cumsum()\n",
    "lis=np.exp(lis)\n",
    "lis=lis.apply(lambda x:int(x))\n",
    "lis"
   ]
  },
  {
   "cell_type": "code",
   "execution_count": 290,
   "metadata": {},
   "outputs": [
    {
     "data": {
      "image/png": "[encoded data removed]",
      "text/plain": [
       "<Figure size 864x288 with 1 Axes>"
      ]
     },
     "metadata": {},
     "output_type": "display_data"
    }
   ],
   "source": [
    "plt.figure(figsize=(12,4))\n",
    "plt.plot(ts)\n",
    "plt.plot(lis)\n",
    "plt.show()"
   ]
  },
  {
   "cell_type": "code",
   "execution_count": null,
   "metadata": {},
   "outputs": [],
   "source": []
  },
  {
   "cell_type": "code",
   "execution_count": null,
   "metadata": {},
   "outputs": [],
   "source": []
  },
  {
   "cell_type": "code",
   "execution_count": 255,
   "metadata": {},
   "outputs": [],
   "source": [
    "list(pred_mean.values).insert(0,ts_log_diff[-1])"
   ]
  },
  {
   "cell_type": "code",
   "execution_count": 249,
   "metadata": {},
   "outputs": [
    {
     "data": {
      "text/plain": [
       "2019-07-31    0.190286\n",
       "2019-08-31   -0.065027\n",
       "2019-09-30    0.019561\n",
       "2019-10-31   -0.008464\n",
       "2019-11-30    0.000821\n",
       "2019-12-31   -0.002255\n",
       "Freq: M, dtype: float64"
      ]
     },
     "execution_count": 249,
     "metadata": {},
     "output_type": "execute_result"
    }
   ],
   "source": [
    "pred_mean"
   ]
  },
  {
   "cell_type": "code",
   "execution_count": null,
   "metadata": {},
   "outputs": [],
   "source": []
  },
  {
   "cell_type": "code",
   "execution_count": null,
   "metadata": {},
   "outputs": [],
   "source": []
  },
  {
   "cell_type": "code",
   "execution_count": 234,
   "metadata": {},
   "outputs": [
    {
     "data": {
      "text/plain": [
       "DatetimeIndex(['2019-07-31', '2019-08-31', '2019-09-30', '2019-10-31',\n",
       "               '2019-11-30', '2019-12-31'],\n",
       "              dtype='datetime64[ns]', freq='M')"
      ]
     },
     "execution_count": 234,
     "metadata": {},
     "output_type": "execute_result"
    }
   ],
   "source": [
    "c"
   ]
  },
  {
   "cell_type": "code",
   "execution_count": null,
   "metadata": {},
   "outputs": [],
   "source": []
  },
  {
   "cell_type": "code",
   "execution_count": 227,
   "metadata": {},
   "outputs": [],
   "source": [
    "c=pd.Series(ts_log[-1], index=pred_mean.index)"
   ]
  },
  {
   "cell_type": "code",
   "execution_count": 228,
   "metadata": {},
   "outputs": [],
   "source": [
    "c=c.add(pred_mean, fill_value=0)"
   ]
  },
  {
   "cell_type": "code",
   "execution_count": 229,
   "metadata": {},
   "outputs": [],
   "source": [
    "c=np.exp(c)"
   ]
  },
  {
   "cell_type": "code",
   "execution_count": 230,
   "metadata": {},
   "outputs": [
    {
     "data": {
      "text/plain": [
       "2019-07-31    1.556001e+07\n",
       "2019-08-31    1.205394e+07\n",
       "2019-09-30    1.311791e+07\n",
       "2019-10-31    1.275539e+07\n",
       "2019-11-30    1.287438e+07\n",
       "2019-12-31    1.283483e+07\n",
       "Freq: M, dtype: float64"
      ]
     },
     "execution_count": 230,
     "metadata": {},
     "output_type": "execute_result"
    }
   ],
   "source": [
    "c"
   ]
  },
  {
   "cell_type": "code",
   "execution_count": 231,
   "metadata": {},
   "outputs": [
    {
     "data": {
      "text/plain": [
       "[<matplotlib.lines.Line2D at 0x1ef24772080>]"
      ]
     },
     "execution_count": 231,
     "metadata": {},
     "output_type": "execute_result"
    },
    {
     "data": {
      "image/png": "[encoded data removed]",
      "text/plain": [
       "<Figure size 432x288 with 1 Axes>"
      ]
     },
     "metadata": {},
     "output_type": "display_data"
    }
   ],
   "source": [
    "plt.plot(ts)\n",
    "plt.plot(c, color=\"red\")"
   ]
  },
  {
   "cell_type": "code",
   "execution_count": null,
   "metadata": {},
   "outputs": [],
   "source": []
  },
  {
   "cell_type": "code",
   "execution_count": null,
   "metadata": {},
   "outputs": [],
   "source": []
  },
  {
   "cell_type": "code",
   "execution_count": 142,
   "metadata": {},
   "outputs": [],
   "source": [
    "predictions_ARIMA_diff = pd.Series(pred_mean, copy=True)\n",
    "predictions_ARIMA_diff_cumsum = predictions_ARIMA_diff.cumsum()\n",
    "a=ts_log[-1]\n",
    "predictions_ARIMA = np.exp(predictions_ARIMA_diff_cumsum)\n",
    "b=a+predictions_ARIMA_diff_cumsum\n",
    "predictions_ARIMA = np.exp(b)"
   ]
  },
  {
   "cell_type": "code",
   "execution_count": null,
   "metadata": {},
   "outputs": [],
   "source": []
  },
  {
   "cell_type": "markdown",
   "metadata": {},
   "source": [
    "**This is the final output which is consisting of forecast of amount for seller 13 for coming 6 months.**"
   ]
  },
  {
   "cell_type": "code",
   "execution_count": 143,
   "metadata": {},
   "outputs": [],
   "source": [
    "forecast=pd.DataFrame()\n",
    "forecast[\"amount\"]=predictions_ARIMA\n",
    "forecast[\"amount\"]=forecast.amount.apply(lambda x:int(x))"
   ]
  },
  {
   "cell_type": "code",
   "execution_count": 144,
   "metadata": {},
   "outputs": [
    {
     "data": {
      "image/png": "[encoded data removed]",
      "text/plain": [
       "<Figure size 864x288 with 1 Axes>"
      ]
     },
     "metadata": {},
     "output_type": "display_data"
    }
   ],
   "source": [
    "plt.figure(figsize=(12,4))\n",
    "plt.plot(ts, color=\"blue\", linewidth=2)\n",
    "plt.plot(forecast.amount,color=\"red\", linewidth=2)\n",
    "plt.gca().get_yaxis().get_major_formatter().set_scientific(False)\n",
    "plt.grid(True, color=\"green\")"
   ]
  },
  {
   "cell_type": "code",
   "execution_count": null,
   "metadata": {},
   "outputs": [],
   "source": []
  }
 ],
 "metadata": {
  "kernelspec": {
   "display_name": "Python 3",
   "language": "python",
   "name": "python3"
  },
  "language_info": {
   "codemirror_mode": {
    "name": "ipython",
    "version": 3
   },
   "file_extension": ".py",
   "mimetype": "text/x-python",
   "name": "python",
   "nbconvert_exporter": "python",
   "pygments_lexer": "ipython3",
   "version": "3.7.3"
  }
 },
 "nbformat": 4,
 "nbformat_minor": 2
}
