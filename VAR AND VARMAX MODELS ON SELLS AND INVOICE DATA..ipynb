{
 "cells": [
  {
   "cell_type": "markdown",
   "metadata": {},
   "source": [
    "**THIS NOTEBOOK CONTAINS FORECAST FOR SELLERS 2 FROM INVOICE DATA SELLER 11 FROM SALES RECEIPT DATA BY VAR AND VARMAX MODELS BOTH.**"
   ]
  },
  {
   "cell_type": "code",
   "execution_count": 44,
   "metadata": {},
   "outputs": [],
   "source": [
    "#Importing the prerequisite libraries that are to be used further.\n",
    "import pandas as pd\n",
    "import warnings\n",
    "import itertools\n",
    "import numpy as np\n",
    "import matplotlib.pyplot as plt\n",
    "warnings.filterwarnings(\"ignore\")\n",
    "plt.style.use('fivethirtyeight')\n",
    "import statsmodels.api as sm\n",
    "import matplotlib.pyplot as plt"
   ]
  },
  {
   "cell_type": "markdown",
   "metadata": {},
   "source": [
    "**Importing sells receipt and invoices data.**"
   ]
  },
  {
   "cell_type": "code",
   "execution_count": 45,
   "metadata": {},
   "outputs": [],
   "source": [
    "sales=pd.read_csv(\"sales_receipt.csv\")\n",
    "invoice=pd.read_csv(\"inv_transdt_transamt_selrid.csv\")"
   ]
  },
  {
   "cell_type": "markdown",
   "metadata": {},
   "source": [
    "**Cleaning the data by removing the na values.**"
   ]
  },
  {
   "cell_type": "code",
   "execution_count": 46,
   "metadata": {},
   "outputs": [],
   "source": [
    "invoice=invoice.dropna()"
   ]
  },
  {
   "cell_type": "markdown",
   "metadata": {},
   "source": [
    "**Getting the Transaction dates into proper format.**"
   ]
  },
  {
   "cell_type": "code",
   "execution_count": 47,
   "metadata": {},
   "outputs": [],
   "source": [
    "sales[\"TransactionDate\"]=pd.to_datetime(pd.to_datetime(sales.TransactionDate).dt.date)\n",
    "invoice[\"TransactionDate\"]=pd.to_datetime(pd.to_datetime(invoice.TransactionDate).dt.date)"
   ]
  },
  {
   "cell_type": "markdown",
   "metadata": {},
   "source": [
    "**Extracting required columns from dataframes.**"
   ]
  },
  {
   "cell_type": "code",
   "execution_count": 48,
   "metadata": {},
   "outputs": [],
   "source": [
    "sales_fin=sales[[\"TransactionDate\",\"SellerId\", \"Amount\"]]\n",
    "invoice_fin=invoice[[\"TransactionDate\",\"SellerId\", \"Trans_amount\"]]"
   ]
  },
  {
   "cell_type": "markdown",
   "metadata": {},
   "source": [
    "<font color=\"red\"> **VAR MODEL FOR SELLER 2 FROM INVOICE DATA**</font>"
   ]
  },
  {
   "cell_type": "markdown",
   "metadata": {},
   "source": [
    "**Preparing the time series for further operations.**"
   ]
  },
  {
   "cell_type": "code",
   "execution_count": 49,
   "metadata": {},
   "outputs": [],
   "source": [
    "data=invoice_fin[invoice_fin[\"SellerId\"]==2][[\"TransactionDate\",\"Trans_amount\"]]\n",
    "data=data.set_index(\"TransactionDate\")\n",
    "data=data.groupby(pd.Grouper(freq=\"M\")).sum()\n",
    "ts=data[\"Trans_amount\"]\n",
    "ts=ts.apply(lambda x: int(x))"
   ]
  },
  {
   "cell_type": "code",
   "execution_count": 50,
   "metadata": {},
   "outputs": [
    {
     "data": {
      "text/plain": [
       "43"
      ]
     },
     "execution_count": 50,
     "metadata": {},
     "output_type": "execute_result"
    }
   ],
   "source": [
    "len(ts)"
   ]
  },
  {
   "cell_type": "markdown",
   "metadata": {},
   "source": [
    "**Have a look on count.**"
   ]
  },
  {
   "cell_type": "code",
   "execution_count": 51,
   "metadata": {},
   "outputs": [
    {
     "data": {
      "text/html": [
       "<div>\n",
       "<style scoped>\n",
       "    .dataframe tbody tr th:only-of-type {\n",
       "        vertical-align: middle;\n",
       "    }\n",
       "\n",
       "    .dataframe tbody tr th {\n",
       "        vertical-align: top;\n",
       "    }\n",
       "\n",
       "    .dataframe thead th {\n",
       "        text-align: right;\n",
       "    }\n",
       "</style>\n",
       "<table border=\"1\" class=\"dataframe\">\n",
       "  <thead>\n",
       "    <tr style=\"text-align: right;\">\n",
       "      <th></th>\n",
       "      <th>TransactionDate</th>\n",
       "      <th>Trans_amount</th>\n",
       "    </tr>\n",
       "    <tr>\n",
       "      <th>SellerId</th>\n",
       "      <th></th>\n",
       "      <th></th>\n",
       "    </tr>\n",
       "  </thead>\n",
       "  <tbody>\n",
       "    <tr>\n",
       "      <th>1</th>\n",
       "      <td>8</td>\n",
       "      <td>8</td>\n",
       "    </tr>\n",
       "    <tr>\n",
       "      <th>2</th>\n",
       "      <td>631</td>\n",
       "      <td>631</td>\n",
       "    </tr>\n",
       "    <tr>\n",
       "      <th>3</th>\n",
       "      <td>97</td>\n",
       "      <td>97</td>\n",
       "    </tr>\n",
       "    <tr>\n",
       "      <th>5</th>\n",
       "      <td>1790</td>\n",
       "      <td>1790</td>\n",
       "    </tr>\n",
       "    <tr>\n",
       "      <th>6</th>\n",
       "      <td>32</td>\n",
       "      <td>32</td>\n",
       "    </tr>\n",
       "    <tr>\n",
       "      <th>9</th>\n",
       "      <td>2898</td>\n",
       "      <td>2898</td>\n",
       "    </tr>\n",
       "    <tr>\n",
       "      <th>10</th>\n",
       "      <td>20803</td>\n",
       "      <td>20803</td>\n",
       "    </tr>\n",
       "    <tr>\n",
       "      <th>11</th>\n",
       "      <td>4118</td>\n",
       "      <td>4118</td>\n",
       "    </tr>\n",
       "    <tr>\n",
       "      <th>12</th>\n",
       "      <td>7946</td>\n",
       "      <td>7946</td>\n",
       "    </tr>\n",
       "    <tr>\n",
       "      <th>13</th>\n",
       "      <td>654</td>\n",
       "      <td>654</td>\n",
       "    </tr>\n",
       "    <tr>\n",
       "      <th>14</th>\n",
       "      <td>2676</td>\n",
       "      <td>2676</td>\n",
       "    </tr>\n",
       "    <tr>\n",
       "      <th>15</th>\n",
       "      <td>4575</td>\n",
       "      <td>4575</td>\n",
       "    </tr>\n",
       "    <tr>\n",
       "      <th>16</th>\n",
       "      <td>967</td>\n",
       "      <td>967</td>\n",
       "    </tr>\n",
       "    <tr>\n",
       "      <th>17</th>\n",
       "      <td>556</td>\n",
       "      <td>556</td>\n",
       "    </tr>\n",
       "    <tr>\n",
       "      <th>18</th>\n",
       "      <td>1990</td>\n",
       "      <td>1990</td>\n",
       "    </tr>\n",
       "    <tr>\n",
       "      <th>19</th>\n",
       "      <td>2</td>\n",
       "      <td>2</td>\n",
       "    </tr>\n",
       "    <tr>\n",
       "      <th>20</th>\n",
       "      <td>2316</td>\n",
       "      <td>2316</td>\n",
       "    </tr>\n",
       "    <tr>\n",
       "      <th>21</th>\n",
       "      <td>25065</td>\n",
       "      <td>25065</td>\n",
       "    </tr>\n",
       "    <tr>\n",
       "      <th>22</th>\n",
       "      <td>1035</td>\n",
       "      <td>1035</td>\n",
       "    </tr>\n",
       "    <tr>\n",
       "      <th>23</th>\n",
       "      <td>4663</td>\n",
       "      <td>4663</td>\n",
       "    </tr>\n",
       "    <tr>\n",
       "      <th>24</th>\n",
       "      <td>51</td>\n",
       "      <td>51</td>\n",
       "    </tr>\n",
       "    <tr>\n",
       "      <th>25</th>\n",
       "      <td>2439</td>\n",
       "      <td>2439</td>\n",
       "    </tr>\n",
       "    <tr>\n",
       "      <th>26</th>\n",
       "      <td>321</td>\n",
       "      <td>321</td>\n",
       "    </tr>\n",
       "    <tr>\n",
       "      <th>27</th>\n",
       "      <td>454</td>\n",
       "      <td>454</td>\n",
       "    </tr>\n",
       "    <tr>\n",
       "      <th>28</th>\n",
       "      <td>232</td>\n",
       "      <td>232</td>\n",
       "    </tr>\n",
       "  </tbody>\n",
       "</table>\n",
       "</div>"
      ],
      "text/plain": [
       "          TransactionDate  Trans_amount\n",
       "SellerId                               \n",
       "1                       8             8\n",
       "2                     631           631\n",
       "3                      97            97\n",
       "5                    1790          1790\n",
       "6                      32            32\n",
       "9                    2898          2898\n",
       "10                  20803         20803\n",
       "11                   4118          4118\n",
       "12                   7946          7946\n",
       "13                    654           654\n",
       "14                   2676          2676\n",
       "15                   4575          4575\n",
       "16                    967           967\n",
       "17                    556           556\n",
       "18                   1990          1990\n",
       "19                      2             2\n",
       "20                   2316          2316\n",
       "21                  25065         25065\n",
       "22                   1035          1035\n",
       "23                   4663          4663\n",
       "24                     51            51\n",
       "25                   2439          2439\n",
       "26                    321           321\n",
       "27                    454           454\n",
       "28                    232           232"
      ]
     },
     "execution_count": 51,
     "metadata": {},
     "output_type": "execute_result"
    }
   ],
   "source": [
    "invoice_fin.groupby(\"SellerId\").count()"
   ]
  },
  {
   "cell_type": "markdown",
   "metadata": {},
   "source": [
    "**Importing libraries for application of VAR(Vector Auto Regression)**"
   ]
  },
  {
   "cell_type": "code",
   "execution_count": 52,
   "metadata": {},
   "outputs": [],
   "source": [
    "from statsmodels.tsa.vector_ar.var_model import VAR\n",
    "import random\n",
    "random.seed(20)"
   ]
  },
  {
   "cell_type": "markdown",
   "metadata": {},
   "source": [
    "**Below is creating the dataset in the required format for model.**"
   ]
  },
  {
   "cell_type": "code",
   "execution_count": 53,
   "metadata": {},
   "outputs": [],
   "source": [
    "data = list()\n",
    "for i in ts:\n",
    "    v1 = i + random.random()\n",
    "    v2 = v1 + random.random()\n",
    "    row = [v1, v2]\n",
    "    data.append(row)"
   ]
  },
  {
   "cell_type": "markdown",
   "metadata": {},
   "source": [
    "**Checking for a range of split ratio of the data.**"
   ]
  },
  {
   "cell_type": "code",
   "execution_count": 54,
   "metadata": {},
   "outputs": [],
   "source": [
    "def converter(pick):\n",
    "    out=[]\n",
    "    for i in pick:\n",
    "        out.append(np.mean(i))\n",
    "    return pd.Series(out)"
   ]
  },
  {
   "cell_type": "markdown",
   "metadata": {},
   "source": [
    "**Below code contains building of models corresponding to different train test ratios and corresponding rmse value.**"
   ]
  },
  {
   "cell_type": "code",
   "execution_count": 55,
   "metadata": {},
   "outputs": [],
   "source": [
    "ratio=[]\n",
    "rmse=[]\n",
    "for k in np.arange(0.7,0.95,0.005):\n",
    "    train = data[:int(k*(len(data)))]\n",
    "    valid = data[int(k*(len(data))):]\n",
    "    model = VAR(endog=train)\n",
    "    model_fit = model.fit()\n",
    "    yhat= model_fit.forecast(model_fit.y, steps=len(valid))\n",
    "    train=converter(train)\n",
    "    valid=converter(valid)\n",
    "    pred=converter(yhat)\n",
    "    rmse.append(np.sqrt(np.mean((valid-pred)**2)))\n",
    "    ratio.append(k)"
   ]
  },
  {
   "cell_type": "markdown",
   "metadata": {},
   "source": [
    "**Ratio is the fraction of time series in the train data.**"
   ]
  },
  {
   "cell_type": "code",
   "execution_count": 56,
   "metadata": {},
   "outputs": [],
   "source": [
    "ratio_rmse=pd.DataFrame()\n",
    "ratio_rmse[\"ratio\"]=ratio\n",
    "ratio_rmse[\"rmse\"]=rmse"
   ]
  },
  {
   "cell_type": "code",
   "execution_count": 57,
   "metadata": {},
   "outputs": [
    {
     "data": {
      "text/html": [
       "<div>\n",
       "<style scoped>\n",
       "    .dataframe tbody tr th:only-of-type {\n",
       "        vertical-align: middle;\n",
       "    }\n",
       "\n",
       "    .dataframe tbody tr th {\n",
       "        vertical-align: top;\n",
       "    }\n",
       "\n",
       "    .dataframe thead th {\n",
       "        text-align: right;\n",
       "    }\n",
       "</style>\n",
       "<table border=\"1\" class=\"dataframe\">\n",
       "  <thead>\n",
       "    <tr style=\"text-align: right;\">\n",
       "      <th></th>\n",
       "      <th>ratio</th>\n",
       "      <th>rmse</th>\n",
       "    </tr>\n",
       "  </thead>\n",
       "  <tbody>\n",
       "    <tr>\n",
       "      <th>0</th>\n",
       "      <td>0.700</td>\n",
       "      <td>6.371172e+06</td>\n",
       "    </tr>\n",
       "    <tr>\n",
       "      <th>1</th>\n",
       "      <td>0.705</td>\n",
       "      <td>6.371172e+06</td>\n",
       "    </tr>\n",
       "    <tr>\n",
       "      <th>2</th>\n",
       "      <td>0.710</td>\n",
       "      <td>6.371172e+06</td>\n",
       "    </tr>\n",
       "    <tr>\n",
       "      <th>3</th>\n",
       "      <td>0.715</td>\n",
       "      <td>6.371172e+06</td>\n",
       "    </tr>\n",
       "    <tr>\n",
       "      <th>4</th>\n",
       "      <td>0.720</td>\n",
       "      <td>6.371172e+06</td>\n",
       "    </tr>\n",
       "    <tr>\n",
       "      <th>5</th>\n",
       "      <td>0.725</td>\n",
       "      <td>9.706951e+06</td>\n",
       "    </tr>\n",
       "    <tr>\n",
       "      <th>6</th>\n",
       "      <td>0.730</td>\n",
       "      <td>9.706951e+06</td>\n",
       "    </tr>\n",
       "    <tr>\n",
       "      <th>7</th>\n",
       "      <td>0.735</td>\n",
       "      <td>9.706951e+06</td>\n",
       "    </tr>\n",
       "    <tr>\n",
       "      <th>8</th>\n",
       "      <td>0.740</td>\n",
       "      <td>9.706951e+06</td>\n",
       "    </tr>\n",
       "    <tr>\n",
       "      <th>9</th>\n",
       "      <td>0.745</td>\n",
       "      <td>8.520505e+06</td>\n",
       "    </tr>\n",
       "    <tr>\n",
       "      <th>10</th>\n",
       "      <td>0.750</td>\n",
       "      <td>8.520505e+06</td>\n",
       "    </tr>\n",
       "    <tr>\n",
       "      <th>11</th>\n",
       "      <td>0.755</td>\n",
       "      <td>8.520505e+06</td>\n",
       "    </tr>\n",
       "    <tr>\n",
       "      <th>12</th>\n",
       "      <td>0.760</td>\n",
       "      <td>8.520505e+06</td>\n",
       "    </tr>\n",
       "    <tr>\n",
       "      <th>13</th>\n",
       "      <td>0.765</td>\n",
       "      <td>8.520505e+06</td>\n",
       "    </tr>\n",
       "    <tr>\n",
       "      <th>14</th>\n",
       "      <td>0.770</td>\n",
       "      <td>7.579757e+06</td>\n",
       "    </tr>\n",
       "    <tr>\n",
       "      <th>15</th>\n",
       "      <td>0.775</td>\n",
       "      <td>7.579757e+06</td>\n",
       "    </tr>\n",
       "    <tr>\n",
       "      <th>16</th>\n",
       "      <td>0.780</td>\n",
       "      <td>7.579757e+06</td>\n",
       "    </tr>\n",
       "    <tr>\n",
       "      <th>17</th>\n",
       "      <td>0.785</td>\n",
       "      <td>7.579757e+06</td>\n",
       "    </tr>\n",
       "    <tr>\n",
       "      <th>18</th>\n",
       "      <td>0.790</td>\n",
       "      <td>7.579757e+06</td>\n",
       "    </tr>\n",
       "    <tr>\n",
       "      <th>19</th>\n",
       "      <td>0.795</td>\n",
       "      <td>8.502566e+06</td>\n",
       "    </tr>\n",
       "    <tr>\n",
       "      <th>20</th>\n",
       "      <td>0.800</td>\n",
       "      <td>8.502566e+06</td>\n",
       "    </tr>\n",
       "    <tr>\n",
       "      <th>21</th>\n",
       "      <td>0.805</td>\n",
       "      <td>8.502566e+06</td>\n",
       "    </tr>\n",
       "    <tr>\n",
       "      <th>22</th>\n",
       "      <td>0.810</td>\n",
       "      <td>8.502566e+06</td>\n",
       "    </tr>\n",
       "    <tr>\n",
       "      <th>23</th>\n",
       "      <td>0.815</td>\n",
       "      <td>6.088063e+06</td>\n",
       "    </tr>\n",
       "    <tr>\n",
       "      <th>24</th>\n",
       "      <td>0.820</td>\n",
       "      <td>6.088063e+06</td>\n",
       "    </tr>\n",
       "    <tr>\n",
       "      <th>25</th>\n",
       "      <td>0.825</td>\n",
       "      <td>6.088063e+06</td>\n",
       "    </tr>\n",
       "    <tr>\n",
       "      <th>26</th>\n",
       "      <td>0.830</td>\n",
       "      <td>6.088063e+06</td>\n",
       "    </tr>\n",
       "    <tr>\n",
       "      <th>27</th>\n",
       "      <td>0.835</td>\n",
       "      <td>6.088063e+06</td>\n",
       "    </tr>\n",
       "    <tr>\n",
       "      <th>28</th>\n",
       "      <td>0.840</td>\n",
       "      <td>5.439196e+06</td>\n",
       "    </tr>\n",
       "    <tr>\n",
       "      <th>29</th>\n",
       "      <td>0.845</td>\n",
       "      <td>5.439196e+06</td>\n",
       "    </tr>\n",
       "    <tr>\n",
       "      <th>30</th>\n",
       "      <td>0.850</td>\n",
       "      <td>5.439196e+06</td>\n",
       "    </tr>\n",
       "    <tr>\n",
       "      <th>31</th>\n",
       "      <td>0.855</td>\n",
       "      <td>5.439196e+06</td>\n",
       "    </tr>\n",
       "    <tr>\n",
       "      <th>32</th>\n",
       "      <td>0.860</td>\n",
       "      <td>5.439196e+06</td>\n",
       "    </tr>\n",
       "    <tr>\n",
       "      <th>33</th>\n",
       "      <td>0.865</td>\n",
       "      <td>5.880591e+06</td>\n",
       "    </tr>\n",
       "    <tr>\n",
       "      <th>34</th>\n",
       "      <td>0.870</td>\n",
       "      <td>5.880591e+06</td>\n",
       "    </tr>\n",
       "    <tr>\n",
       "      <th>35</th>\n",
       "      <td>0.875</td>\n",
       "      <td>5.880591e+06</td>\n",
       "    </tr>\n",
       "    <tr>\n",
       "      <th>36</th>\n",
       "      <td>0.880</td>\n",
       "      <td>5.880591e+06</td>\n",
       "    </tr>\n",
       "    <tr>\n",
       "      <th>37</th>\n",
       "      <td>0.885</td>\n",
       "      <td>5.332235e+06</td>\n",
       "    </tr>\n",
       "    <tr>\n",
       "      <th>38</th>\n",
       "      <td>0.890</td>\n",
       "      <td>5.332235e+06</td>\n",
       "    </tr>\n",
       "    <tr>\n",
       "      <th>39</th>\n",
       "      <td>0.895</td>\n",
       "      <td>5.332235e+06</td>\n",
       "    </tr>\n",
       "    <tr>\n",
       "      <th>40</th>\n",
       "      <td>0.900</td>\n",
       "      <td>5.332235e+06</td>\n",
       "    </tr>\n",
       "    <tr>\n",
       "      <th>41</th>\n",
       "      <td>0.905</td>\n",
       "      <td>5.332235e+06</td>\n",
       "    </tr>\n",
       "    <tr>\n",
       "      <th>42</th>\n",
       "      <td>0.910</td>\n",
       "      <td>8.002477e+06</td>\n",
       "    </tr>\n",
       "    <tr>\n",
       "      <th>43</th>\n",
       "      <td>0.915</td>\n",
       "      <td>8.002477e+06</td>\n",
       "    </tr>\n",
       "    <tr>\n",
       "      <th>44</th>\n",
       "      <td>0.920</td>\n",
       "      <td>8.002477e+06</td>\n",
       "    </tr>\n",
       "    <tr>\n",
       "      <th>45</th>\n",
       "      <td>0.925</td>\n",
       "      <td>8.002477e+06</td>\n",
       "    </tr>\n",
       "    <tr>\n",
       "      <th>46</th>\n",
       "      <td>0.930</td>\n",
       "      <td>8.002477e+06</td>\n",
       "    </tr>\n",
       "    <tr>\n",
       "      <th>47</th>\n",
       "      <td>0.935</td>\n",
       "      <td>5.578045e+06</td>\n",
       "    </tr>\n",
       "    <tr>\n",
       "      <th>48</th>\n",
       "      <td>0.940</td>\n",
       "      <td>5.578045e+06</td>\n",
       "    </tr>\n",
       "    <tr>\n",
       "      <th>49</th>\n",
       "      <td>0.945</td>\n",
       "      <td>5.578045e+06</td>\n",
       "    </tr>\n",
       "  </tbody>\n",
       "</table>\n",
       "</div>"
      ],
      "text/plain": [
       "    ratio          rmse\n",
       "0   0.700  6.371172e+06\n",
       "1   0.705  6.371172e+06\n",
       "2   0.710  6.371172e+06\n",
       "3   0.715  6.371172e+06\n",
       "4   0.720  6.371172e+06\n",
       "5   0.725  9.706951e+06\n",
       "6   0.730  9.706951e+06\n",
       "7   0.735  9.706951e+06\n",
       "8   0.740  9.706951e+06\n",
       "9   0.745  8.520505e+06\n",
       "10  0.750  8.520505e+06\n",
       "11  0.755  8.520505e+06\n",
       "12  0.760  8.520505e+06\n",
       "13  0.765  8.520505e+06\n",
       "14  0.770  7.579757e+06\n",
       "15  0.775  7.579757e+06\n",
       "16  0.780  7.579757e+06\n",
       "17  0.785  7.579757e+06\n",
       "18  0.790  7.579757e+06\n",
       "19  0.795  8.502566e+06\n",
       "20  0.800  8.502566e+06\n",
       "21  0.805  8.502566e+06\n",
       "22  0.810  8.502566e+06\n",
       "23  0.815  6.088063e+06\n",
       "24  0.820  6.088063e+06\n",
       "25  0.825  6.088063e+06\n",
       "26  0.830  6.088063e+06\n",
       "27  0.835  6.088063e+06\n",
       "28  0.840  5.439196e+06\n",
       "29  0.845  5.439196e+06\n",
       "30  0.850  5.439196e+06\n",
       "31  0.855  5.439196e+06\n",
       "32  0.860  5.439196e+06\n",
       "33  0.865  5.880591e+06\n",
       "34  0.870  5.880591e+06\n",
       "35  0.875  5.880591e+06\n",
       "36  0.880  5.880591e+06\n",
       "37  0.885  5.332235e+06\n",
       "38  0.890  5.332235e+06\n",
       "39  0.895  5.332235e+06\n",
       "40  0.900  5.332235e+06\n",
       "41  0.905  5.332235e+06\n",
       "42  0.910  8.002477e+06\n",
       "43  0.915  8.002477e+06\n",
       "44  0.920  8.002477e+06\n",
       "45  0.925  8.002477e+06\n",
       "46  0.930  8.002477e+06\n",
       "47  0.935  5.578045e+06\n",
       "48  0.940  5.578045e+06\n",
       "49  0.945  5.578045e+06"
      ]
     },
     "execution_count": 57,
     "metadata": {},
     "output_type": "execute_result"
    }
   ],
   "source": [
    "ratio_rmse"
   ]
  },
  {
   "cell_type": "markdown",
   "metadata": {},
   "source": [
    "**Above dataframe contains the rmse(Root Mean Squared Error) at different ratios**"
   ]
  },
  {
   "cell_type": "code",
   "execution_count": 58,
   "metadata": {},
   "outputs": [
    {
     "data": {
      "image/png": "[encoded data removed]",
      "text/plain": [
       "<Figure size 1080x360 with 1 Axes>"
      ]
     },
     "metadata": {},
     "output_type": "display_data"
    }
   ],
   "source": [
    "plt.figure(figsize=(15,5))\n",
    "plt.plot(ratio_rmse.ratio, ratio_rmse.rmse, color=\"red\")\n",
    "plt.grid(True, color=\"black\")\n",
    "plt.gca().get_yaxis().get_major_formatter().set_scientific(False)\n",
    "plt.show()"
   ]
  },
  {
   "cell_type": "markdown",
   "metadata": {},
   "source": [
    "**Above plot shows the variation of rmse with the ratio. It can be inferred easily that the preferred value of split ratio is around 0.9**"
   ]
  },
  {
   "cell_type": "markdown",
   "metadata": {},
   "source": [
    "**Getting the proper data at that ratio.**"
   ]
  },
  {
   "cell_type": "code",
   "execution_count": 59,
   "metadata": {},
   "outputs": [],
   "source": [
    "train = data[:int(0.9*(len(data)))]\n",
    "valid = data[int(0.9*(len(data))):]"
   ]
  },
  {
   "cell_type": "markdown",
   "metadata": {},
   "source": [
    "**Applying the VAR model**"
   ]
  },
  {
   "cell_type": "code",
   "execution_count": 60,
   "metadata": {},
   "outputs": [],
   "source": [
    "model = VAR(endog=train)\n",
    "model_fit = model.fit()"
   ]
  },
  {
   "cell_type": "markdown",
   "metadata": {},
   "source": [
    "**Below is the forecast for the validation set.**"
   ]
  },
  {
   "cell_type": "code",
   "execution_count": 61,
   "metadata": {},
   "outputs": [],
   "source": [
    "yhat= model_fit.forecast(model_fit.y, steps=len(valid))"
   ]
  },
  {
   "cell_type": "code",
   "execution_count": 62,
   "metadata": {},
   "outputs": [
    {
     "data": {
      "text/plain": [
       "29.398257714950464"
      ]
     },
     "execution_count": 62,
     "metadata": {},
     "output_type": "execute_result"
    }
   ],
   "source": [
    "model_fit.aic"
   ]
  },
  {
   "cell_type": "code",
   "execution_count": 63,
   "metadata": {},
   "outputs": [
    {
     "data": {
      "text/plain": [
       "29.65948764673061"
      ]
     },
     "execution_count": 63,
     "metadata": {},
     "output_type": "execute_result"
    }
   ],
   "source": [
    "model_fit.bic"
   ]
  },
  {
   "cell_type": "markdown",
   "metadata": {},
   "source": [
    "**This function converts an array output into a series by taking mean of rows.**"
   ]
  },
  {
   "cell_type": "code",
   "execution_count": 64,
   "metadata": {},
   "outputs": [],
   "source": [
    "def converter(pick):\n",
    "    out=[]\n",
    "    for i in pick:\n",
    "        out.append(np.mean(i))\n",
    "    return pd.Series(out)"
   ]
  },
  {
   "cell_type": "markdown",
   "metadata": {},
   "source": [
    "**Converting the array data into series.**"
   ]
  },
  {
   "cell_type": "code",
   "execution_count": 65,
   "metadata": {},
   "outputs": [],
   "source": [
    "train=converter(train)\n",
    "valid=converter(valid)\n",
    "pred=converter(yhat)"
   ]
  },
  {
   "cell_type": "markdown",
   "metadata": {},
   "source": [
    "**Converting the output into dataframes.**"
   ]
  },
  {
   "cell_type": "code",
   "execution_count": 66,
   "metadata": {},
   "outputs": [],
   "source": [
    "def val(valid):\n",
    "    valid_df=pd.DataFrame()\n",
    "    valid_df[\"Amount\"]=valid\n",
    "    valid_df[\"TransactionDate\"]=ts[int(0.9*len(ts)):].index\n",
    "    valid_df=valid_df.set_index(\"TransactionDate\")\n",
    "    valid_df=valid_df[\"Amount\"]\n",
    "    return valid_df\n",
    "valid_df=val(valid)"
   ]
  },
  {
   "cell_type": "code",
   "execution_count": 67,
   "metadata": {},
   "outputs": [],
   "source": [
    "def trai(train):\n",
    "    train_df=pd.DataFrame()\n",
    "    train_df[\"Amount\"]=train\n",
    "    train_df[\"TransactionDate\"]=ts[:int(0.9*len(ts))].index\n",
    "    train_df=train_df.set_index(\"TransactionDate\")\n",
    "    train_df=train_df[\"Amount\"]\n",
    "    return train_df\n",
    "train_df=trai(train)"
   ]
  },
  {
   "cell_type": "code",
   "execution_count": 68,
   "metadata": {},
   "outputs": [],
   "source": [
    "def pr(pred):\n",
    "    pred_df=pd.DataFrame()\n",
    "    pred_df[\"Amount\"]=pred\n",
    "    pred_df[\"TransactionDate\"]=valid_df.index\n",
    "    pred_df=pred_df.set_index(\"TransactionDate\")\n",
    "    pred_df=pred_df[\"Amount\"]\n",
    "    return pred_df\n",
    "pred_df=pr(pred)"
   ]
  },
  {
   "cell_type": "markdown",
   "metadata": {},
   "source": [
    "**Below function connects the gap between the training set and the prediction set.**"
   ]
  },
  {
   "cell_type": "code",
   "execution_count": 69,
   "metadata": {},
   "outputs": [],
   "source": [
    "def pred_fin(predicted, train):\n",
    "    c=pd.Index(predicted.index)\n",
    "    c=c.insert(0, pd.to_datetime(train.index[-1]))\n",
    "    lis=list(predicted.values)\n",
    "    lis.insert(0,train[-1])\n",
    "    lis=pd.Series(lis,index=c)\n",
    "    prediction_final=lis.apply(lambda x:int(x))\n",
    "    return prediction_final"
   ]
  },
  {
   "cell_type": "markdown",
   "metadata": {},
   "source": [
    "**This is the final prediction.**"
   ]
  },
  {
   "cell_type": "code",
   "execution_count": 70,
   "metadata": {},
   "outputs": [],
   "source": [
    "pred_df=pred_fin(pred_df, train_df)\n",
    "valid_df=pred_fin(valid_df, train_df)"
   ]
  },
  {
   "cell_type": "code",
   "execution_count": 71,
   "metadata": {},
   "outputs": [
    {
     "data": {
      "text/plain": [
       "TransactionDate\n",
       "2018-10-31    1.747043e+07\n",
       "2018-11-30    1.022596e+07\n",
       "2018-12-31    5.996826e+06\n",
       "2019-01-31    8.353078e+06\n",
       "2019-02-28    6.672950e+06\n",
       "Name: Amount, dtype: float64"
      ]
     },
     "execution_count": 71,
     "metadata": {},
     "output_type": "execute_result"
    }
   ],
   "source": [
    "train_df.tail()"
   ]
  },
  {
   "cell_type": "code",
   "execution_count": 72,
   "metadata": {},
   "outputs": [
    {
     "data": {
      "text/plain": [
       "TransactionDate\n",
       "2019-02-28     6672950\n",
       "2019-03-31    11059775\n",
       "2019-04-30     7363200\n",
       "2019-05-31    16733469\n",
       "2019-06-30    13965581\n",
       "dtype: int64"
      ]
     },
     "execution_count": 72,
     "metadata": {},
     "output_type": "execute_result"
    }
   ],
   "source": [
    "valid_df.head()"
   ]
  },
  {
   "cell_type": "markdown",
   "metadata": {},
   "source": [
    "**Below plot shows the performance of VAR Model on validation dataset.**"
   ]
  },
  {
   "cell_type": "code",
   "execution_count": 73,
   "metadata": {},
   "outputs": [
    {
     "data": {
      "image/png": "[encoded data removed]",
      "text/plain": [
       "<Figure size 720x360 with 1 Axes>"
      ]
     },
     "metadata": {},
     "output_type": "display_data"
    }
   ],
   "source": [
    "plt.figure(figsize=(10,5))\n",
    "plt.plot(train_df, color=\"blue\", label=\"Training set\")\n",
    "plt.plot(valid_df, color=\"green\", label=\"validation set\")\n",
    "plt.plot(pred_df, color=\"red\", label= \"Forecast on validation set\")\n",
    "plt.grid(True, color=\"black\")\n",
    "plt.legend(loc=\"best\")\n",
    "plt.title(\"Forecast of Transaction amount for seller 2 using VAR model.\", color=\"red\")\n",
    "plt.gca().get_yaxis().get_major_formatter().set_scientific(False)\n",
    "plt.show()"
   ]
  },
  {
   "cell_type": "code",
   "execution_count": null,
   "metadata": {},
   "outputs": [],
   "source": []
  },
  {
   "cell_type": "code",
   "execution_count": 74,
   "metadata": {},
   "outputs": [
    {
     "data": {
      "text/html": [
       "<div>\n",
       "<style scoped>\n",
       "    .dataframe tbody tr th:only-of-type {\n",
       "        vertical-align: middle;\n",
       "    }\n",
       "\n",
       "    .dataframe tbody tr th {\n",
       "        vertical-align: top;\n",
       "    }\n",
       "\n",
       "    .dataframe thead th {\n",
       "        text-align: right;\n",
       "    }\n",
       "</style>\n",
       "<table border=\"1\" class=\"dataframe\">\n",
       "  <thead>\n",
       "    <tr style=\"text-align: right;\">\n",
       "      <th></th>\n",
       "      <th>TransactionDate</th>\n",
       "      <th>Amount</th>\n",
       "    </tr>\n",
       "    <tr>\n",
       "      <th>SellerId</th>\n",
       "      <th></th>\n",
       "      <th></th>\n",
       "    </tr>\n",
       "  </thead>\n",
       "  <tbody>\n",
       "    <tr>\n",
       "      <th>1</th>\n",
       "      <td>1</td>\n",
       "      <td>1</td>\n",
       "    </tr>\n",
       "    <tr>\n",
       "      <th>3</th>\n",
       "      <td>75</td>\n",
       "      <td>75</td>\n",
       "    </tr>\n",
       "    <tr>\n",
       "      <th>5</th>\n",
       "      <td>1430</td>\n",
       "      <td>1430</td>\n",
       "    </tr>\n",
       "    <tr>\n",
       "      <th>7</th>\n",
       "      <td>213</td>\n",
       "      <td>213</td>\n",
       "    </tr>\n",
       "    <tr>\n",
       "      <th>10</th>\n",
       "      <td>4</td>\n",
       "      <td>4</td>\n",
       "    </tr>\n",
       "    <tr>\n",
       "      <th>11</th>\n",
       "      <td>412</td>\n",
       "      <td>412</td>\n",
       "    </tr>\n",
       "    <tr>\n",
       "      <th>12</th>\n",
       "      <td>16</td>\n",
       "      <td>16</td>\n",
       "    </tr>\n",
       "    <tr>\n",
       "      <th>14</th>\n",
       "      <td>95</td>\n",
       "      <td>95</td>\n",
       "    </tr>\n",
       "    <tr>\n",
       "      <th>16</th>\n",
       "      <td>12595</td>\n",
       "      <td>12595</td>\n",
       "    </tr>\n",
       "    <tr>\n",
       "      <th>18</th>\n",
       "      <td>418</td>\n",
       "      <td>418</td>\n",
       "    </tr>\n",
       "    <tr>\n",
       "      <th>20</th>\n",
       "      <td>1236</td>\n",
       "      <td>1236</td>\n",
       "    </tr>\n",
       "    <tr>\n",
       "      <th>23</th>\n",
       "      <td>4</td>\n",
       "      <td>4</td>\n",
       "    </tr>\n",
       "    <tr>\n",
       "      <th>25</th>\n",
       "      <td>153</td>\n",
       "      <td>153</td>\n",
       "    </tr>\n",
       "    <tr>\n",
       "      <th>26</th>\n",
       "      <td>216</td>\n",
       "      <td>216</td>\n",
       "    </tr>\n",
       "  </tbody>\n",
       "</table>\n",
       "</div>"
      ],
      "text/plain": [
       "          TransactionDate  Amount\n",
       "SellerId                         \n",
       "1                       1       1\n",
       "3                      75      75\n",
       "5                    1430    1430\n",
       "7                     213     213\n",
       "10                      4       4\n",
       "11                    412     412\n",
       "12                     16      16\n",
       "14                     95      95\n",
       "16                  12595   12595\n",
       "18                    418     418\n",
       "20                   1236    1236\n",
       "23                      4       4\n",
       "25                    153     153\n",
       "26                    216     216"
      ]
     },
     "execution_count": 74,
     "metadata": {},
     "output_type": "execute_result"
    }
   ],
   "source": [
    "sales_fin.groupby(\"SellerId\").count()"
   ]
  },
  {
   "cell_type": "markdown",
   "metadata": {},
   "source": [
    "<font color=\"red\"> **VAR MODEL FOR SELLER 11 FROM SELLS RECEIPT DATA.**"
   ]
  },
  {
   "cell_type": "code",
   "execution_count": null,
   "metadata": {},
   "outputs": [],
   "source": []
  },
  {
   "cell_type": "markdown",
   "metadata": {},
   "source": [
    "**Below is the data extraction of seller 11 and converting it into time series.**"
   ]
  },
  {
   "cell_type": "code",
   "execution_count": 75,
   "metadata": {},
   "outputs": [],
   "source": [
    "data=sales_fin[sales_fin[\"SellerId\"]==11][[\"TransactionDate\",\"Amount\"]]\n",
    "data=data.set_index(\"TransactionDate\")\n",
    "data=data.groupby(pd.Grouper(freq=\"M\")).sum()\n",
    "ts=data[\"Amount\"]\n",
    "ts=ts.apply(lambda x: int(x))"
   ]
  },
  {
   "cell_type": "code",
   "execution_count": 76,
   "metadata": {},
   "outputs": [
    {
     "data": {
      "text/plain": [
       "8"
      ]
     },
     "execution_count": 76,
     "metadata": {},
     "output_type": "execute_result"
    }
   ],
   "source": [
    "len(ts)"
   ]
  },
  {
   "cell_type": "code",
   "execution_count": 77,
   "metadata": {},
   "outputs": [],
   "source": [
    "from statsmodels.tsa.vector_ar.var_model import VAR\n",
    "import random\n",
    "random.seed(20)"
   ]
  },
  {
   "cell_type": "code",
   "execution_count": 78,
   "metadata": {},
   "outputs": [],
   "source": [
    "data = list()\n",
    "for i in ts:\n",
    "    v1 = i + random.random()\n",
    "    v2 = v1 + random.random()\n",
    "    row = [v1, v2]\n",
    "    data.append(row)"
   ]
  },
  {
   "cell_type": "code",
   "execution_count": 79,
   "metadata": {},
   "outputs": [],
   "source": [
    "ratio=[]\n",
    "rmse=[]\n",
    "for k in np.arange(0.7,0.95,0.005):\n",
    "    train = data[:int(k*(len(data)))]\n",
    "    valid = data[int(k*(len(data))):]\n",
    "    model = VAR(endog=train)\n",
    "    model_fit = model.fit()\n",
    "    yhat= model_fit.forecast(model_fit.y, steps=len(valid))\n",
    "    train=converter(train)\n",
    "    valid=converter(valid)\n",
    "    pred=converter(yhat)\n",
    "    rmse.append(np.sqrt(np.mean((valid-pred)**2)))\n",
    "    ratio.append(k)"
   ]
  },
  {
   "cell_type": "code",
   "execution_count": 80,
   "metadata": {},
   "outputs": [],
   "source": [
    "ratio_rmse=pd.DataFrame()\n",
    "ratio_rmse[\"ratio\"]=ratio\n",
    "ratio_rmse[\"rmse\"]=rmse"
   ]
  },
  {
   "cell_type": "code",
   "execution_count": 81,
   "metadata": {},
   "outputs": [
    {
     "data": {
      "image/png": "[encoded data removed]",
      "text/plain": [
       "<Figure size 1080x360 with 1 Axes>"
      ]
     },
     "metadata": {},
     "output_type": "display_data"
    }
   ],
   "source": [
    "plt.figure(figsize=(15,5))\n",
    "plt.plot(ratio_rmse.ratio, ratio_rmse.rmse, color=\"red\")\n",
    "plt.grid(True, color=\"black\")\n",
    "plt.gca().get_yaxis().get_major_formatter().set_scientific(False)\n",
    "plt.show()"
   ]
  },
  {
   "cell_type": "code",
   "execution_count": null,
   "metadata": {},
   "outputs": [],
   "source": []
  },
  {
   "cell_type": "code",
   "execution_count": null,
   "metadata": {},
   "outputs": [],
   "source": []
  },
  {
   "cell_type": "code",
   "execution_count": 82,
   "metadata": {},
   "outputs": [],
   "source": [
    "train = data[:int(0.70*(len(data)))]\n",
    "valid = data[int(0.70*(len(data))):]"
   ]
  },
  {
   "cell_type": "code",
   "execution_count": 83,
   "metadata": {},
   "outputs": [],
   "source": [
    "model = VAR(endog=train)\n",
    "model_fit = model.fit()"
   ]
  },
  {
   "cell_type": "code",
   "execution_count": 84,
   "metadata": {},
   "outputs": [],
   "source": [
    "yhat= model_fit.forecast(model_fit.y, steps=len(valid))"
   ]
  },
  {
   "cell_type": "code",
   "execution_count": 85,
   "metadata": {},
   "outputs": [
    {
     "data": {
      "text/plain": [
       "array([[ 5476899.49650115,  5476901.25099571],\n",
       "       [11905548.2191574 , 11905547.05177696],\n",
       "       [  -19034.5074051 ,   -19030.28806679]])"
      ]
     },
     "execution_count": 85,
     "metadata": {},
     "output_type": "execute_result"
    }
   ],
   "source": [
    "yhat"
   ]
  },
  {
   "cell_type": "code",
   "execution_count": 86,
   "metadata": {},
   "outputs": [],
   "source": [
    "def converter(pick):\n",
    "    out=[]\n",
    "    for i in pick:\n",
    "        out.append(np.mean(i))\n",
    "    return pd.Series(out)"
   ]
  },
  {
   "cell_type": "code",
   "execution_count": 87,
   "metadata": {},
   "outputs": [],
   "source": [
    "train=converter(train)\n",
    "valid=converter(valid)\n",
    "pred=converter(yhat)"
   ]
  },
  {
   "cell_type": "code",
   "execution_count": null,
   "metadata": {},
   "outputs": [],
   "source": []
  },
  {
   "cell_type": "code",
   "execution_count": 88,
   "metadata": {},
   "outputs": [],
   "source": [
    "def val(valid):\n",
    "    valid_df=pd.DataFrame()\n",
    "    valid_df[\"Amount\"]=valid\n",
    "    valid_df[\"TransactionDate\"]=ts[int(0.7*len(ts)):].index\n",
    "    valid_df=valid_df.set_index(\"TransactionDate\")\n",
    "    valid_df=valid_df[\"Amount\"]\n",
    "    return valid_df"
   ]
  },
  {
   "cell_type": "code",
   "execution_count": 89,
   "metadata": {},
   "outputs": [],
   "source": [
    "valid_df=val(valid)"
   ]
  },
  {
   "cell_type": "code",
   "execution_count": 90,
   "metadata": {},
   "outputs": [],
   "source": [
    "def trai(train):\n",
    "    train_df=pd.DataFrame()\n",
    "    train_df[\"Amount\"]=train\n",
    "    train_df[\"TransactionDate\"]=ts[:int(0.7*len(ts))].index\n",
    "    train_df=train_df.set_index(\"TransactionDate\")\n",
    "    train_df=train_df[\"Amount\"]\n",
    "    return train_df\n",
    "train_df=trai(train)"
   ]
  },
  {
   "cell_type": "code",
   "execution_count": 91,
   "metadata": {},
   "outputs": [],
   "source": [
    "def pr(pred):\n",
    "    pred_df=pd.DataFrame()\n",
    "    pred_df[\"Amount\"]=pred\n",
    "    pred_df[\"TransactionDate\"]=ts[int(0.7*len(ts)):].index\n",
    "    pred_df=pred_df.set_index(\"TransactionDate\")\n",
    "    pred_df=pred_df[\"Amount\"]\n",
    "    return pred_df\n",
    "pred_df=pr(pred)"
   ]
  },
  {
   "cell_type": "code",
   "execution_count": 92,
   "metadata": {},
   "outputs": [],
   "source": [
    "pred_df=pred_fin(pred_df, train_df)\n",
    "valid_df=pred_fin(valid_df, train_df)"
   ]
  },
  {
   "cell_type": "code",
   "execution_count": 93,
   "metadata": {},
   "outputs": [
    {
     "data": {
      "image/png": "[encoded data removed]",
      "text/plain": [
       "<Figure size 1080x360 with 1 Axes>"
      ]
     },
     "metadata": {},
     "output_type": "display_data"
    }
   ],
   "source": [
    "plt.figure(figsize=(15,5))\n",
    "plt.plot(train_df)\n",
    "plt.plot(valid_df, color=\"green\")\n",
    "plt.plot(pred_df, color=\"red\")\n",
    "plt.gca().get_yaxis().get_major_formatter().set_scientific(False)\n",
    "plt.show()"
   ]
  },
  {
   "cell_type": "markdown",
   "metadata": {},
   "source": [
    "<font color=\"red\"> **VARMAX MODEL FOR SELLER 11 FROM SELLS RECEIPT DATA**</font>"
   ]
  },
  {
   "cell_type": "markdown",
   "metadata": {},
   "source": [
    "**Below is the data preparation for seller 11 from sells receipt data.**"
   ]
  },
  {
   "cell_type": "code",
   "execution_count": 94,
   "metadata": {},
   "outputs": [],
   "source": [
    "data=sales_fin[sales_fin[\"SellerId\"]==11][[\"TransactionDate\",\"Amount\"]]\n",
    "data=data.set_index(\"TransactionDate\")\n",
    "data=data.groupby(pd.Grouper(freq=\"M\")).sum()\n",
    "ts=data[\"Amount\"]\n",
    "ts=ts.apply(lambda x: int(x))"
   ]
  },
  {
   "cell_type": "code",
   "execution_count": 95,
   "metadata": {},
   "outputs": [
    {
     "data": {
      "text/plain": [
       "8"
      ]
     },
     "execution_count": 95,
     "metadata": {},
     "output_type": "execute_result"
    }
   ],
   "source": [
    "len(ts)"
   ]
  },
  {
   "cell_type": "code",
   "execution_count": 96,
   "metadata": {},
   "outputs": [
    {
     "data": {
      "text/plain": [
       "TransactionDate\n",
       "2019-03-31     7875584\n",
       "2019-04-30     8857634\n",
       "2019-05-31    12058584\n",
       "2019-06-30    16479200\n",
       "2019-07-31     2627300\n",
       "Freq: M, Name: Amount, dtype: int64"
      ]
     },
     "execution_count": 96,
     "metadata": {},
     "output_type": "execute_result"
    }
   ],
   "source": [
    "ts.tail()"
   ]
  },
  {
   "cell_type": "markdown",
   "metadata": {},
   "source": [
    "**Importing the requisite libraries for VARMAX model**"
   ]
  },
  {
   "cell_type": "code",
   "execution_count": 97,
   "metadata": {},
   "outputs": [],
   "source": [
    "from statsmodels.tsa.statespace.varmax import VARMAX\n",
    "import random\n",
    "random.seed(0)"
   ]
  },
  {
   "cell_type": "markdown",
   "metadata": {},
   "source": [
    "**Creating the dataset in the format needed for the model.**"
   ]
  },
  {
   "cell_type": "code",
   "execution_count": 98,
   "metadata": {},
   "outputs": [],
   "source": [
    "data = list()\n",
    "for i in ts:\n",
    "    v1 = i+random.random()\n",
    "    v2 = v1 + random.random()\n",
    "    row = [v1, v2]\n",
    "    data.append(row)\n",
    "    data_exog = [i + random.random() for i in ts]"
   ]
  },
  {
   "cell_type": "markdown",
   "metadata": {},
   "source": [
    "**Here is the dataset**"
   ]
  },
  {
   "cell_type": "code",
   "execution_count": 99,
   "metadata": {},
   "outputs": [
    {
     "data": {
      "text/plain": [
       "[[2500.844421851525, 2501.6023762544655],\n",
       " [10311450.908112885, 10311451.412799742],\n",
       " [6713150.3101475695, 6713151.039979318],\n",
       " [7875584.477009777, 7875585.342319705],\n",
       " [8857634.001142818, 8857634.494720684],\n",
       " [12058584.803179469, 12058585.25114904],\n",
       " [16479200.814466864, 16479201.354750471],\n",
       " [2627300.1893913285, 2627300.376120857]]"
      ]
     },
     "execution_count": 99,
     "metadata": {},
     "output_type": "execute_result"
    }
   ],
   "source": [
    "data"
   ]
  },
  {
   "cell_type": "markdown",
   "metadata": {},
   "source": [
    "**Applying the VARMAX model with order 1 of autoregression**"
   ]
  },
  {
   "cell_type": "code",
   "execution_count": 100,
   "metadata": {},
   "outputs": [],
   "source": [
    "model = VARMAX(data, exog=data_exog, order=(1, 0))\n",
    "model_fit = model.fit(disp=False)"
   ]
  },
  {
   "cell_type": "markdown",
   "metadata": {},
   "source": [
    "**Predicting the outcome for coming 6 months.**"
   ]
  },
  {
   "cell_type": "code",
   "execution_count": 101,
   "metadata": {},
   "outputs": [],
   "source": [
    "pred=model_fit.predict(steps=6)"
   ]
  },
  {
   "cell_type": "markdown",
   "metadata": {},
   "source": [
    "**Converting the outcome into a series.**"
   ]
  },
  {
   "cell_type": "code",
   "execution_count": 102,
   "metadata": {},
   "outputs": [
    {
     "data": {
      "text/plain": [
       "97949199.26838478"
      ]
     },
     "execution_count": 102,
     "metadata": {},
     "output_type": "execute_result"
    }
   ],
   "source": [
    "model_fit.aic"
   ]
  },
  {
   "cell_type": "code",
   "execution_count": 103,
   "metadata": {},
   "outputs": [],
   "source": [
    "out=[]\n",
    "for i in pred:\n",
    "    out.append(np.mean(i))\n",
    "out=pd.Series(out)"
   ]
  },
  {
   "cell_type": "markdown",
   "metadata": {},
   "source": [
    "**Making of dataframe of the outcome in the correct format.**"
   ]
  },
  {
   "cell_type": "code",
   "execution_count": 104,
   "metadata": {},
   "outputs": [],
   "source": [
    "ind=pd.date_range(\"2019-08-30\", \"2019-12-31\", freq=\"M\")\n",
    "prediction=pd.DataFrame()\n",
    "prediction[\"TransactionDate\"]=ind\n",
    "prediction[\"Amount\"]=out\n",
    "prediction=prediction.set_index(\"TransactionDate\")\n",
    "prediction=prediction[\"Amount\"]"
   ]
  },
  {
   "cell_type": "markdown",
   "metadata": {},
   "source": [
    "**Below is the connection of prediction with the time series at last index of time series.**"
   ]
  },
  {
   "cell_type": "code",
   "execution_count": 105,
   "metadata": {},
   "outputs": [],
   "source": [
    "pred_final=pred_fin(prediction, ts)"
   ]
  },
  {
   "cell_type": "markdown",
   "metadata": {},
   "source": [
    "**Below plot is showing the forecast for seller 11 from invoices data using the VARMAX model.**"
   ]
  },
  {
   "cell_type": "code",
   "execution_count": 106,
   "metadata": {},
   "outputs": [
    {
     "data": {
      "image/png": "[encoded data removed]",
      "text/plain": [
       "<Figure size 720x360 with 1 Axes>"
      ]
     },
     "metadata": {},
     "output_type": "display_data"
    }
   ],
   "source": [
    "plt.figure(figsize=(10,5))\n",
    "plt.plot(ts,color=\"blue\")\n",
    "plt.plot(pred_final, color=\"red\")\n",
    "plt.title(\"Forecast of sells amount, seller Id 11, VARMAX model\", color=\"red\")\n",
    "plt.grid(True, color=\"black\")\n",
    "plt.gca().get_yaxis().get_major_formatter().set_scientific(False)\n",
    "plt.show()"
   ]
  },
  {
   "cell_type": "markdown",
   "metadata": {},
   "source": [
    "<font color=\"red\"> **VARMAX MODEL FOR SELLER 2 FROM INVOICE DATA**</font>"
   ]
  },
  {
   "cell_type": "code",
   "execution_count": 107,
   "metadata": {},
   "outputs": [],
   "source": [
    "data=invoice_fin[invoice_fin[\"SellerId\"]==2][[\"TransactionDate\",\"Trans_amount\"]]\n",
    "data=data.set_index(\"TransactionDate\")\n",
    "data=data.groupby(pd.Grouper(freq=\"M\")).sum()\n",
    "ts=data[\"Trans_amount\"]\n",
    "ts=ts.apply(lambda x: int(x))\n",
    "ts=ts[:-1]"
   ]
  },
  {
   "cell_type": "code",
   "execution_count": 108,
   "metadata": {},
   "outputs": [
    {
     "data": {
      "text/plain": [
       "42"
      ]
     },
     "execution_count": 108,
     "metadata": {},
     "output_type": "execute_result"
    }
   ],
   "source": [
    "len(ts)"
   ]
  },
  {
   "cell_type": "code",
   "execution_count": 109,
   "metadata": {},
   "outputs": [],
   "source": [
    "from statsmodels.tsa.stattools import adfuller\n",
    "def dft(ts):\n",
    "    dftest = adfuller(ts, autolag='AIC')\n",
    "    dfoutput = pd.Series(dftest[0:4], index=['Test_stats','p-value','#Lags Used','Number of Observations Used'])\n",
    "    for key,value in dftest[4].items():\n",
    "        dfoutput['Critical Value (%s)'%key] = value\n",
    "    return(dfoutput)"
   ]
  },
  {
   "cell_type": "code",
   "execution_count": 110,
   "metadata": {},
   "outputs": [
    {
     "data": {
      "text/plain": [
       "Test_stats                     -3.545249\n",
       "p-value                         0.006898\n",
       "#Lags Used                      3.000000\n",
       "Number of Observations Used    38.000000\n",
       "Critical Value (1%)            -3.615509\n",
       "Critical Value (5%)            -2.941262\n",
       "Critical Value (10%)           -2.609200\n",
       "dtype: float64"
      ]
     },
     "execution_count": 110,
     "metadata": {},
     "output_type": "execute_result"
    }
   ],
   "source": [
    "dft(ts)"
   ]
  },
  {
   "cell_type": "code",
   "execution_count": 111,
   "metadata": {},
   "outputs": [
    {
     "data": {
      "text/plain": [
       "TransactionDate\n",
       "2019-02-28     6672950\n",
       "2019-03-31    11059775\n",
       "2019-04-30     7363200\n",
       "2019-05-31    16733469\n",
       "2019-06-30    13965581\n",
       "Freq: M, Name: Trans_amount, dtype: int64"
      ]
     },
     "execution_count": 111,
     "metadata": {},
     "output_type": "execute_result"
    }
   ],
   "source": [
    "ts.tail()"
   ]
  },
  {
   "cell_type": "code",
   "execution_count": 112,
   "metadata": {},
   "outputs": [],
   "source": [
    "from statsmodels.tsa.statespace.varmax import VARMAX\n",
    "import random\n",
    "random.seed(1)"
   ]
  },
  {
   "cell_type": "code",
   "execution_count": 113,
   "metadata": {},
   "outputs": [],
   "source": [
    "data = list()\n",
    "for i in ts:\n",
    "    v1 = i+random.random()\n",
    "    v2 = v1 + random.random()\n",
    "    v3=v2+random.random()\n",
    "    row = [v1, v2,v3]\n",
    "    data.append(row)\n",
    "    data_exog = [i + random.random() for i in ts]"
   ]
  },
  {
   "cell_type": "code",
   "execution_count": 114,
   "metadata": {},
   "outputs": [],
   "source": [
    "model = VARMAX(data, exog=data_exog, order=(1, 0))\n",
    "model_fit = model.fit(disp=False)"
   ]
  },
  {
   "cell_type": "code",
   "execution_count": 115,
   "metadata": {},
   "outputs": [
    {
     "data": {
      "text/plain": [
       "3239344142.6586823"
      ]
     },
     "execution_count": 115,
     "metadata": {},
     "output_type": "execute_result"
    }
   ],
   "source": [
    "model_fit.aic"
   ]
  },
  {
   "cell_type": "code",
   "execution_count": 116,
   "metadata": {},
   "outputs": [
    {
     "data": {
      "text/plain": [
       "3239344179.1497445"
      ]
     },
     "execution_count": 116,
     "metadata": {},
     "output_type": "execute_result"
    }
   ],
   "source": [
    "model_fit.bic"
   ]
  },
  {
   "cell_type": "code",
   "execution_count": 117,
   "metadata": {},
   "outputs": [],
   "source": [
    "pred=model_fit.predict(steps=6)"
   ]
  },
  {
   "cell_type": "code",
   "execution_count": 118,
   "metadata": {},
   "outputs": [],
   "source": [
    "out=[]\n",
    "for i in pred:\n",
    "    out.append(np.mean(i))\n",
    "out=pd.Series(out)"
   ]
  },
  {
   "cell_type": "code",
   "execution_count": 119,
   "metadata": {},
   "outputs": [
    {
     "data": {
      "text/plain": [
       "TransactionDate\n",
       "2019-02-28     6672950\n",
       "2019-03-31    11059775\n",
       "2019-04-30     7363200\n",
       "2019-05-31    16733469\n",
       "2019-06-30    13965581\n",
       "Freq: M, Name: Trans_amount, dtype: int64"
      ]
     },
     "execution_count": 119,
     "metadata": {},
     "output_type": "execute_result"
    }
   ],
   "source": [
    "ts.tail()"
   ]
  },
  {
   "cell_type": "code",
   "execution_count": 120,
   "metadata": {},
   "outputs": [],
   "source": [
    "ind=pd.date_range(\"2019-07-31\", \"2019-12-31\", freq=\"M\")\n",
    "prediction=pd.DataFrame()\n",
    "prediction[\"TransactionDate\"]=ind\n",
    "prediction[\"Amount\"]=out\n",
    "prediction=prediction.set_index(\"TransactionDate\")\n",
    "prediction=prediction[\"Amount\"]"
   ]
  },
  {
   "cell_type": "code",
   "execution_count": 121,
   "metadata": {},
   "outputs": [],
   "source": [
    "pred_final=pred_fin(prediction, ts)"
   ]
  },
  {
   "cell_type": "code",
   "execution_count": 122,
   "metadata": {},
   "outputs": [
    {
     "data": {
      "image/png": "[encoded data removed]",
      "text/plain": [
       "<Figure size 720x360 with 1 Axes>"
      ]
     },
     "metadata": {},
     "output_type": "display_data"
    }
   ],
   "source": [
    "plt.figure(figsize=(10,5))\n",
    "plt.plot(ts,color=\"blue\")\n",
    "plt.plot(pred_final, color=\"red\")\n",
    "plt.grid(True, color=\"black\")\n",
    "plt.title(\"Forecast of Transaction amount for seller 2 using VARMAX model.\", color=\"red\")\n",
    "plt.gca().get_yaxis().get_major_formatter().set_scientific(False)\n",
    "plt.show()"
   ]
  },
  {
   "cell_type": "code",
   "execution_count": null,
   "metadata": {},
   "outputs": [],
   "source": []
  },
  {
   "cell_type": "code",
   "execution_count": null,
   "metadata": {},
   "outputs": [],
   "source": []
  },
  {
   "cell_type": "code",
   "execution_count": null,
   "metadata": {},
   "outputs": [],
   "source": []
  }
 ],
 "metadata": {
  "kernelspec": {
   "display_name": "Python 3",
   "language": "python",
   "name": "python3"
  },
  "language_info": {
   "codemirror_mode": {
    "name": "ipython",
    "version": 3
   },
   "file_extension": ".py",
   "mimetype": "text/x-python",
   "name": "python",
   "nbconvert_exporter": "python",
   "pygments_lexer": "ipython3",
   "version": "3.7.3"
  }
 },
 "nbformat": 4,
 "nbformat_minor": 2
}
