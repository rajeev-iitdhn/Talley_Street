{
 "cells": [
  {
   "cell_type": "code",
   "execution_count": 59,
   "metadata": {},
   "outputs": [],
   "source": [
    "#Importing the prerequisite libraries that are to be used further.\n",
    "import pandas as pd\n",
    "import warnings\n",
    "import itertools\n",
    "import numpy as np\n",
    "import matplotlib.pyplot as plt\n",
    "warnings.filterwarnings(\"ignore\")\n",
    "plt.style.use('fivethirtyeight')\n",
    "import statsmodels.api as sm\n",
    "import matplotlib.pyplot as plt"
   ]
  },
  {
   "cell_type": "code",
   "execution_count": 60,
   "metadata": {},
   "outputs": [],
   "source": [
    "payment=pd.read_csv(\"seller_buyer_paymentdetails.csv\")\n",
    "payment[\"TransactionDate\"]=pd.to_datetime(pd.to_datetime(payment[\"TransactionDate\"]).dt.date)\n",
    "payment[\"PaymentDate\"]=pd.to_datetime(pd.to_datetime(payment[\"PaymentDate\"]).dt.date)"
   ]
  },
  {
   "cell_type": "code",
   "execution_count": 61,
   "metadata": {},
   "outputs": [],
   "source": [
    "sel=payment[payment.SellerId==6][[\"TransactionDate\",\"Amount\"]]\n",
    "sel=sel.set_index(\"TransactionDate\")\n",
    "sel = sel.groupby(pd.Grouper(freq=\"M\")).sum()\n",
    "sel[\"Amount\"]=sel.Amount.apply(lambda x:int(x))\n",
    "ts=sel[\"Amount\"]"
   ]
  },
  {
   "cell_type": "code",
   "execution_count": 62,
   "metadata": {},
   "outputs": [
    {
     "data": {
      "text/plain": [
       "TransactionDate\n",
       "2018-07-31    5409100\n",
       "2018-08-31    4636300\n",
       "2018-09-30    5575000\n",
       "2018-10-31    7517500\n",
       "2018-11-30    4119162\n",
       "Freq: M, Name: Amount, dtype: int64"
      ]
     },
     "execution_count": 62,
     "metadata": {},
     "output_type": "execute_result"
    }
   ],
   "source": [
    "ts.head()"
   ]
  },
  {
   "cell_type": "code",
   "execution_count": 63,
   "metadata": {},
   "outputs": [
    {
     "data": {
      "text/plain": [
       "TransactionDate\n",
       "2019-01-31    27874703\n",
       "2019-02-28     8196776\n",
       "2019-03-31    16678400\n",
       "2019-04-30    16455700\n",
       "2019-05-31     1500000\n",
       "Freq: M, Name: Amount, dtype: int64"
      ]
     },
     "execution_count": 63,
     "metadata": {},
     "output_type": "execute_result"
    }
   ],
   "source": [
    "ts.tail()"
   ]
  },
  {
   "cell_type": "code",
   "execution_count": 73,
   "metadata": {},
   "outputs": [],
   "source": [
    "from statsmodels.tsa.vector_ar.var_model import VAR\n",
    "from random import random"
   ]
  },
  {
   "cell_type": "code",
   "execution_count": 74,
   "metadata": {},
   "outputs": [],
   "source": [
    "data=list()"
   ]
  },
  {
   "cell_type": "code",
   "execution_count": 75,
   "metadata": {},
   "outputs": [],
   "source": [
    "for i in ts:\n",
    "    v1=i+ random()\n",
    "    v2=v1+random()\n",
    "    row=[v1,v2]\n",
    "    data.append(row)"
   ]
  },
  {
   "cell_type": "code",
   "execution_count": 76,
   "metadata": {},
   "outputs": [],
   "source": [
    "data.append(row)"
   ]
  },
  {
   "cell_type": "code",
   "execution_count": 77,
   "metadata": {
    "scrolled": true
   },
   "outputs": [],
   "source": [
    "model = VAR(data)\n",
    "model_fit = model.fit()"
   ]
  },
  {
   "cell_type": "code",
   "execution_count": 80,
   "metadata": {},
   "outputs": [
    {
     "data": {
      "text/plain": [
       "[[5409100.286052903, 5409100.499031992],\n",
       " [4636300.541936689, 4636300.683652862],\n",
       " [5575000.15831139, 5575000.387755487],\n",
       " [7517500.281611239, 7517500.322751],\n",
       " [4119162.351729623, 4119162.8465696163],\n",
       " [600000.1779859615, 600001.0140234819],\n",
       " [27874703.83766116, 27874704.26024441],\n",
       " [8196776.11205525, 8196776.879593346],\n",
       " [16678400.953742113, 16678401.257965375],\n",
       " [16455700.228500241, 16455700.549974317],\n",
       " [1500000.8930557992, 1500001.6473990928],\n",
       " [1500000.8930557992, 1500001.6473990928]]"
      ]
     },
     "execution_count": 80,
     "metadata": {},
     "output_type": "execute_result"
    }
   ],
   "source": [
    "data"
   ]
  },
  {
   "cell_type": "code",
   "execution_count": 82,
   "metadata": {},
   "outputs": [],
   "source": [
    "forecast=model_fit.forecast(model_fit.y, steps=1)"
   ]
  },
  {
   "cell_type": "code",
   "execution_count": null,
   "metadata": {},
   "outputs": [],
   "source": []
  },
  {
   "cell_type": "code",
   "execution_count": null,
   "metadata": {},
   "outputs": [],
   "source": []
  },
  {
   "cell_type": "markdown",
   "metadata": {},
   "source": [
    "**Holts winter Exponential forecast for low data points series**"
   ]
  },
  {
   "cell_type": "code",
   "execution_count": 38,
   "metadata": {},
   "outputs": [],
   "source": [
    "from statsmodels.tsa.holtwinters import ExponentialSmoothing\n",
    "model = ExponentialSmoothing(ts)\n",
    "model_fit = model.fit()"
   ]
  },
  {
   "cell_type": "code",
   "execution_count": 54,
   "metadata": {},
   "outputs": [],
   "source": [
    "forecast=model_fit.predict(\"2019-06-30\", \"2019-12-31\")"
   ]
  },
  {
   "cell_type": "code",
   "execution_count": 56,
   "metadata": {},
   "outputs": [
    {
     "data": {
      "text/plain": [
       "2019-06-30    8785055\n",
       "2019-07-31    8785055\n",
       "2019-08-31    8785055\n",
       "2019-09-30    8785055\n",
       "2019-10-31    8785055\n",
       "2019-11-30    8785055\n",
       "2019-12-31    8785055\n",
       "Freq: M, dtype: int64"
      ]
     },
     "execution_count": 56,
     "metadata": {},
     "output_type": "execute_result"
    }
   ],
   "source": [
    "forecast.apply(lambda x: int(x))"
   ]
  },
  {
   "cell_type": "code",
   "execution_count": 40,
   "metadata": {},
   "outputs": [],
   "source": [
    "def pred_fin(predicted, train):\n",
    "    c=pd.Index(predicted.index)\n",
    "    c=c.insert(0, pd.to_datetime(train.index[-1]))\n",
    "    lis=list(predicted.values)\n",
    "    lis.insert(0,train[-1])\n",
    "    lis=pd.Series(lis,index=c)\n",
    "    prediction_final=lis.apply(lambda x:int(x))\n",
    "    return prediction_final"
   ]
  },
  {
   "cell_type": "code",
   "execution_count": 41,
   "metadata": {},
   "outputs": [],
   "source": [
    "final_forecast=pred_fin(forecast, ts)"
   ]
  },
  {
   "cell_type": "code",
   "execution_count": 43,
   "metadata": {},
   "outputs": [
    {
     "data": {
      "image/png": "[encoded data removed]",
      "text/plain": [
       "<Figure size 1080x288 with 1 Axes>"
      ]
     },
     "metadata": {},
     "output_type": "display_data"
    }
   ],
   "source": [
    "plt.figure(figsize=(15,4))\n",
    "plt.plot(ts)\n",
    "plt.plot(final_forecast, color=\"red\")\n",
    "plt.grid(True, color=\"black\")\n",
    "plt.show()"
   ]
  },
  {
   "cell_type": "code",
   "execution_count": null,
   "metadata": {},
   "outputs": [],
   "source": []
  },
  {
   "cell_type": "markdown",
   "metadata": {},
   "source": [
    "**Simple exponential forecast**"
   ]
  },
  {
   "cell_type": "code",
   "execution_count": 44,
   "metadata": {},
   "outputs": [],
   "source": [
    "from statsmodels.tsa.holtwinters import SimpleExpSmoothing"
   ]
  },
  {
   "cell_type": "code",
   "execution_count": 45,
   "metadata": {},
   "outputs": [],
   "source": [
    "model = SimpleExpSmoothing(ts)\n",
    "model_fit = model.fit()"
   ]
  },
  {
   "cell_type": "code",
   "execution_count": 48,
   "metadata": {},
   "outputs": [
    {
     "data": {
      "text/plain": [
       "TransactionDate\n",
       "2019-01-31    27874703\n",
       "2019-02-28     8196776\n",
       "2019-03-31    16678400\n",
       "2019-04-30    16455700\n",
       "2019-05-31     1500000\n",
       "Freq: M, Name: Amount, dtype: int64"
      ]
     },
     "execution_count": 48,
     "metadata": {},
     "output_type": "execute_result"
    }
   ],
   "source": [
    "ts.tail()"
   ]
  },
  {
   "cell_type": "code",
   "execution_count": 49,
   "metadata": {},
   "outputs": [],
   "source": [
    "pred=model_fit.predict(\"2019-06-30\", \"2019-12-31\")"
   ]
  },
  {
   "cell_type": "code",
   "execution_count": 51,
   "metadata": {},
   "outputs": [],
   "source": [
    "final_forecast=pred_fin(forecast, ts)"
   ]
  },
  {
   "cell_type": "code",
   "execution_count": 52,
   "metadata": {},
   "outputs": [
    {
     "data": {
      "text/plain": [
       "2019-05-31    1500000\n",
       "2019-06-30    8785055\n",
       "2019-07-31    8785055\n",
       "2019-08-31    8785055\n",
       "2019-09-30    8785055\n",
       "2019-10-31    8785055\n",
       "2019-11-30    8785055\n",
       "2019-12-31    8785055\n",
       "Freq: M, dtype: int64"
      ]
     },
     "execution_count": 52,
     "metadata": {},
     "output_type": "execute_result"
    }
   ],
   "source": [
    "final_forecast"
   ]
  },
  {
   "cell_type": "code",
   "execution_count": 53,
   "metadata": {},
   "outputs": [
    {
     "data": {
      "image/png": "[encoded data removed]",
      "text/plain": [
       "<Figure size 1080x288 with 1 Axes>"
      ]
     },
     "metadata": {},
     "output_type": "display_data"
    }
   ],
   "source": [
    "plt.figure(figsize=(15,4))\n",
    "plt.plot(ts)\n",
    "plt.plot(final_forecast, color=\"red\")\n",
    "plt.grid(True, color=\"black\")\n",
    "plt.show()"
   ]
  },
  {
   "cell_type": "code",
   "execution_count": null,
   "metadata": {},
   "outputs": [],
   "source": []
  }
 ],
 "metadata": {
  "kernelspec": {
   "display_name": "Python 3",
   "language": "python",
   "name": "python3"
  },
  "language_info": {
   "codemirror_mode": {
    "name": "ipython",
    "version": 3
   },
   "file_extension": ".py",
   "mimetype": "text/x-python",
   "name": "python",
   "nbconvert_exporter": "python",
   "pygments_lexer": "ipython3",
   "version": "3.7.3"
  }
 },
 "nbformat": 4,
 "nbformat_minor": 2
}
